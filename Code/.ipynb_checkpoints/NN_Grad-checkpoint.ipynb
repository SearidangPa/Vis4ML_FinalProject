{
 "cells": [
  {
   "cell_type": "code",
   "execution_count": 1,
   "id": "3b93c879",
   "metadata": {},
   "outputs": [],
   "source": [
    "import pandas as pd\n",
    "import pmlb\n",
    "import altair as alt\n",
    "import numpy as np\n",
    "import os\n",
    "import pickle\n",
    "import joblib"
   ]
  },
  {
   "cell_type": "code",
   "execution_count": 2,
   "id": "682b54a2",
   "metadata": {},
   "outputs": [],
   "source": [
    "from imblearn.over_sampling import SMOTE\n",
    "from sklearn.model_selection import train_test_split, GridSearchCV\n",
    "from sklearn.neighbors import KNeighborsClassifier\n",
    "from sklearn.metrics import confusion_matrix, ConfusionMatrixDisplay, accuracy_score\n",
    "from sklearn.neural_network import MLPClassifier\n",
    "from sklearn.ensemble import RandomForestClassifier, AdaBoostClassifier"
   ]
  },
  {
   "cell_type": "code",
   "execution_count": 3,
   "id": "a440f768",
   "metadata": {},
   "outputs": [],
   "source": [
    "import shap\n",
    "from lime import lime_tabular\n",
    "import xgboost "
   ]
  },
  {
   "cell_type": "markdown",
   "id": "f07e2d4c",
   "metadata": {},
   "source": [
    "## Data Preparation"
   ]
  },
  {
   "cell_type": "code",
   "execution_count": 4,
   "id": "401e848e",
   "metadata": {},
   "outputs": [],
   "source": [
    "df = pmlb.fetch_data('pima')"
   ]
  },
  {
   "cell_type": "code",
   "execution_count": 5,
   "id": "c36ada40",
   "metadata": {},
   "outputs": [],
   "source": [
    "# impute the missing input feature values \n",
    "imputeFeatures = ['plasma glucose', 'Diastolic blood pressure', 'Triceps skin fold thickness', 'Body mass index', '2-Hour serum insulin']\n",
    "for feature in imputeFeatures:\n",
    "    df.loc[(df.target==0) & (df[feature] == 0), feature] = df[df.target==0][feature].median()\n",
    "    df.loc[(df.target==1) & (df[feature] == 0), feature] = df[df.target==1][feature].median()"
   ]
  },
  {
   "cell_type": "code",
   "execution_count": 6,
   "id": "8815bfd4",
   "metadata": {},
   "outputs": [],
   "source": [
    "# split\n",
    "X = df.drop(['target'], axis=1)\n",
    "Y = df['target']\n",
    "X_train, X_test, y_train, y_test = train_test_split(X, Y, test_size=0.25, random_state=42)"
   ]
  },
  {
   "cell_type": "markdown",
   "id": "97a4e479",
   "metadata": {},
   "source": [
    "## Machine Learning Modelling"
   ]
  },
  {
   "cell_type": "code",
   "execution_count": 7,
   "id": "1618b020",
   "metadata": {},
   "outputs": [],
   "source": [
    "Load_Trained_Model = True \n",
    "model_filename = 'SavedWeights/model.sav'"
   ]
  },
  {
   "cell_type": "code",
   "execution_count": 8,
   "id": "99f10bc0",
   "metadata": {},
   "outputs": [],
   "source": [
    "os = SMOTE(random_state=42)\n",
    "Aug_X, Aug_Y = os.fit_resample(X_train, y_train.ravel())\n",
    "\n",
    "if Load_Trained_Model:\n",
    "    model = pickle.load(open(model_filename, 'rb'))\n",
    "else: # train the model\n",
    "    model = xgboost.XGBClassifier(random_state = 42)\n",
    "    model.fit(Aug_X, Aug_Y)\n",
    "    pickle.dump(model, open(model_filename, 'wb'))"
   ]
  },
  {
   "cell_type": "code",
   "execution_count": 9,
   "id": "8ca40541",
   "metadata": {},
   "outputs": [
    {
     "name": "stdout",
     "output_type": "stream",
     "text": [
      "train accuracy:  1.0\n",
      "test accuracy:  0.890625\n"
     ]
    }
   ],
   "source": [
    "# train accuracy\n",
    "pred_train = model.predict(X_train)\n",
    "print(\"train accuracy: \", accuracy_score(pred_train, y_train))\n",
    "\n",
    "# test accuracy\n",
    "pred_test = model.predict(X_test)\n",
    "print(\"test accuracy: \", accuracy_score(pred_test, y_test))"
   ]
  },
  {
   "cell_type": "code",
   "execution_count": 10,
   "id": "62d22a71",
   "metadata": {},
   "outputs": [],
   "source": [
    "# Get the correct and incorrect prediction to a dataframe  \n",
    "df_test = X_test.copy()\n",
    "df_test['prediction'] = pred_test\n",
    "df_test['target'] = y_test\n",
    "df_test['correct'] = (df_test['prediction'] == df_test['target'])"
   ]
  },
  {
   "cell_type": "code",
   "execution_count": 11,
   "id": "0f0c4bf8",
   "metadata": {},
   "outputs": [],
   "source": [
    "# Get all predictions into the dataframe\n",
    "df['healthy_prediction_proba'] = model.predict_proba(X)[:, 0]"
   ]
  },
  {
   "cell_type": "markdown",
   "id": "d15bd7e9",
   "metadata": {},
   "source": [
    "## Confusion Matrix\n",
    "\n"
   ]
  },
  {
   "cell_type": "code",
   "execution_count": 12,
   "id": "a4aceb15",
   "metadata": {},
   "outputs": [],
   "source": [
    "cm = df_test.groupby(['target', 'prediction'], as_index=False).size()"
   ]
  },
  {
   "cell_type": "code",
   "execution_count": 13,
   "id": "50b8b16a",
   "metadata": {},
   "outputs": [
    {
     "name": "stderr",
     "output_type": "stream",
     "text": [
      "iteritems is deprecated and will be removed in a future version. Use .items instead.\n"
     ]
    },
    {
     "data": {
      "text/html": [
       "\n",
       "<div id=\"altair-viz-7b0d6f7c49ec4e4c8e125285abf60a3e\"></div>\n",
       "<script type=\"text/javascript\">\n",
       "  var VEGA_DEBUG = (typeof VEGA_DEBUG == \"undefined\") ? {} : VEGA_DEBUG;\n",
       "  (function(spec, embedOpt){\n",
       "    let outputDiv = document.currentScript.previousElementSibling;\n",
       "    if (outputDiv.id !== \"altair-viz-7b0d6f7c49ec4e4c8e125285abf60a3e\") {\n",
       "      outputDiv = document.getElementById(\"altair-viz-7b0d6f7c49ec4e4c8e125285abf60a3e\");\n",
       "    }\n",
       "    const paths = {\n",
       "      \"vega\": \"https://cdn.jsdelivr.net/npm//vega@5?noext\",\n",
       "      \"vega-lib\": \"https://cdn.jsdelivr.net/npm//vega-lib?noext\",\n",
       "      \"vega-lite\": \"https://cdn.jsdelivr.net/npm//vega-lite@4.17.0?noext\",\n",
       "      \"vega-embed\": \"https://cdn.jsdelivr.net/npm//vega-embed@6?noext\",\n",
       "    };\n",
       "\n",
       "    function maybeLoadScript(lib, version) {\n",
       "      var key = `${lib.replace(\"-\", \"\")}_version`;\n",
       "      return (VEGA_DEBUG[key] == version) ?\n",
       "        Promise.resolve(paths[lib]) :\n",
       "        new Promise(function(resolve, reject) {\n",
       "          var s = document.createElement('script');\n",
       "          document.getElementsByTagName(\"head\")[0].appendChild(s);\n",
       "          s.async = true;\n",
       "          s.onload = () => {\n",
       "            VEGA_DEBUG[key] = version;\n",
       "            return resolve(paths[lib]);\n",
       "          };\n",
       "          s.onerror = () => reject(`Error loading script: ${paths[lib]}`);\n",
       "          s.src = paths[lib];\n",
       "        });\n",
       "    }\n",
       "\n",
       "    function showError(err) {\n",
       "      outputDiv.innerHTML = `<div class=\"error\" style=\"color:red;\">${err}</div>`;\n",
       "      throw err;\n",
       "    }\n",
       "\n",
       "    function displayChart(vegaEmbed) {\n",
       "      vegaEmbed(outputDiv, spec, embedOpt)\n",
       "        .catch(err => showError(`Javascript Error: ${err.message}<br>This usually means there's a typo in your chart specification. See the javascript console for the full traceback.`));\n",
       "    }\n",
       "\n",
       "    if(typeof define === \"function\" && define.amd) {\n",
       "      requirejs.config({paths});\n",
       "      require([\"vega-embed\"], displayChart, err => showError(`Error loading script: ${err.message}`));\n",
       "    } else {\n",
       "      maybeLoadScript(\"vega\", \"5\")\n",
       "        .then(() => maybeLoadScript(\"vega-lite\", \"4.17.0\"))\n",
       "        .then(() => maybeLoadScript(\"vega-embed\", \"6\"))\n",
       "        .catch(showError)\n",
       "        .then(() => displayChart(vegaEmbed));\n",
       "    }\n",
       "  })({\"config\": {\"view\": {\"continuousWidth\": 400, \"continuousHeight\": 300}}, \"layer\": [{\"mark\": \"square\", \"encoding\": {\"color\": {\"field\": \"prediction\", \"legend\": null, \"type\": \"nominal\"}, \"opacity\": {\"field\": \"size\", \"legend\": null, \"type\": \"quantitative\"}, \"size\": {\"field\": \"size\", \"type\": \"quantitative\"}, \"x\": {\"field\": \"prediction\", \"title\": \"predicted class\", \"type\": \"nominal\"}, \"y\": {\"field\": \"target\", \"title\": \"actual class\", \"type\": \"nominal\"}}, \"height\": {\"step\": 100}, \"width\": {\"step\": 100}}, {\"mark\": \"text\", \"encoding\": {\"text\": {\"field\": \"size\", \"type\": \"quantitative\"}, \"x\": {\"field\": \"prediction\", \"title\": \"predicted class\", \"type\": \"nominal\"}, \"y\": {\"field\": \"target\", \"title\": \"actual class\", \"type\": \"nominal\"}}, \"height\": {\"step\": 100}, \"width\": {\"step\": 100}}], \"data\": {\"name\": \"data-625e097cc09bb7fde9d53b3425308ee4\"}, \"$schema\": \"https://vega.github.io/schema/vega-lite/v4.17.0.json\", \"datasets\": {\"data-625e097cc09bb7fde9d53b3425308ee4\": [{\"target\": \"healthy\", \"prediction\": \"healthy\", \"size\": 115}, {\"target\": \"healthy\", \"prediction\": \"diabetic\", \"size\": 12}, {\"target\": \"diabetic\", \"prediction\": \"healthy\", \"size\": 9}, {\"target\": \"diabetic\", \"prediction\": \"diabetic\", \"size\": 56}]}}, {\"mode\": \"vega-lite\"});\n",
       "</script>"
      ],
      "text/plain": [
       "alt.LayerChart(...)"
      ]
     },
     "execution_count": 13,
     "metadata": {},
     "output_type": "execute_result"
    }
   ],
   "source": [
    "cm_rc = cm.replace({0: 'healthy', 1: 'diabetic'})\n",
    "\n",
    "base = alt.Chart(cm_rc).encode(\n",
    "    x=alt.X('prediction:N', title='predicted class'),\n",
    "    y=alt.Y('target:N', title='actual class'),\n",
    ").properties(\n",
    "    width={'step': 100},\n",
    "    height={'step': 100}\n",
    ")\n",
    "\n",
    "rect = base.mark_square().encode(\n",
    "    color=alt.Color('prediction', legend=None),\n",
    "    opacity=alt.Opacity('size', legend=None),\n",
    "    size='size:Q'\n",
    ")\n",
    "\n",
    "text = base.mark_text().encode(\n",
    "    text='size',\n",
    ")\n",
    "\n",
    "rect + text"
   ]
  },
  {
   "cell_type": "markdown",
   "id": "f10717e0",
   "metadata": {},
   "source": [
    "## Calculating SHAP and LIME Weights"
   ]
  },
  {
   "cell_type": "code",
   "execution_count": 14,
   "id": "3ebe442c",
   "metadata": {},
   "outputs": [],
   "source": [
    "Load_Shap_Values = True\n",
    "Load_Lime_Values = False\n",
    "shap_filename = 'SavedWeights/shapValue.pkl'\n",
    "lime_filename = 'SavedWeights/limeValue.pkl'"
   ]
  },
  {
   "cell_type": "markdown",
   "id": "b292fa55",
   "metadata": {},
   "source": [
    "### Extract SHAP values \n"
   ]
  },
  {
   "cell_type": "code",
   "execution_count": 15,
   "id": "56f5a627",
   "metadata": {},
   "outputs": [],
   "source": [
    "# Extract SHAP values \n",
    "if Load_Shap_Values: # load the explanation too\n",
    "    shap_values = pickle.load(open(shap_filename, 'rb'))\n",
    "else: # compute the shap values\n",
    "    # Fits the explainer\n",
    "    explainer = shap.Explainer(model.predict, X)\n",
    "    # Calculates the SHAP values - It takes some time\n",
    "    shap_values = explainer(X)\n",
    "    pickle.dump(shap_values, open(shap_filename, \"wb\"))"
   ]
  },
  {
   "cell_type": "code",
   "execution_count": 16,
   "id": "8529b86c",
   "metadata": {},
   "outputs": [],
   "source": [
    "# Embed the shap values into a dataframe\n",
    "feature_names = X.columns\n",
    "shap_df = pd.DataFrame(shap_values.values, columns = feature_names)"
   ]
  },
  {
   "cell_type": "markdown",
   "id": "5452a2ab",
   "metadata": {},
   "source": [
    "### Extract LIME values\n"
   ]
  },
  {
   "cell_type": "code",
   "execution_count": 17,
   "id": "2668f7ca",
   "metadata": {},
   "outputs": [],
   "source": [
    "# get the weights of each feature of the instance explanation \n",
    "def get_weights(exp): \n",
    "    exp_list = exp.as_map()[1]\n",
    "    exp_list = sorted(exp_list, key=lambda x: x[0])\n",
    "    exp_weight = [x[1] for x in exp_list]\n",
    "    return exp_weight"
   ]
  },
  {
   "cell_type": "code",
   "execution_count": 196,
   "id": "1d53289c",
   "metadata": {},
   "outputs": [
    {
     "data": {
      "text/plain": [
       "0.9781628"
      ]
     },
     "execution_count": 196,
     "metadata": {},
     "output_type": "execute_result"
    }
   ],
   "source": [
    "model.predict_proba(X.iloc[i:i+1])[0][1]"
   ]
  },
  {
   "cell_type": "code",
   "execution_count": 275,
   "id": "f75b9a72",
   "metadata": {},
   "outputs": [],
   "source": [
    "if Load_Lime_Values: # load the explanation too\n",
    "    lime_df = pickle.load(open(lime_filename, 'rb'))\n",
    "else:\n",
    "    lime_explainer = lime_tabular.LimeTabularExplainer(\n",
    "        training_data=np.array(X),\n",
    "        feature_names=X.columns,\n",
    "        mode='classification',\n",
    "        kernel_width = 0.7,\n",
    "        random_state = 42\n",
    "    )\n",
    "    # Get all the weights of all instances from LIME explanation object\n",
    "    weights = []\n",
    "    list_exp_data = []\n",
    "    for i in range(X.values.shape[0]):\n",
    "        exp = lime_explainer.explain_instance(\n",
    "            data_row=X.values[i],\n",
    "            num_samples = 700,\n",
    "            predict_fn=model.predict_proba\n",
    "        )\n",
    "        # Get weights\n",
    "        exp_weight = get_weights(exp)\n",
    "        weights.append(exp_weight)\n",
    "        exp_data = [exp.score, exp.intercept[1], exp.local_pred, model.predict_proba(X.iloc[i:i+1])[0][1]]\n",
    "        list_exp_data.append(exp_data)\n",
    "\n",
    "    # Create DataFrame\n",
    "    lime_df = pd.DataFrame(data=weights, columns=X.columns)\n",
    "    exp_df = pd.DataFrame(data=list_exp_data, columns=['score','intercept','local_pred', 'model_pred'])\n",
    "    pickle.dump(lime_df, open(lime_filename, \"wb\"))"
   ]
  },
  {
   "cell_type": "code",
   "execution_count": 276,
   "id": "e5e5a42e",
   "metadata": {},
   "outputs": [
    {
     "data": {
      "text/html": [
       "<div>\n",
       "<style scoped>\n",
       "    .dataframe tbody tr th:only-of-type {\n",
       "        vertical-align: middle;\n",
       "    }\n",
       "\n",
       "    .dataframe tbody tr th {\n",
       "        vertical-align: top;\n",
       "    }\n",
       "\n",
       "    .dataframe thead th {\n",
       "        text-align: right;\n",
       "    }\n",
       "</style>\n",
       "<table border=\"1\" class=\"dataframe\">\n",
       "  <thead>\n",
       "    <tr style=\"text-align: right;\">\n",
       "      <th></th>\n",
       "      <th>score</th>\n",
       "      <th>intercept</th>\n",
       "      <th>local_pred</th>\n",
       "      <th>model_pred</th>\n",
       "    </tr>\n",
       "  </thead>\n",
       "  <tbody>\n",
       "  </tbody>\n",
       "</table>\n",
       "</div>"
      ],
      "text/plain": [
       "Empty DataFrame\n",
       "Columns: [score, intercept, local_pred, model_pred]\n",
       "Index: []"
      ]
     },
     "execution_count": 276,
     "metadata": {},
     "output_type": "execute_result"
    }
   ],
   "source": [
    "exp_df[(exp_df['local_pred'] > 0.5) & (exp_df['model_pred'] < 0.5)]"
   ]
  },
  {
   "cell_type": "code",
   "execution_count": 277,
   "id": "e3bc8fb7",
   "metadata": {},
   "outputs": [
    {
     "data": {
      "text/html": [
       "<div>\n",
       "<style scoped>\n",
       "    .dataframe tbody tr th:only-of-type {\n",
       "        vertical-align: middle;\n",
       "    }\n",
       "\n",
       "    .dataframe tbody tr th {\n",
       "        vertical-align: top;\n",
       "    }\n",
       "\n",
       "    .dataframe thead th {\n",
       "        text-align: right;\n",
       "    }\n",
       "</style>\n",
       "<table border=\"1\" class=\"dataframe\">\n",
       "  <thead>\n",
       "    <tr style=\"text-align: right;\">\n",
       "      <th></th>\n",
       "      <th>score</th>\n",
       "      <th>intercept</th>\n",
       "      <th>local_pred</th>\n",
       "      <th>model_pred</th>\n",
       "    </tr>\n",
       "  </thead>\n",
       "  <tbody>\n",
       "    <tr>\n",
       "      <th>555</th>\n",
       "      <td>0.07412</td>\n",
       "      <td>0.315567</td>\n",
       "      <td>[0.44074097320644884]</td>\n",
       "      <td>0.997015</td>\n",
       "    </tr>\n",
       "  </tbody>\n",
       "</table>\n",
       "</div>"
      ],
      "text/plain": [
       "       score  intercept             local_pred  model_pred\n",
       "555  0.07412   0.315567  [0.44074097320644884]    0.997015"
      ]
     },
     "execution_count": 277,
     "metadata": {},
     "output_type": "execute_result"
    }
   ],
   "source": [
    "exp_df[(exp_df['local_pred'] < 0.5) & (exp_df['model_pred'] > 0.5)]"
   ]
  },
  {
   "cell_type": "markdown",
   "id": "f43be361",
   "metadata": {},
   "source": [
    "## Explanation Analysis: Overall Feature Importance Weights"
   ]
  },
  {
   "cell_type": "code",
   "execution_count": 278,
   "id": "d0c1af66",
   "metadata": {},
   "outputs": [
    {
     "name": "stderr",
     "output_type": "stream",
     "text": [
      "iteritems is deprecated and will be removed in a future version. Use .items instead.\n"
     ]
    },
    {
     "data": {
      "text/html": [
       "\n",
       "<div id=\"altair-viz-744793d743054448a799f9bfa7d311a5\"></div>\n",
       "<script type=\"text/javascript\">\n",
       "  var VEGA_DEBUG = (typeof VEGA_DEBUG == \"undefined\") ? {} : VEGA_DEBUG;\n",
       "  (function(spec, embedOpt){\n",
       "    let outputDiv = document.currentScript.previousElementSibling;\n",
       "    if (outputDiv.id !== \"altair-viz-744793d743054448a799f9bfa7d311a5\") {\n",
       "      outputDiv = document.getElementById(\"altair-viz-744793d743054448a799f9bfa7d311a5\");\n",
       "    }\n",
       "    const paths = {\n",
       "      \"vega\": \"https://cdn.jsdelivr.net/npm//vega@5?noext\",\n",
       "      \"vega-lib\": \"https://cdn.jsdelivr.net/npm//vega-lib?noext\",\n",
       "      \"vega-lite\": \"https://cdn.jsdelivr.net/npm//vega-lite@4.17.0?noext\",\n",
       "      \"vega-embed\": \"https://cdn.jsdelivr.net/npm//vega-embed@6?noext\",\n",
       "    };\n",
       "\n",
       "    function maybeLoadScript(lib, version) {\n",
       "      var key = `${lib.replace(\"-\", \"\")}_version`;\n",
       "      return (VEGA_DEBUG[key] == version) ?\n",
       "        Promise.resolve(paths[lib]) :\n",
       "        new Promise(function(resolve, reject) {\n",
       "          var s = document.createElement('script');\n",
       "          document.getElementsByTagName(\"head\")[0].appendChild(s);\n",
       "          s.async = true;\n",
       "          s.onload = () => {\n",
       "            VEGA_DEBUG[key] = version;\n",
       "            return resolve(paths[lib]);\n",
       "          };\n",
       "          s.onerror = () => reject(`Error loading script: ${paths[lib]}`);\n",
       "          s.src = paths[lib];\n",
       "        });\n",
       "    }\n",
       "\n",
       "    function showError(err) {\n",
       "      outputDiv.innerHTML = `<div class=\"error\" style=\"color:red;\">${err}</div>`;\n",
       "      throw err;\n",
       "    }\n",
       "\n",
       "    function displayChart(vegaEmbed) {\n",
       "      vegaEmbed(outputDiv, spec, embedOpt)\n",
       "        .catch(err => showError(`Javascript Error: ${err.message}<br>This usually means there's a typo in your chart specification. See the javascript console for the full traceback.`));\n",
       "    }\n",
       "\n",
       "    if(typeof define === \"function\" && define.amd) {\n",
       "      requirejs.config({paths});\n",
       "      require([\"vega-embed\"], displayChart, err => showError(`Error loading script: ${err.message}`));\n",
       "    } else {\n",
       "      maybeLoadScript(\"vega\", \"5\")\n",
       "        .then(() => maybeLoadScript(\"vega-lite\", \"4.17.0\"))\n",
       "        .then(() => maybeLoadScript(\"vega-embed\", \"6\"))\n",
       "        .catch(showError)\n",
       "        .then(() => displayChart(vegaEmbed));\n",
       "    }\n",
       "  })({\"config\": {\"view\": {\"continuousWidth\": 400, \"continuousHeight\": 300}}, \"hconcat\": [{\"data\": {\"name\": \"data-de953cbbb93bc0aea2f6117157329515\"}, \"mark\": \"bar\", \"encoding\": {\"color\": {\"value\": \"purple\"}, \"x\": {\"field\": \"value\", \"title\": \"mean absolute shap value\", \"type\": \"quantitative\"}, \"y\": {\"field\": \"feature\", \"sort\": \"-x\", \"type\": \"nominal\"}}}, {\"data\": {\"name\": \"data-3bdf52eb4060a005fc9eda3671513acf\"}, \"mark\": \"bar\", \"encoding\": {\"color\": {\"value\": \"orange\"}, \"x\": {\"field\": \"value\", \"title\": \"mean absolute lime value\", \"type\": \"quantitative\"}, \"y\": {\"field\": \"feature\", \"sort\": \"-x\", \"type\": \"nominal\"}}}], \"$schema\": \"https://vega.github.io/schema/vega-lite/v4.17.0.json\", \"datasets\": {\"data-de953cbbb93bc0aea2f6117157329515\": [{\"feature\": \"Pregnant\", \"value\": 0.011335720486111108}, {\"feature\": \"plasma glucose\", \"value\": 0.07473499503968258}, {\"feature\": \"Diastolic blood pressure\", \"value\": 0.01136228918650793}, {\"feature\": \"Triceps skin fold thickness\", \"value\": 0.034223555307539656}, {\"feature\": \"2-Hour serum insulin\", \"value\": 0.2994619605654762}, {\"feature\": \"Body mass index\", \"value\": 0.023204954117063487}, {\"feature\": \"Diabetes pedigree function\", \"value\": 0.03673338293650794}, {\"feature\": \"Age\", \"value\": 0.057115110367063536}], \"data-3bdf52eb4060a005fc9eda3671513acf\": [{\"feature\": \"Pregnant\", \"value\": 0.048571916753740944}, {\"feature\": \"plasma glucose\", \"value\": 0.0757786599569274}, {\"feature\": \"Diastolic blood pressure\", \"value\": 0.046600027608035194}, {\"feature\": \"Triceps skin fold thickness\", \"value\": 0.0624579422598777}, {\"feature\": \"2-Hour serum insulin\", \"value\": 0.05374408204843461}, {\"feature\": \"Body mass index\", \"value\": 0.0524868438776431}, {\"feature\": \"Diabetes pedigree function\", \"value\": 0.05497028982644373}, {\"feature\": \"Age\", \"value\": 0.0622645893352452}]}}, {\"mode\": \"vega-lite\"});\n",
       "</script>"
      ],
      "text/plain": [
       "alt.HConcatChart(...)"
      ]
     },
     "execution_count": 278,
     "metadata": {},
     "output_type": "execute_result"
    }
   ],
   "source": [
    "mean_shap = pd.DataFrame(shap_df.abs().mean()).reset_index()\n",
    "mean_shap.columns = ['feature', 'value']\n",
    "shap_mean_chart = alt.Chart(mean_shap).mark_bar().encode(\n",
    "    y=alt.Y('feature', sort='-x'),\n",
    "    x=alt.X('value', title='mean absolute shap value'),\n",
    "    color = alt.value('purple')\n",
    ")\n",
    "\n",
    "mean_lime = pd.DataFrame(lime_df.abs().mean()).reset_index()\n",
    "mean_lime.columns = ['feature', 'value']\n",
    "lime_mean_chart = alt.Chart(mean_lime).mark_bar().encode(\n",
    "    y=alt.Y('feature', sort='-x'),\n",
    "    x=alt.X('value', title='mean absolute lime value'),\n",
    "    color = alt.value('orange')\n",
    ")\n",
    "\n",
    "shap_mean_chart | lime_mean_chart "
   ]
  },
  {
   "cell_type": "markdown",
   "id": "69c1593d",
   "metadata": {},
   "source": [
    "## Explanation Analysis: Instance Level"
   ]
  },
  {
   "cell_type": "markdown",
   "id": "bffe4890",
   "metadata": {},
   "source": [
    "### Break down the explanation weights into per feature value  "
   ]
  },
  {
   "cell_type": "code",
   "execution_count": 279,
   "id": "6f692ff9",
   "metadata": {},
   "outputs": [],
   "source": [
    "feature_important_weights = X.melt(ignore_index=False)\n",
    "feature_important_weights.columns = ['feature', 'feature_value']\n",
    "\n",
    "# shap value for each feature value \n",
    "shapley_values = shap_df.melt(ignore_index=False)\n",
    "feature_important_weights['shap_value'] = shapley_values['value']\n",
    "\n",
    "# lime weight for each feature value\n",
    "lime_weights = lime_df.melt(ignore_index=False)\n",
    "feature_important_weights['lime_weights'] = lime_weights['value'] "
   ]
  },
  {
   "cell_type": "code",
   "execution_count": 280,
   "id": "97c49608",
   "metadata": {},
   "outputs": [],
   "source": [
    "def plot_Shap_contribution(values):\n",
    "    values = values.copy()\n",
    "    \n",
    "    values['is_positive'] = values['shap_value'] > 0\n",
    "    values['feature_and_value'] = values['feature'] + ' = ' + values['feature_value'].astype(str)\n",
    "    \n",
    "    bars = alt.Chart(values).mark_bar().encode(\n",
    "        y=alt.Y('feature_and_value'),\n",
    "        x='shap_value',\n",
    "        color=alt.Color('is_positive', legend=None, scale=alt.Scale(range=['crimson', 'steelblue']))\n",
    "    )\n",
    "    \n",
    "    return bars"
   ]
  },
  {
   "cell_type": "code",
   "execution_count": 281,
   "id": "b1110344",
   "metadata": {},
   "outputs": [],
   "source": [
    "def plot_lime_contribution(values):\n",
    "    values = values.copy()\n",
    "    \n",
    "    values['is_positive'] = values['lime_weights'] > 0\n",
    "    values['feature_and_value'] = values['feature'] + ' = ' + values['feature_value'].astype(str)\n",
    "    \n",
    "    bars = alt.Chart(values).mark_bar().encode(\n",
    "        y=alt.Y('feature_and_value'),\n",
    "        x='lime_weights',\n",
    "        color=alt.Color('is_positive', legend=None, scale=alt.Scale(range=['crimson', 'steelblue']))\n",
    "    )\n",
    "    \n",
    "    return bars"
   ]
  },
  {
   "cell_type": "code",
   "execution_count": 288,
   "id": "e2a46d54",
   "metadata": {},
   "outputs": [
    {
     "name": "stderr",
     "output_type": "stream",
     "text": [
      "iteritems is deprecated and will be removed in a future version. Use .items instead.\n"
     ]
    },
    {
     "data": {
      "text/html": [
       "\n",
       "<div id=\"altair-viz-328664c0dd8e4e26ba1bfde53758df65\"></div>\n",
       "<script type=\"text/javascript\">\n",
       "  var VEGA_DEBUG = (typeof VEGA_DEBUG == \"undefined\") ? {} : VEGA_DEBUG;\n",
       "  (function(spec, embedOpt){\n",
       "    let outputDiv = document.currentScript.previousElementSibling;\n",
       "    if (outputDiv.id !== \"altair-viz-328664c0dd8e4e26ba1bfde53758df65\") {\n",
       "      outputDiv = document.getElementById(\"altair-viz-328664c0dd8e4e26ba1bfde53758df65\");\n",
       "    }\n",
       "    const paths = {\n",
       "      \"vega\": \"https://cdn.jsdelivr.net/npm//vega@5?noext\",\n",
       "      \"vega-lib\": \"https://cdn.jsdelivr.net/npm//vega-lib?noext\",\n",
       "      \"vega-lite\": \"https://cdn.jsdelivr.net/npm//vega-lite@4.17.0?noext\",\n",
       "      \"vega-embed\": \"https://cdn.jsdelivr.net/npm//vega-embed@6?noext\",\n",
       "    };\n",
       "\n",
       "    function maybeLoadScript(lib, version) {\n",
       "      var key = `${lib.replace(\"-\", \"\")}_version`;\n",
       "      return (VEGA_DEBUG[key] == version) ?\n",
       "        Promise.resolve(paths[lib]) :\n",
       "        new Promise(function(resolve, reject) {\n",
       "          var s = document.createElement('script');\n",
       "          document.getElementsByTagName(\"head\")[0].appendChild(s);\n",
       "          s.async = true;\n",
       "          s.onload = () => {\n",
       "            VEGA_DEBUG[key] = version;\n",
       "            return resolve(paths[lib]);\n",
       "          };\n",
       "          s.onerror = () => reject(`Error loading script: ${paths[lib]}`);\n",
       "          s.src = paths[lib];\n",
       "        });\n",
       "    }\n",
       "\n",
       "    function showError(err) {\n",
       "      outputDiv.innerHTML = `<div class=\"error\" style=\"color:red;\">${err}</div>`;\n",
       "      throw err;\n",
       "    }\n",
       "\n",
       "    function displayChart(vegaEmbed) {\n",
       "      vegaEmbed(outputDiv, spec, embedOpt)\n",
       "        .catch(err => showError(`Javascript Error: ${err.message}<br>This usually means there's a typo in your chart specification. See the javascript console for the full traceback.`));\n",
       "    }\n",
       "\n",
       "    if(typeof define === \"function\" && define.amd) {\n",
       "      requirejs.config({paths});\n",
       "      require([\"vega-embed\"], displayChart, err => showError(`Error loading script: ${err.message}`));\n",
       "    } else {\n",
       "      maybeLoadScript(\"vega\", \"5\")\n",
       "        .then(() => maybeLoadScript(\"vega-lite\", \"4.17.0\"))\n",
       "        .then(() => maybeLoadScript(\"vega-embed\", \"6\"))\n",
       "        .catch(showError)\n",
       "        .then(() => displayChart(vegaEmbed));\n",
       "    }\n",
       "  })({\"config\": {\"view\": {\"continuousWidth\": 400, \"continuousHeight\": 300}}, \"hconcat\": [{\"data\": {\"name\": \"data-6073a025747e0a5e7fa9f21d06473d9b\"}, \"mark\": \"bar\", \"encoding\": {\"color\": {\"field\": \"is_positive\", \"legend\": null, \"scale\": {\"range\": [\"crimson\", \"steelblue\"]}, \"type\": \"nominal\"}, \"x\": {\"field\": \"shap_value\", \"type\": \"quantitative\"}, \"y\": {\"field\": \"feature_and_value\", \"type\": \"nominal\"}}}, {\"data\": {\"name\": \"data-41635ceb71c421cca64605bf56e740dc\"}, \"mark\": \"bar\", \"encoding\": {\"color\": {\"field\": \"is_positive\", \"legend\": null, \"scale\": {\"range\": [\"crimson\", \"steelblue\"]}, \"type\": \"nominal\"}, \"x\": {\"field\": \"lime_weights\", \"type\": \"quantitative\"}, \"y\": {\"field\": \"feature_and_value\", \"type\": \"nominal\"}}}], \"$schema\": \"https://vega.github.io/schema/vega-lite/v4.17.0.json\", \"datasets\": {\"data-6073a025747e0a5e7fa9f21d06473d9b\": [{\"feature\": \"Pregnant\", \"feature_value\": 2.0, \"shap_value\": 0.0005119047619045469, \"lime_weights\": 0.16210761241152802, \"is_positive\": true, \"feature_and_value\": \"Pregnant = 2.0\"}, {\"feature\": \"plasma glucose\", \"feature_value\": 118.0, \"shap_value\": -0.034630952380952144, \"lime_weights\": 0.018049378452617486, \"is_positive\": false, \"feature_and_value\": \"plasma glucose = 118.0\"}, {\"feature\": \"Diastolic blood pressure\", \"feature_value\": 80.0, \"shap_value\": -0.0031547619047618495, \"lime_weights\": 0.08302991533786919, \"is_positive\": false, \"feature_and_value\": \"Diastolic blood pressure = 80.0\"}, {\"feature\": \"Triceps skin fold thickness\", \"feature_value\": 27.0, \"shap_value\": 0.006892857142857141, \"lime_weights\": 0.02188567971323262, \"is_positive\": true, \"feature_and_value\": \"Triceps skin fold thickness = 27.0\"}, {\"feature\": \"2-Hour serum insulin\", \"feature_value\": 0.0, \"shap_value\": 0.6614880952380937, \"lime_weights\": 0.04025294138029841, \"is_positive\": true, \"feature_and_value\": \"2-Hour serum insulin = 0.0\"}, {\"feature\": \"Body mass index\", \"feature_value\": 42.9, \"shap_value\": 0.015202380952380943, \"lime_weights\": 0.13508524110178047, \"is_positive\": true, \"feature_and_value\": \"Body mass index = 42.9\"}, {\"feature\": \"Diabetes pedigree function\", \"feature_value\": 0.693, \"shap_value\": 0.012321428571428567, \"lime_weights\": 0.07622563175874572, \"is_positive\": true, \"feature_and_value\": \"Diabetes pedigree function = 0.693\"}, {\"feature\": \"Age\", \"feature_value\": 21.0, \"shap_value\": -0.0586309523809524, \"lime_weights\": 0.0006006764965442237, \"is_positive\": false, \"feature_and_value\": \"Age = 21.0\"}], \"data-41635ceb71c421cca64605bf56e740dc\": [{\"feature\": \"Pregnant\", \"feature_value\": 2.0, \"shap_value\": 0.0005119047619045469, \"lime_weights\": 0.16210761241152802, \"is_positive\": true, \"feature_and_value\": \"Pregnant = 2.0\"}, {\"feature\": \"plasma glucose\", \"feature_value\": 118.0, \"shap_value\": -0.034630952380952144, \"lime_weights\": 0.018049378452617486, \"is_positive\": true, \"feature_and_value\": \"plasma glucose = 118.0\"}, {\"feature\": \"Diastolic blood pressure\", \"feature_value\": 80.0, \"shap_value\": -0.0031547619047618495, \"lime_weights\": 0.08302991533786919, \"is_positive\": true, \"feature_and_value\": \"Diastolic blood pressure = 80.0\"}, {\"feature\": \"Triceps skin fold thickness\", \"feature_value\": 27.0, \"shap_value\": 0.006892857142857141, \"lime_weights\": 0.02188567971323262, \"is_positive\": true, \"feature_and_value\": \"Triceps skin fold thickness = 27.0\"}, {\"feature\": \"2-Hour serum insulin\", \"feature_value\": 0.0, \"shap_value\": 0.6614880952380937, \"lime_weights\": 0.04025294138029841, \"is_positive\": true, \"feature_and_value\": \"2-Hour serum insulin = 0.0\"}, {\"feature\": \"Body mass index\", \"feature_value\": 42.9, \"shap_value\": 0.015202380952380943, \"lime_weights\": 0.13508524110178047, \"is_positive\": true, \"feature_and_value\": \"Body mass index = 42.9\"}, {\"feature\": \"Diabetes pedigree function\", \"feature_value\": 0.693, \"shap_value\": 0.012321428571428567, \"lime_weights\": 0.07622563175874572, \"is_positive\": true, \"feature_and_value\": \"Diabetes pedigree function = 0.693\"}, {\"feature\": \"Age\", \"feature_value\": 21.0, \"shap_value\": -0.0586309523809524, \"lime_weights\": 0.0006006764965442237, \"is_positive\": true, \"feature_and_value\": \"Age = 21.0\"}]}}, {\"mode\": \"vega-lite\"});\n",
       "</script>"
      ],
      "text/plain": [
       "alt.HConcatChart(...)"
      ]
     },
     "execution_count": 288,
     "metadata": {},
     "output_type": "execute_result"
    }
   ],
   "source": [
    "# feature attribution for an instance by LIME and SHAP \n",
    "i = 2\n",
    "plot_Shap_contribution(feature_important_weights.loc[i]) | plot_lime_contribution(feature_important_weights.loc[i]) "
   ]
  },
  {
   "cell_type": "code",
   "execution_count": 289,
   "id": "3b4a940a",
   "metadata": {},
   "outputs": [
    {
     "data": {
      "text/plain": [
       "0.6473282473474098"
      ]
     },
     "execution_count": 289,
     "metadata": {},
     "output_type": "execute_result"
    }
   ],
   "source": [
    "sum(feature_important_weights.loc[i]['lime_weights'])+exp_df['intercept'][i]"
   ]
  },
  {
   "cell_type": "code",
   "execution_count": 290,
   "id": "31ced19b",
   "metadata": {},
   "outputs": [
    {
     "data": {
      "text/plain": [
       "array([0.64732825])"
      ]
     },
     "execution_count": 290,
     "metadata": {},
     "output_type": "execute_result"
    }
   ],
   "source": [
    "exp_df['local_pred'][i]"
   ]
  },
  {
   "cell_type": "code",
   "execution_count": 291,
   "id": "597a51c2",
   "metadata": {},
   "outputs": [
    {
     "data": {
      "text/plain": [
       "Pregnant                         2.000000\n",
       "plasma glucose                 118.000000\n",
       "Diastolic blood pressure        80.000000\n",
       "Triceps skin fold thickness     27.000000\n",
       "2-Hour serum insulin             0.000000\n",
       "Body mass index                 42.900000\n",
       "Diabetes pedigree function       0.693000\n",
       "Age                             21.000000\n",
       "target                           1.000000\n",
       "healthy_prediction_proba         0.005842\n",
       "Name: 2, dtype: float64"
      ]
     },
     "execution_count": 291,
     "metadata": {},
     "output_type": "execute_result"
    }
   ],
   "source": [
    "df.iloc[i]"
   ]
  },
  {
   "cell_type": "code",
   "execution_count": 286,
   "id": "f72833fd",
   "metadata": {},
   "outputs": [
    {
     "data": {
      "text/html": [
       "<div>\n",
       "<style scoped>\n",
       "    .dataframe tbody tr th:only-of-type {\n",
       "        vertical-align: middle;\n",
       "    }\n",
       "\n",
       "    .dataframe tbody tr th {\n",
       "        vertical-align: top;\n",
       "    }\n",
       "\n",
       "    .dataframe thead th {\n",
       "        text-align: right;\n",
       "    }\n",
       "</style>\n",
       "<table border=\"1\" class=\"dataframe\">\n",
       "  <thead>\n",
       "    <tr style=\"text-align: right;\">\n",
       "      <th></th>\n",
       "      <th>score</th>\n",
       "      <th>intercept</th>\n",
       "      <th>local_pred</th>\n",
       "      <th>model_pred</th>\n",
       "    </tr>\n",
       "  </thead>\n",
       "  <tbody>\n",
       "    <tr>\n",
       "      <th>0</th>\n",
       "      <td>0.196083</td>\n",
       "      <td>0.104731</td>\n",
       "      <td>[0.6179338119255552]</td>\n",
       "      <td>0.978163</td>\n",
       "    </tr>\n",
       "    <tr>\n",
       "      <th>1</th>\n",
       "      <td>0.238259</td>\n",
       "      <td>0.180769</td>\n",
       "      <td>[0.7324991682941842]</td>\n",
       "      <td>0.999927</td>\n",
       "    </tr>\n",
       "    <tr>\n",
       "      <th>2</th>\n",
       "      <td>0.196447</td>\n",
       "      <td>0.110091</td>\n",
       "      <td>[0.6473282473474098]</td>\n",
       "      <td>0.994158</td>\n",
       "    </tr>\n",
       "    <tr>\n",
       "      <th>3</th>\n",
       "      <td>0.266199</td>\n",
       "      <td>0.180417</td>\n",
       "      <td>[0.8207034095668058]</td>\n",
       "      <td>0.999492</td>\n",
       "    </tr>\n",
       "    <tr>\n",
       "      <th>4</th>\n",
       "      <td>0.272931</td>\n",
       "      <td>0.111172</td>\n",
       "      <td>[0.7429661001495105]</td>\n",
       "      <td>0.998140</td>\n",
       "    </tr>\n",
       "    <tr>\n",
       "      <th>...</th>\n",
       "      <td>...</td>\n",
       "      <td>...</td>\n",
       "      <td>...</td>\n",
       "      <td>...</td>\n",
       "    </tr>\n",
       "    <tr>\n",
       "      <th>763</th>\n",
       "      <td>0.194504</td>\n",
       "      <td>0.458610</td>\n",
       "      <td>[0.13173959613447078]</td>\n",
       "      <td>0.087916</td>\n",
       "    </tr>\n",
       "    <tr>\n",
       "      <th>764</th>\n",
       "      <td>0.072720</td>\n",
       "      <td>0.302503</td>\n",
       "      <td>[0.2066544344158802]</td>\n",
       "      <td>0.000218</td>\n",
       "    </tr>\n",
       "    <tr>\n",
       "      <th>765</th>\n",
       "      <td>0.218348</td>\n",
       "      <td>0.435935</td>\n",
       "      <td>[0.17200293863925842]</td>\n",
       "      <td>0.039270</td>\n",
       "    </tr>\n",
       "    <tr>\n",
       "      <th>766</th>\n",
       "      <td>0.093286</td>\n",
       "      <td>0.409654</td>\n",
       "      <td>[0.17048301671345475]</td>\n",
       "      <td>0.003513</td>\n",
       "    </tr>\n",
       "    <tr>\n",
       "      <th>767</th>\n",
       "      <td>0.085761</td>\n",
       "      <td>0.407777</td>\n",
       "      <td>[0.09606522990807331]</td>\n",
       "      <td>0.001385</td>\n",
       "    </tr>\n",
       "  </tbody>\n",
       "</table>\n",
       "<p>768 rows × 4 columns</p>\n",
       "</div>"
      ],
      "text/plain": [
       "        score  intercept             local_pred  model_pred\n",
       "0    0.196083   0.104731   [0.6179338119255552]    0.978163\n",
       "1    0.238259   0.180769   [0.7324991682941842]    0.999927\n",
       "2    0.196447   0.110091   [0.6473282473474098]    0.994158\n",
       "3    0.266199   0.180417   [0.8207034095668058]    0.999492\n",
       "4    0.272931   0.111172   [0.7429661001495105]    0.998140\n",
       "..        ...        ...                    ...         ...\n",
       "763  0.194504   0.458610  [0.13173959613447078]    0.087916\n",
       "764  0.072720   0.302503   [0.2066544344158802]    0.000218\n",
       "765  0.218348   0.435935  [0.17200293863925842]    0.039270\n",
       "766  0.093286   0.409654  [0.17048301671345475]    0.003513\n",
       "767  0.085761   0.407777  [0.09606522990807331]    0.001385\n",
       "\n",
       "[768 rows x 4 columns]"
      ]
     },
     "execution_count": 286,
     "metadata": {},
     "output_type": "execute_result"
    }
   ],
   "source": [
    "exp_df"
   ]
  },
  {
   "cell_type": "code",
   "execution_count": null,
   "id": "058d9009",
   "metadata": {},
   "outputs": [],
   "source": []
  },
  {
   "cell_type": "code",
   "execution_count": null,
   "id": "ae455b7d",
   "metadata": {},
   "outputs": [],
   "source": []
  },
  {
   "cell_type": "code",
   "execution_count": null,
   "id": "65dec603",
   "metadata": {},
   "outputs": [],
   "source": []
  }
 ],
 "metadata": {
  "kernelspec": {
   "display_name": "Python 3 (ipykernel)",
   "language": "python",
   "name": "python3"
  },
  "language_info": {
   "codemirror_mode": {
    "name": "ipython",
    "version": 3
   },
   "file_extension": ".py",
   "mimetype": "text/x-python",
   "name": "python",
   "nbconvert_exporter": "python",
   "pygments_lexer": "ipython3",
   "version": "3.10.6"
  }
 },
 "nbformat": 4,
 "nbformat_minor": 5
}
