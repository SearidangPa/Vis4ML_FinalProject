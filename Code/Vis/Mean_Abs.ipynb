{
 "cells": [
  {
   "cell_type": "code",
   "execution_count": 1,
   "id": "d285ac7f",
   "metadata": {},
   "outputs": [],
   "source": [
    "import pandas as pd\n",
    "import pmlb\n",
    "import altair as alt\n",
    "import numpy as np\n",
    "from sklearn.model_selection import train_test_split"
   ]
  },
  {
   "cell_type": "markdown",
   "id": "f07e2d4c",
   "metadata": {},
   "source": [
    "## Data Preparation"
   ]
  },
  {
   "cell_type": "code",
   "execution_count": 5,
   "id": "401e848e",
   "metadata": {},
   "outputs": [],
   "source": [
    "df = pmlb.fetch_data('pima')\n",
    "\n",
    "# impute the missing input feature values with the median of the target class  \n",
    "imputeFeatures = ['plasma glucose', 'Diastolic blood pressure', 'Triceps skin fold thickness', 'Body mass index', '2-Hour serum insulin']\n",
    "for feature in imputeFeatures:\n",
    "    df.loc[(df.target==0) & (df[feature] == 0), feature] = df[df.target==0][feature].median()\n",
    "    df.loc[(df.target==1) & (df[feature] == 0), feature] = df[df.target==1][feature].median()"
   ]
  },
  {
   "cell_type": "code",
   "execution_count": 7,
   "id": "8815bfd4",
   "metadata": {},
   "outputs": [],
   "source": [
    "# split and normalized \n",
    "X = df.drop(['target'], axis=1)\n",
    "Y = df['target']\n",
    "X_normalized=(X - X.mean()) / X.std()"
   ]
  },
  {
   "cell_type": "code",
   "execution_count": null,
   "id": "c30ad168",
   "metadata": {},
   "outputs": [],
   "source": []
  },
  {
   "cell_type": "code",
   "execution_count": null,
   "id": "9538b21b",
   "metadata": {},
   "outputs": [],
   "source": []
  },
  {
   "cell_type": "markdown",
   "id": "41f02785",
   "metadata": {},
   "source": [
    "## Visualize Mean Absolute Value For Each Feature "
   ]
  },
  {
   "cell_type": "code",
   "execution_count": null,
   "id": "6f692ff9",
   "metadata": {},
   "outputs": [],
   "source": [
    "feature_important_weights = X.melt(ignore_index=False)\n",
    "feature_important_weights.columns = ['feature', 'feature_value']\n",
    "\n",
    "# shap value for each feature value \n",
    "shapley_values = shap_df.melt(ignore_index=False)\n",
    "feature_important_weights['shap_value'] = shapley_values['value']\n",
    "\n",
    "# lime weight for each feature value\n",
    "lime_weights = lime_df.melt(ignore_index=False)\n",
    "feature_important_weights['lime_weights'] = lime_weights['value'] "
   ]
  },
  {
   "cell_type": "code",
   "execution_count": null,
   "id": "82a2d9ac",
   "metadata": {},
   "outputs": [],
   "source": []
  },
  {
   "cell_type": "code",
   "execution_count": null,
   "id": "c9b214a0",
   "metadata": {},
   "outputs": [],
   "source": []
  },
  {
   "cell_type": "code",
   "execution_count": null,
   "id": "02f0d00f",
   "metadata": {},
   "outputs": [],
   "source": []
  },
  {
   "cell_type": "code",
   "execution_count": null,
   "id": "1a3aa265",
   "metadata": {},
   "outputs": [],
   "source": []
  },
  {
   "cell_type": "code",
   "execution_count": null,
   "id": "05cbf876",
   "metadata": {},
   "outputs": [],
   "source": []
  },
  {
   "cell_type": "code",
   "execution_count": null,
   "id": "6dacbccc",
   "metadata": {},
   "outputs": [],
   "source": []
  },
  {
   "cell_type": "code",
   "execution_count": null,
   "id": "ec2b7ebc",
   "metadata": {},
   "outputs": [],
   "source": []
  },
  {
   "cell_type": "code",
   "execution_count": null,
   "id": "a2b345a5",
   "metadata": {},
   "outputs": [],
   "source": []
  },
  {
   "cell_type": "code",
   "execution_count": null,
   "id": "665cb2cd",
   "metadata": {},
   "outputs": [],
   "source": [
    "# Summary Strip Plot"
   ]
  }
 ],
 "metadata": {
  "kernelspec": {
   "display_name": "Python 3.8.15 ('vis4ml')",
   "language": "python",
   "name": "python3"
  },
  "language_info": {
   "codemirror_mode": {
    "name": "ipython",
    "version": 3
   },
   "file_extension": ".py",
   "mimetype": "text/x-python",
   "name": "python",
   "nbconvert_exporter": "python",
   "pygments_lexer": "ipython3",
   "version": "3.8.15"
  },
  "vscode": {
   "interpreter": {
    "hash": "20fbb24370616931cd50764ae313a2b870a17561b2316bf80eea3940ac3e7993"
   }
  }
 },
 "nbformat": 4,
 "nbformat_minor": 5
}
