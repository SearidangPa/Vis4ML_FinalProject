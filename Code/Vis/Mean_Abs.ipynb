{
 "cells": [
  {
   "cell_type": "code",
   "execution_count": 67,
   "id": "d285ac7f",
   "metadata": {},
   "outputs": [],
   "source": [
    "import pandas as pd\n",
    "import altair as alt\n",
    "from altair.expr import datum\n",
    "import warnings\n",
    "warnings.filterwarnings('ignore')"
   ]
  },
  {
   "cell_type": "code",
   "execution_count": 68,
   "id": "7efbb936",
   "metadata": {},
   "outputs": [],
   "source": [
    "# load mean_attr dataframe\n",
    "mean_attr_filename = '../Saved/4vis/mean_attr.pkl'\n",
    "mean_attr_melted = pd.read_pickle(mean_attr_filename)"
   ]
  },
  {
   "cell_type": "code",
   "execution_count": null,
   "id": "b4137932",
   "metadata": {},
   "outputs": [],
   "source": [
    "dict_method_name_to_attr_name = {\n",
    "    'shap' : 'shap_value',\n",
    "    'lime': 'lime_weight', \n",
    "    'ig':  'ig_attr', \n",
    "    'deepLift':'deepLift_attr' \n",
    "}"
   ]
  },
  {
   "attachments": {},
   "cell_type": "markdown",
   "id": "b484f5fb",
   "metadata": {},
   "source": [
    "## Make the Charts"
   ]
  },
  {
   "cell_type": "code",
   "execution_count": 85,
   "id": "30452f07",
   "metadata": {},
   "outputs": [],
   "source": [
    "## bar chart for feature attribution values and rank\n",
    "brush = alt.selection_multi(on='mouseover', toggle=True, fields=['feature_name'])\n",
    "base = alt.Chart(mean_attr_melted).mark_bar().encode(\n",
    "    opacity = alt.condition(brush, alt.value(1.0), alt.value(0.2))\n",
    ").add_selection(\n",
    "    brush\n",
    ")"
   ]
  },
  {
   "cell_type": "code",
   "execution_count": 86,
   "id": "ea04f365",
   "metadata": {},
   "outputs": [],
   "source": [
    "# place the 4 charts of mean abs feature attribution value in a grid\n",
    "row1 = alt.hconcat()\n",
    "row2 = alt.hconcat()\n",
    "i = 0\n",
    "for _, attr_name in dict_method_name_to_attr_name.items():\n",
    "    chart = base.encode(\n",
    "        y=alt.Y('feature_name', sort='-x', title = ''),\n",
    "        x= alt.X('feature_attr', title = attr_name),\n",
    "    ).transform_filter(\n",
    "        datum.method == attr_name\n",
    "    ).properties(\n",
    "        width=200,\n",
    "        height=200\n",
    "    )\n",
    "    if i < 2:\n",
    "        row1 |= chart\n",
    "    else:\n",
    "        row2 |= chart\n",
    "    i += 1\n",
    "attr_value_bar = alt.vconcat(row1, row2)"
   ]
  },
  {
   "cell_type": "code",
   "execution_count": 87,
   "id": "87b57386",
   "metadata": {},
   "outputs": [],
   "source": [
    "# group bar chart visualization for mean attr rank\n",
    "sorted_feature = mean_attr_melted[mean_attr_melted['method'] == 'sum_rank'].sort_values(by = 'feature_attr', ascending = False)['feature_name'].to_list() \n",
    "mean_attr_rank = base.mark_bar(size = 5).encode(\n",
    "    x = alt.X('method', title=''),\n",
    "    y = alt.X('feature_attr', title = 'feature_rank'),\n",
    ").transform_filter(\n",
    "    alt.FieldOneOfPredicate(field='method', oneOf= ['shap_rank', 'lime_rank', 'ig_rank', 'deepLift_rank'])\n",
    ").properties(\n",
    "    width=50,\n",
    "    height=200\n",
    ").facet(column=alt.Column('feature_name', sort = sorted_feature)) \n",
    "\n",
    "mean_attr_values_and_rank_plot = alt.hconcat(attr_value_bar, mean_attr_rank)"
   ]
  },
  {
   "attachments": {},
   "cell_type": "markdown",
   "id": "78f29d39",
   "metadata": {},
   "source": [
    "## Show the charts\n"
   ]
  },
  {
   "cell_type": "code",
   "execution_count": 90,
   "id": "ae96c000",
   "metadata": {},
   "outputs": [
    {
     "data": {
      "text/html": [
       "\n",
       "<div id=\"altair-viz-ab9b990376844fe3bc222dabe6209ecf\"></div>\n",
       "<script type=\"text/javascript\">\n",
       "  var VEGA_DEBUG = (typeof VEGA_DEBUG == \"undefined\") ? {} : VEGA_DEBUG;\n",
       "  (function(spec, embedOpt){\n",
       "    let outputDiv = document.currentScript.previousElementSibling;\n",
       "    if (outputDiv.id !== \"altair-viz-ab9b990376844fe3bc222dabe6209ecf\") {\n",
       "      outputDiv = document.getElementById(\"altair-viz-ab9b990376844fe3bc222dabe6209ecf\");\n",
       "    }\n",
       "    const paths = {\n",
       "      \"vega\": \"https://cdn.jsdelivr.net/npm//vega@5?noext\",\n",
       "      \"vega-lib\": \"https://cdn.jsdelivr.net/npm//vega-lib?noext\",\n",
       "      \"vega-lite\": \"https://cdn.jsdelivr.net/npm//vega-lite@4.17.0?noext\",\n",
       "      \"vega-embed\": \"https://cdn.jsdelivr.net/npm//vega-embed@6?noext\",\n",
       "    };\n",
       "\n",
       "    function maybeLoadScript(lib, version) {\n",
       "      var key = `${lib.replace(\"-\", \"\")}_version`;\n",
       "      return (VEGA_DEBUG[key] == version) ?\n",
       "        Promise.resolve(paths[lib]) :\n",
       "        new Promise(function(resolve, reject) {\n",
       "          var s = document.createElement('script');\n",
       "          document.getElementsByTagName(\"head\")[0].appendChild(s);\n",
       "          s.async = true;\n",
       "          s.onload = () => {\n",
       "            VEGA_DEBUG[key] = version;\n",
       "            return resolve(paths[lib]);\n",
       "          };\n",
       "          s.onerror = () => reject(`Error loading script: ${paths[lib]}`);\n",
       "          s.src = paths[lib];\n",
       "        });\n",
       "    }\n",
       "\n",
       "    function showError(err) {\n",
       "      outputDiv.innerHTML = `<div class=\"error\" style=\"color:red;\">${err}</div>`;\n",
       "      throw err;\n",
       "    }\n",
       "\n",
       "    function displayChart(vegaEmbed) {\n",
       "      vegaEmbed(outputDiv, spec, embedOpt)\n",
       "        .catch(err => showError(`Javascript Error: ${err.message}<br>This usually means there's a typo in your chart specification. See the javascript console for the full traceback.`));\n",
       "    }\n",
       "\n",
       "    if(typeof define === \"function\" && define.amd) {\n",
       "      requirejs.config({paths});\n",
       "      require([\"vega-embed\"], displayChart, err => showError(`Error loading script: ${err.message}`));\n",
       "    } else {\n",
       "      maybeLoadScript(\"vega\", \"5\")\n",
       "        .then(() => maybeLoadScript(\"vega-lite\", \"4.17.0\"))\n",
       "        .then(() => maybeLoadScript(\"vega-embed\", \"6\"))\n",
       "        .catch(showError)\n",
       "        .then(() => displayChart(vegaEmbed));\n",
       "    }\n",
       "  })({\"config\": {\"view\": {\"continuousWidth\": 400, \"continuousHeight\": 300}}, \"hconcat\": [{\"vconcat\": [{\"hconcat\": [{\"mark\": \"bar\", \"encoding\": {\"opacity\": {\"condition\": {\"value\": 1.0, \"selection\": \"selector007\"}, \"value\": 0.2}, \"x\": {\"field\": \"feature_attr\", \"title\": \"shap_value\", \"type\": \"quantitative\"}, \"y\": {\"field\": \"feature_name\", \"sort\": \"-x\", \"title\": \"\", \"type\": \"nominal\"}}, \"height\": 200, \"selection\": {\"selector007\": {\"type\": \"multi\", \"on\": \"mouseover\", \"toggle\": true, \"fields\": [\"feature_name\"]}}, \"transform\": [{\"filter\": \"(datum.method === 'shap_value')\"}], \"width\": 200}, {\"mark\": \"bar\", \"encoding\": {\"opacity\": {\"condition\": {\"value\": 1.0, \"selection\": \"selector007\"}, \"value\": 0.2}, \"x\": {\"field\": \"feature_attr\", \"title\": \"lime_weight\", \"type\": \"quantitative\"}, \"y\": {\"field\": \"feature_name\", \"sort\": \"-x\", \"title\": \"\", \"type\": \"nominal\"}}, \"height\": 200, \"selection\": {\"selector007\": {\"type\": \"multi\", \"on\": \"mouseover\", \"toggle\": true, \"fields\": [\"feature_name\"]}}, \"transform\": [{\"filter\": \"(datum.method === 'lime_weight')\"}], \"width\": 200}]}, {\"hconcat\": [{\"mark\": \"bar\", \"encoding\": {\"opacity\": {\"condition\": {\"value\": 1.0, \"selection\": \"selector007\"}, \"value\": 0.2}, \"x\": {\"field\": \"feature_attr\", \"title\": \"ig_attr\", \"type\": \"quantitative\"}, \"y\": {\"field\": \"feature_name\", \"sort\": \"-x\", \"title\": \"\", \"type\": \"nominal\"}}, \"height\": 200, \"selection\": {\"selector007\": {\"type\": \"multi\", \"on\": \"mouseover\", \"toggle\": true, \"fields\": [\"feature_name\"]}}, \"transform\": [{\"filter\": \"(datum.method === 'ig_attr')\"}], \"width\": 200}, {\"mark\": \"bar\", \"encoding\": {\"opacity\": {\"condition\": {\"value\": 1.0, \"selection\": \"selector007\"}, \"value\": 0.2}, \"x\": {\"field\": \"feature_attr\", \"title\": \"deepLift_attr\", \"type\": \"quantitative\"}, \"y\": {\"field\": \"feature_name\", \"sort\": \"-x\", \"title\": \"\", \"type\": \"nominal\"}}, \"height\": 200, \"selection\": {\"selector007\": {\"type\": \"multi\", \"on\": \"mouseover\", \"toggle\": true, \"fields\": [\"feature_name\"]}}, \"transform\": [{\"filter\": \"(datum.method === 'deepLift_attr')\"}], \"width\": 200}]}]}, {\"facet\": {\"column\": {\"field\": \"feature_name\", \"sort\": [\"Insulin Level\", \"glucose\", \"Age\", \"BMI\", \"Pedigree\", \"blood pressure\", \"skin thickness\", \"Pregnant\"], \"type\": \"nominal\"}}, \"spec\": {\"mark\": {\"type\": \"bar\", \"size\": 5}, \"encoding\": {\"opacity\": {\"condition\": {\"value\": 1.0, \"selection\": \"selector007\"}, \"value\": 0.2}, \"x\": {\"field\": \"method\", \"title\": \"\", \"type\": \"nominal\"}, \"y\": {\"field\": \"feature_attr\", \"title\": \"feature_rank\", \"type\": \"quantitative\"}}, \"height\": 200, \"selection\": {\"selector007\": {\"type\": \"multi\", \"on\": \"mouseover\", \"toggle\": true, \"fields\": [\"feature_name\"]}}, \"transform\": [{\"filter\": {\"field\": \"method\", \"oneOf\": [\"shap_rank\", \"lime_rank\", \"ig_rank\", \"deepLift_rank\"]}}], \"width\": 50}}], \"data\": {\"name\": \"data-0873900faaf235c091cb30eeb0ad7df9\"}, \"$schema\": \"https://vega.github.io/schema/vega-lite/v4.17.0.json\", \"datasets\": {\"data-0873900faaf235c091cb30eeb0ad7df9\": [{\"feature_name\": \"Pregnant\", \"method\": \"shap_value\", \"feature_attr\": 0.3015545904636383}, {\"feature_name\": \"glucose\", \"method\": \"shap_value\", \"feature_attr\": 1.2920013666152954}, {\"feature_name\": \"blood pressure\", \"method\": \"shap_value\", \"feature_attr\": 0.32674503326416016}, {\"feature_name\": \"skin thickness\", \"method\": \"shap_value\", \"feature_attr\": 0.26488324999809265}, {\"feature_name\": \"Insulin Level\", \"method\": \"shap_value\", \"feature_attr\": 4.142375469207764}, {\"feature_name\": \"BMI\", \"method\": \"shap_value\", \"feature_attr\": 0.5077676177024841}, {\"feature_name\": \"Pedigree\", \"method\": \"shap_value\", \"feature_attr\": 0.6393430829048157}, {\"feature_name\": \"Age\", \"method\": \"shap_value\", \"feature_attr\": 1.503839135169983}, {\"feature_name\": \"Pregnant\", \"method\": \"lime_weight\", \"feature_attr\": 0.038771712968215105}, {\"feature_name\": \"glucose\", \"method\": \"lime_weight\", \"feature_attr\": 0.09457211908719527}, {\"feature_name\": \"blood pressure\", \"method\": \"lime_weight\", \"feature_attr\": 0.04306797735003032}, {\"feature_name\": \"skin thickness\", \"method\": \"lime_weight\", \"feature_attr\": 0.047862547158268175}, {\"feature_name\": \"Insulin Level\", \"method\": \"lime_weight\", \"feature_attr\": 0.07198162610681741}, {\"feature_name\": \"BMI\", \"method\": \"lime_weight\", \"feature_attr\": 0.06427651193589091}, {\"feature_name\": \"Pedigree\", \"method\": \"lime_weight\", \"feature_attr\": 0.053838853493480034}, {\"feature_name\": \"Age\", \"method\": \"lime_weight\", \"feature_attr\": 0.060021100806107584}, {\"feature_name\": \"Pregnant\", \"method\": \"ig_attr\", \"feature_attr\": 0.3577209077312166}, {\"feature_name\": \"glucose\", \"method\": \"ig_attr\", \"feature_attr\": 1.4367382568611589}, {\"feature_name\": \"blood pressure\", \"method\": \"ig_attr\", \"feature_attr\": 0.3965443684688011}, {\"feature_name\": \"skin thickness\", \"method\": \"ig_attr\", \"feature_attr\": 0.35086379044328764}, {\"feature_name\": \"Insulin Level\", \"method\": \"ig_attr\", \"feature_attr\": 7.666115880509132}, {\"feature_name\": \"BMI\", \"method\": \"ig_attr\", \"feature_attr\": 0.7281630996812716}, {\"feature_name\": \"Pedigree\", \"method\": \"ig_attr\", \"feature_attr\": 0.7058732929870767}, {\"feature_name\": \"Age\", \"method\": \"ig_attr\", \"feature_attr\": 2.166156943102133}, {\"feature_name\": \"Pregnant\", \"method\": \"deepLift_attr\", \"feature_attr\": 0.3799718916416168}, {\"feature_name\": \"glucose\", \"method\": \"deepLift_attr\", \"feature_attr\": 1.1620569229125977}, {\"feature_name\": \"blood pressure\", \"method\": \"deepLift_attr\", \"feature_attr\": 0.4545048177242279}, {\"feature_name\": \"skin thickness\", \"method\": \"deepLift_attr\", \"feature_attr\": 0.4022427797317505}, {\"feature_name\": \"Insulin Level\", \"method\": \"deepLift_attr\", \"feature_attr\": 15.74817180633545}, {\"feature_name\": \"BMI\", \"method\": \"deepLift_attr\", \"feature_attr\": 0.8716564178466797}, {\"feature_name\": \"Pedigree\", \"method\": \"deepLift_attr\", \"feature_attr\": 0.6100168824195862}, {\"feature_name\": \"Age\", \"method\": \"deepLift_attr\", \"feature_attr\": 1.9459680318832397}, {\"feature_name\": \"Pregnant\", \"method\": \"shap_rank\", \"feature_attr\": 2.0}, {\"feature_name\": \"glucose\", \"method\": \"shap_rank\", \"feature_attr\": 6.0}, {\"feature_name\": \"blood pressure\", \"method\": \"shap_rank\", \"feature_attr\": 3.0}, {\"feature_name\": \"skin thickness\", \"method\": \"shap_rank\", \"feature_attr\": 1.0}, {\"feature_name\": \"Insulin Level\", \"method\": \"shap_rank\", \"feature_attr\": 8.0}, {\"feature_name\": \"BMI\", \"method\": \"shap_rank\", \"feature_attr\": 4.0}, {\"feature_name\": \"Pedigree\", \"method\": \"shap_rank\", \"feature_attr\": 5.0}, {\"feature_name\": \"Age\", \"method\": \"shap_rank\", \"feature_attr\": 7.0}, {\"feature_name\": \"Pregnant\", \"method\": \"lime_rank\", \"feature_attr\": 1.0}, {\"feature_name\": \"glucose\", \"method\": \"lime_rank\", \"feature_attr\": 8.0}, {\"feature_name\": \"blood pressure\", \"method\": \"lime_rank\", \"feature_attr\": 2.0}, {\"feature_name\": \"skin thickness\", \"method\": \"lime_rank\", \"feature_attr\": 3.0}, {\"feature_name\": \"Insulin Level\", \"method\": \"lime_rank\", \"feature_attr\": 7.0}, {\"feature_name\": \"BMI\", \"method\": \"lime_rank\", \"feature_attr\": 6.0}, {\"feature_name\": \"Pedigree\", \"method\": \"lime_rank\", \"feature_attr\": 4.0}, {\"feature_name\": \"Age\", \"method\": \"lime_rank\", \"feature_attr\": 5.0}, {\"feature_name\": \"Pregnant\", \"method\": \"ig_rank\", \"feature_attr\": 2.0}, {\"feature_name\": \"glucose\", \"method\": \"ig_rank\", \"feature_attr\": 6.0}, {\"feature_name\": \"blood pressure\", \"method\": \"ig_rank\", \"feature_attr\": 3.0}, {\"feature_name\": \"skin thickness\", \"method\": \"ig_rank\", \"feature_attr\": 1.0}, {\"feature_name\": \"Insulin Level\", \"method\": \"ig_rank\", \"feature_attr\": 8.0}, {\"feature_name\": \"BMI\", \"method\": \"ig_rank\", \"feature_attr\": 5.0}, {\"feature_name\": \"Pedigree\", \"method\": \"ig_rank\", \"feature_attr\": 4.0}, {\"feature_name\": \"Age\", \"method\": \"ig_rank\", \"feature_attr\": 7.0}, {\"feature_name\": \"Pregnant\", \"method\": \"deepLift_rank\", \"feature_attr\": 1.0}, {\"feature_name\": \"glucose\", \"method\": \"deepLift_rank\", \"feature_attr\": 6.0}, {\"feature_name\": \"blood pressure\", \"method\": \"deepLift_rank\", \"feature_attr\": 3.0}, {\"feature_name\": \"skin thickness\", \"method\": \"deepLift_rank\", \"feature_attr\": 2.0}, {\"feature_name\": \"Insulin Level\", \"method\": \"deepLift_rank\", \"feature_attr\": 8.0}, {\"feature_name\": \"BMI\", \"method\": \"deepLift_rank\", \"feature_attr\": 5.0}, {\"feature_name\": \"Pedigree\", \"method\": \"deepLift_rank\", \"feature_attr\": 4.0}, {\"feature_name\": \"Age\", \"method\": \"deepLift_rank\", \"feature_attr\": 7.0}, {\"feature_name\": \"Pregnant\", \"method\": \"sum_rank\", \"feature_attr\": 6.0}, {\"feature_name\": \"glucose\", \"method\": \"sum_rank\", \"feature_attr\": 26.0}, {\"feature_name\": \"blood pressure\", \"method\": \"sum_rank\", \"feature_attr\": 11.0}, {\"feature_name\": \"skin thickness\", \"method\": \"sum_rank\", \"feature_attr\": 7.0}, {\"feature_name\": \"Insulin Level\", \"method\": \"sum_rank\", \"feature_attr\": 31.0}, {\"feature_name\": \"BMI\", \"method\": \"sum_rank\", \"feature_attr\": 20.0}, {\"feature_name\": \"Pedigree\", \"method\": \"sum_rank\", \"feature_attr\": 17.0}, {\"feature_name\": \"Age\", \"method\": \"sum_rank\", \"feature_attr\": 26.0}]}}, {\"mode\": \"vega-lite\"});\n",
       "</script>"
      ],
      "text/plain": [
       "alt.HConcatChart(...)"
      ]
     },
     "execution_count": 90,
     "metadata": {},
     "output_type": "execute_result"
    }
   ],
   "source": [
    "mean_attr_values_and_rank_plot"
   ]
  },
  {
   "cell_type": "code",
   "execution_count": null,
   "id": "9f070985",
   "metadata": {},
   "outputs": [],
   "source": []
  },
  {
   "cell_type": "code",
   "execution_count": null,
   "id": "78e1b885",
   "metadata": {},
   "outputs": [],
   "source": []
  },
  {
   "cell_type": "code",
   "execution_count": null,
   "id": "aca9b2bd",
   "metadata": {},
   "outputs": [],
   "source": []
  }
 ],
 "metadata": {
  "kernelspec": {
   "display_name": "Python 3.8.15 ('vis4ml')",
   "language": "python",
   "name": "python3"
  },
  "language_info": {
   "codemirror_mode": {
    "name": "ipython",
    "version": 3
   },
   "file_extension": ".py",
   "mimetype": "text/x-python",
   "name": "python",
   "nbconvert_exporter": "python",
   "pygments_lexer": "ipython3",
   "version": "3.8.15 (default, Nov 24 2022, 08:57:44) \n[Clang 14.0.6 ]"
  },
  "vscode": {
   "interpreter": {
    "hash": "1c02c939410ebc10a86bdbf7d3fc1c83f7b87f74a50e518f4e9691bb7f5c61a6"
   }
  }
 },
 "nbformat": 4,
 "nbformat_minor": 5
}
