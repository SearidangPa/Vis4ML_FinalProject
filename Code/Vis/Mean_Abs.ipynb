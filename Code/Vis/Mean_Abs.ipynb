{
 "cells": [
  {
   "cell_type": "code",
   "execution_count": 17,
   "id": "d285ac7f",
   "metadata": {},
   "outputs": [],
   "source": [
    "import pandas as pd\n",
    "import altair as alt"
   ]
  },
  {
   "cell_type": "code",
   "execution_count": 18,
   "id": "ec8fe94c",
   "metadata": {},
   "outputs": [],
   "source": [
    "import warnings\n",
    "warnings.filterwarnings('ignore')"
   ]
  },
  {
   "cell_type": "markdown",
   "id": "0b8a5f0b",
   "metadata": {},
   "source": [
    "### Load all the feature attributions and the model Prediction"
   ]
  },
  {
   "cell_type": "code",
   "execution_count": 19,
   "id": "c30ad168",
   "metadata": {},
   "outputs": [],
   "source": [
    "# shap \n",
    "shap_filename = '../Weights/Attr/Shap_nn.pkl'\n",
    "shap_values_df = pd.read_pickle(shap_filename)\n",
    "shap_values = shap_values_df.melt(ignore_index=False)\n",
    "\n",
    "# Lime \n",
    "lime_weights_filename = '../Weights/Attr/lime_weights.pkl'\n",
    "lime_weights_df = pd.read_pickle(lime_weights_filename)\n",
    "lime_weights = lime_weights_df.melt(ignore_index=False)\n",
    "\n",
    "# Integrated Gradients\n",
    "ig_attr_filename = '../Weights/Attr/ig_attr.pkl'\n",
    "ig_attr_df = pd.read_pickle(ig_attr_filename)\n",
    "ig_attr = ig_attr_df.melt(ignore_index=False)\n",
    "\n",
    "# Deep Lift\n",
    "deepLift_filename = '../Weights/Attr/deepLift_attr.pkl'\n",
    "deepLift_df = pd.read_pickle(deepLift_filename)\n",
    "deepLift_attr = deepLift_df.melt(ignore_index=False)\n",
    "\n",
    "# Model Prediction\n",
    "predictProb_filename = '../Weights/Model/predict_prob.pkl'\n",
    "predict_prob_df = pd.read_pickle(predictProb_filename)\n"
   ]
  },
  {
   "cell_type": "markdown",
   "id": "6aac68bd",
   "metadata": {},
   "source": [
    "## Generating Chart to be shown at the end of the notebook "
   ]
  },
  {
   "cell_type": "markdown",
   "id": "41f02785",
   "metadata": {},
   "source": [
    "### A bar chart for each method: mean absolute value of feature attributions"
   ]
  },
  {
   "cell_type": "code",
   "execution_count": 20,
   "id": "82a2d9ac",
   "metadata": {},
   "outputs": [],
   "source": [
    "mean_attr = pd.DataFrame(shap_values_df.abs().mean()).reset_index()\n",
    "mean_attr.columns = ['feature_name', 'shap']\n",
    "\n",
    "mean_attr['lime'] = lime_weights_df.abs().mean().values\n",
    "mean_attr['ig'] = ig_attr_df.abs().mean().values\n",
    "mean_attr['deepLift'] = deepLift_df.abs().mean().values"
   ]
  },
  {
   "cell_type": "code",
   "execution_count": 21,
   "id": "4c4173dc",
   "metadata": {},
   "outputs": [],
   "source": [
    "# rename feature names so that the visualization is not cluttered \n",
    "mean_attr['feature_name'][2] = 'Blood Pressure'\n",
    "mean_attr['feature_name'][3] = 'Skin thickness'\n",
    "mean_attr['feature_name'][4] = 'Insulin Level'\n",
    "mean_attr['feature_name'][6] = 'Pedigree'"
   ]
  },
  {
   "cell_type": "code",
   "execution_count": 22,
   "id": "73bd0852",
   "metadata": {},
   "outputs": [],
   "source": [
    "attr_methods = ['lime', 'shap', 'ig', 'deepLift']"
   ]
  },
  {
   "cell_type": "code",
   "execution_count": 23,
   "id": "97aec425",
   "metadata": {},
   "outputs": [],
   "source": [
    "brush = alt.selection_multi(on='mouseover', toggle=True, empty='none')\n",
    "\n",
    "base = alt.Chart(mean_attr).mark_bar().encode(\n",
    "    color=alt.condition(brush, alt.value('green'), alt.value('steelblue'))\n",
    ").add_selection(\n",
    "    brush\n",
    ").properties(\n",
    "    width=200,\n",
    "    height=200\n",
    ")"
   ]
  },
  {
   "cell_type": "code",
   "execution_count": 24,
   "id": "03a74c71",
   "metadata": {},
   "outputs": [],
   "source": [
    "lime_bar = base.encode(x='lime', y=alt.Y('feature_name', sort='-x', title = ''))\n",
    "shap_bar = base.encode(x='shap', y=alt.Y('feature_name', sort='-x', title = ''))\n",
    "ig_bar =  base.encode(x='ig', y=alt.Y('feature_name', sort='-x', title = ''))\n",
    "deepLift_bar =  base.encode(x='deepLift', y=alt.Y('feature_name', sort='-x', title = ''))\n",
    "row1 = lime_bar | shap_bar\n",
    "row2 = ig_bar | deepLift_bar\n",
    "mean_attr_bar = alt.vconcat(row1, row2)"
   ]
  },
  {
   "cell_type": "markdown",
   "id": "296c307f",
   "metadata": {},
   "source": [
    "### Group Bar Chart Approach"
   ]
  },
  {
   "cell_type": "code",
   "execution_count": 25,
   "id": "ec2b7ebc",
   "metadata": {},
   "outputs": [],
   "source": [
    "# important note: the higher the rank, the more important\n",
    "ranks_df = pd.DataFrame()\n",
    "ranks_df['feature_name'] = mean_attr['feature_name']\n",
    "for method in attr_methods:\n",
    "    ranks_df[method] = mean_attr[method].rank()"
   ]
  },
  {
   "cell_type": "code",
   "execution_count": 26,
   "id": "a084485b",
   "metadata": {},
   "outputs": [],
   "source": [
    "ranks_melted = ranks_df.melt(id_vars=['feature_name'])\n",
    "ranks_melted.columns = ['feature_name', 'method', 'feature_rank']\n",
    "ranks_df['sum'] = ranks_df.sum(axis=1)\n",
    "sorted_feature = ranks_df.sort_values(by = ['sum'], ascending = False)['feature_name'].to_list()"
   ]
  },
  {
   "cell_type": "code",
   "execution_count": 27,
   "id": "28524394",
   "metadata": {},
   "outputs": [],
   "source": [
    "# group bar chart visualization \n",
    "group_bar = alt.Chart(ranks_melted).mark_bar().encode(\n",
    "    x = alt.X('method', title=''),\n",
    "    y = 'feature_rank',\n",
    "    column=alt.Column('feature_name:N', sort=sorted_feature),\n",
    "    color='method',\n",
    "    \n",
    ")"
   ]
  },
  {
   "cell_type": "markdown",
   "id": "78f29d39",
   "metadata": {},
   "source": [
    "## Show the charts"
   ]
  },
  {
   "cell_type": "code",
   "execution_count": 28,
   "id": "ab872b7a",
   "metadata": {},
   "outputs": [
    {
     "data": {
      "text/html": [
       "\n",
       "<div id=\"altair-viz-3d399f9cb34240e2a05d2e1121b81ae8\"></div>\n",
       "<script type=\"text/javascript\">\n",
       "  var VEGA_DEBUG = (typeof VEGA_DEBUG == \"undefined\") ? {} : VEGA_DEBUG;\n",
       "  (function(spec, embedOpt){\n",
       "    let outputDiv = document.currentScript.previousElementSibling;\n",
       "    if (outputDiv.id !== \"altair-viz-3d399f9cb34240e2a05d2e1121b81ae8\") {\n",
       "      outputDiv = document.getElementById(\"altair-viz-3d399f9cb34240e2a05d2e1121b81ae8\");\n",
       "    }\n",
       "    const paths = {\n",
       "      \"vega\": \"https://cdn.jsdelivr.net/npm//vega@5?noext\",\n",
       "      \"vega-lib\": \"https://cdn.jsdelivr.net/npm//vega-lib?noext\",\n",
       "      \"vega-lite\": \"https://cdn.jsdelivr.net/npm//vega-lite@4.17.0?noext\",\n",
       "      \"vega-embed\": \"https://cdn.jsdelivr.net/npm//vega-embed@6?noext\",\n",
       "    };\n",
       "\n",
       "    function maybeLoadScript(lib, version) {\n",
       "      var key = `${lib.replace(\"-\", \"\")}_version`;\n",
       "      return (VEGA_DEBUG[key] == version) ?\n",
       "        Promise.resolve(paths[lib]) :\n",
       "        new Promise(function(resolve, reject) {\n",
       "          var s = document.createElement('script');\n",
       "          document.getElementsByTagName(\"head\")[0].appendChild(s);\n",
       "          s.async = true;\n",
       "          s.onload = () => {\n",
       "            VEGA_DEBUG[key] = version;\n",
       "            return resolve(paths[lib]);\n",
       "          };\n",
       "          s.onerror = () => reject(`Error loading script: ${paths[lib]}`);\n",
       "          s.src = paths[lib];\n",
       "        });\n",
       "    }\n",
       "\n",
       "    function showError(err) {\n",
       "      outputDiv.innerHTML = `<div class=\"error\" style=\"color:red;\">${err}</div>`;\n",
       "      throw err;\n",
       "    }\n",
       "\n",
       "    function displayChart(vegaEmbed) {\n",
       "      vegaEmbed(outputDiv, spec, embedOpt)\n",
       "        .catch(err => showError(`Javascript Error: ${err.message}<br>This usually means there's a typo in your chart specification. See the javascript console for the full traceback.`));\n",
       "    }\n",
       "\n",
       "    if(typeof define === \"function\" && define.amd) {\n",
       "      requirejs.config({paths});\n",
       "      require([\"vega-embed\"], displayChart, err => showError(`Error loading script: ${err.message}`));\n",
       "    } else {\n",
       "      maybeLoadScript(\"vega\", \"5\")\n",
       "        .then(() => maybeLoadScript(\"vega-lite\", \"4.17.0\"))\n",
       "        .then(() => maybeLoadScript(\"vega-embed\", \"6\"))\n",
       "        .catch(showError)\n",
       "        .then(() => displayChart(vegaEmbed));\n",
       "    }\n",
       "  })({\"config\": {\"view\": {\"continuousWidth\": 400, \"continuousHeight\": 300}}, \"vconcat\": [{\"hconcat\": [{\"mark\": \"bar\", \"encoding\": {\"color\": {\"condition\": {\"value\": \"green\", \"selection\": \"selector003\"}, \"value\": \"steelblue\"}, \"x\": {\"field\": \"lime\", \"type\": \"quantitative\"}, \"y\": {\"field\": \"feature_name\", \"sort\": \"-x\", \"title\": \"\", \"type\": \"nominal\"}}, \"height\": 200, \"selection\": {\"selector003\": {\"type\": \"multi\", \"on\": \"mouseover\", \"toggle\": true, \"empty\": \"none\"}}, \"width\": 200}, {\"mark\": \"bar\", \"encoding\": {\"color\": {\"condition\": {\"value\": \"green\", \"selection\": \"selector003\"}, \"value\": \"steelblue\"}, \"x\": {\"field\": \"shap\", \"type\": \"quantitative\"}, \"y\": {\"field\": \"feature_name\", \"sort\": \"-x\", \"title\": \"\", \"type\": \"nominal\"}}, \"height\": 200, \"selection\": {\"selector003\": {\"type\": \"multi\", \"on\": \"mouseover\", \"toggle\": true, \"empty\": \"none\"}}, \"width\": 200}]}, {\"hconcat\": [{\"mark\": \"bar\", \"encoding\": {\"color\": {\"condition\": {\"value\": \"green\", \"selection\": \"selector003\"}, \"value\": \"steelblue\"}, \"x\": {\"field\": \"ig\", \"type\": \"quantitative\"}, \"y\": {\"field\": \"feature_name\", \"sort\": \"-x\", \"title\": \"\", \"type\": \"nominal\"}}, \"height\": 200, \"selection\": {\"selector003\": {\"type\": \"multi\", \"on\": \"mouseover\", \"toggle\": true, \"empty\": \"none\"}}, \"width\": 200}, {\"mark\": \"bar\", \"encoding\": {\"color\": {\"condition\": {\"value\": \"green\", \"selection\": \"selector003\"}, \"value\": \"steelblue\"}, \"x\": {\"field\": \"deepLift\", \"type\": \"quantitative\"}, \"y\": {\"field\": \"feature_name\", \"sort\": \"-x\", \"title\": \"\", \"type\": \"nominal\"}}, \"height\": 200, \"selection\": {\"selector003\": {\"type\": \"multi\", \"on\": \"mouseover\", \"toggle\": true, \"empty\": \"none\"}}, \"width\": 200}]}], \"data\": {\"name\": \"data-8da264ecb7db226f5632d93b06d00422\"}, \"$schema\": \"https://vega.github.io/schema/vega-lite/v4.17.0.json\", \"datasets\": {\"data-8da264ecb7db226f5632d93b06d00422\": [{\"feature_name\": \"Pregnant\", \"shap\": 0.3051092028617859, \"lime\": 0.038771712968215105, \"ig\": 0.35896820084543307, \"deepLift\": 0.3839339017868042}, {\"feature_name\": \"plasma glucose\", \"shap\": 1.2929216623306274, \"lime\": 0.09457211908719527, \"ig\": 1.444834087590855, \"deepLift\": 1.1104081869125366}, {\"feature_name\": \"Blood Pressure\", \"shap\": 0.31768998503685, \"lime\": 0.04306797735003032, \"ig\": 0.4050037820102655, \"deepLift\": 0.4719909727573395}, {\"feature_name\": \"Skin thickness\", \"shap\": 0.26309558749198914, \"lime\": 0.047862547158268175, \"ig\": 0.32890210754093785, \"deepLift\": 0.4023776054382324}, {\"feature_name\": \"Insulin Level\", \"shap\": 4.141991138458252, \"lime\": 0.07198162610681741, \"ig\": 7.868975870710577, \"deepLift\": 15.003402709960938}, {\"feature_name\": \"Body mass index\", \"shap\": 0.5166336297988892, \"lime\": 0.06427651193589091, \"ig\": 0.7583746743123014, \"deepLift\": 0.8401525020599365}, {\"feature_name\": \"Pedigree\", \"shap\": 0.6310993432998657, \"lime\": 0.053838853493480034, \"ig\": 0.6858757222311315, \"deepLift\": 0.5959962606430054}, {\"feature_name\": \"Age\", \"shap\": 1.5162628889083862, \"lime\": 0.060021100806107584, \"ig\": 2.0818861525236776, \"deepLift\": 2.0302512645721436}]}}, {\"mode\": \"vega-lite\"});\n",
       "</script>"
      ],
      "text/plain": [
       "alt.VConcatChart(...)"
      ]
     },
     "execution_count": 28,
     "metadata": {},
     "output_type": "execute_result"
    }
   ],
   "source": [
    "mean_attr_bar"
   ]
  },
  {
   "cell_type": "code",
   "execution_count": 29,
   "id": "03f14eff",
   "metadata": {},
   "outputs": [
    {
     "data": {
      "text/html": [
       "\n",
       "<div id=\"altair-viz-4778d419deb545d4a3e43052385837c5\"></div>\n",
       "<script type=\"text/javascript\">\n",
       "  var VEGA_DEBUG = (typeof VEGA_DEBUG == \"undefined\") ? {} : VEGA_DEBUG;\n",
       "  (function(spec, embedOpt){\n",
       "    let outputDiv = document.currentScript.previousElementSibling;\n",
       "    if (outputDiv.id !== \"altair-viz-4778d419deb545d4a3e43052385837c5\") {\n",
       "      outputDiv = document.getElementById(\"altair-viz-4778d419deb545d4a3e43052385837c5\");\n",
       "    }\n",
       "    const paths = {\n",
       "      \"vega\": \"https://cdn.jsdelivr.net/npm//vega@5?noext\",\n",
       "      \"vega-lib\": \"https://cdn.jsdelivr.net/npm//vega-lib?noext\",\n",
       "      \"vega-lite\": \"https://cdn.jsdelivr.net/npm//vega-lite@4.17.0?noext\",\n",
       "      \"vega-embed\": \"https://cdn.jsdelivr.net/npm//vega-embed@6?noext\",\n",
       "    };\n",
       "\n",
       "    function maybeLoadScript(lib, version) {\n",
       "      var key = `${lib.replace(\"-\", \"\")}_version`;\n",
       "      return (VEGA_DEBUG[key] == version) ?\n",
       "        Promise.resolve(paths[lib]) :\n",
       "        new Promise(function(resolve, reject) {\n",
       "          var s = document.createElement('script');\n",
       "          document.getElementsByTagName(\"head\")[0].appendChild(s);\n",
       "          s.async = true;\n",
       "          s.onload = () => {\n",
       "            VEGA_DEBUG[key] = version;\n",
       "            return resolve(paths[lib]);\n",
       "          };\n",
       "          s.onerror = () => reject(`Error loading script: ${paths[lib]}`);\n",
       "          s.src = paths[lib];\n",
       "        });\n",
       "    }\n",
       "\n",
       "    function showError(err) {\n",
       "      outputDiv.innerHTML = `<div class=\"error\" style=\"color:red;\">${err}</div>`;\n",
       "      throw err;\n",
       "    }\n",
       "\n",
       "    function displayChart(vegaEmbed) {\n",
       "      vegaEmbed(outputDiv, spec, embedOpt)\n",
       "        .catch(err => showError(`Javascript Error: ${err.message}<br>This usually means there's a typo in your chart specification. See the javascript console for the full traceback.`));\n",
       "    }\n",
       "\n",
       "    if(typeof define === \"function\" && define.amd) {\n",
       "      requirejs.config({paths});\n",
       "      require([\"vega-embed\"], displayChart, err => showError(`Error loading script: ${err.message}`));\n",
       "    } else {\n",
       "      maybeLoadScript(\"vega\", \"5\")\n",
       "        .then(() => maybeLoadScript(\"vega-lite\", \"4.17.0\"))\n",
       "        .then(() => maybeLoadScript(\"vega-embed\", \"6\"))\n",
       "        .catch(showError)\n",
       "        .then(() => displayChart(vegaEmbed));\n",
       "    }\n",
       "  })({\"config\": {\"view\": {\"continuousWidth\": 400, \"continuousHeight\": 300}}, \"data\": {\"name\": \"data-79fc644ba4caf40d74cf188dc44d442e\"}, \"mark\": \"bar\", \"encoding\": {\"color\": {\"field\": \"method\", \"type\": \"nominal\"}, \"column\": {\"field\": \"feature_name\", \"sort\": [\"Insulin Level\", \"plasma glucose\", \"Age\", \"Body mass index\", \"Pedigree\", \"Blood Pressure\", \"Skin thickness\", \"Pregnant\"], \"type\": \"nominal\"}, \"x\": {\"field\": \"method\", \"title\": \"\", \"type\": \"nominal\"}, \"y\": {\"field\": \"feature_rank\", \"type\": \"quantitative\"}}, \"$schema\": \"https://vega.github.io/schema/vega-lite/v4.17.0.json\", \"datasets\": {\"data-79fc644ba4caf40d74cf188dc44d442e\": [{\"feature_name\": \"Pregnant\", \"method\": \"lime\", \"feature_rank\": 1.0}, {\"feature_name\": \"plasma glucose\", \"method\": \"lime\", \"feature_rank\": 8.0}, {\"feature_name\": \"Blood Pressure\", \"method\": \"lime\", \"feature_rank\": 2.0}, {\"feature_name\": \"Skin thickness\", \"method\": \"lime\", \"feature_rank\": 3.0}, {\"feature_name\": \"Insulin Level\", \"method\": \"lime\", \"feature_rank\": 7.0}, {\"feature_name\": \"Body mass index\", \"method\": \"lime\", \"feature_rank\": 6.0}, {\"feature_name\": \"Pedigree\", \"method\": \"lime\", \"feature_rank\": 4.0}, {\"feature_name\": \"Age\", \"method\": \"lime\", \"feature_rank\": 5.0}, {\"feature_name\": \"Pregnant\", \"method\": \"shap\", \"feature_rank\": 2.0}, {\"feature_name\": \"plasma glucose\", \"method\": \"shap\", \"feature_rank\": 6.0}, {\"feature_name\": \"Blood Pressure\", \"method\": \"shap\", \"feature_rank\": 3.0}, {\"feature_name\": \"Skin thickness\", \"method\": \"shap\", \"feature_rank\": 1.0}, {\"feature_name\": \"Insulin Level\", \"method\": \"shap\", \"feature_rank\": 8.0}, {\"feature_name\": \"Body mass index\", \"method\": \"shap\", \"feature_rank\": 4.0}, {\"feature_name\": \"Pedigree\", \"method\": \"shap\", \"feature_rank\": 5.0}, {\"feature_name\": \"Age\", \"method\": \"shap\", \"feature_rank\": 7.0}, {\"feature_name\": \"Pregnant\", \"method\": \"ig\", \"feature_rank\": 2.0}, {\"feature_name\": \"plasma glucose\", \"method\": \"ig\", \"feature_rank\": 6.0}, {\"feature_name\": \"Blood Pressure\", \"method\": \"ig\", \"feature_rank\": 3.0}, {\"feature_name\": \"Skin thickness\", \"method\": \"ig\", \"feature_rank\": 1.0}, {\"feature_name\": \"Insulin Level\", \"method\": \"ig\", \"feature_rank\": 8.0}, {\"feature_name\": \"Body mass index\", \"method\": \"ig\", \"feature_rank\": 5.0}, {\"feature_name\": \"Pedigree\", \"method\": \"ig\", \"feature_rank\": 4.0}, {\"feature_name\": \"Age\", \"method\": \"ig\", \"feature_rank\": 7.0}, {\"feature_name\": \"Pregnant\", \"method\": \"deepLift\", \"feature_rank\": 1.0}, {\"feature_name\": \"plasma glucose\", \"method\": \"deepLift\", \"feature_rank\": 6.0}, {\"feature_name\": \"Blood Pressure\", \"method\": \"deepLift\", \"feature_rank\": 3.0}, {\"feature_name\": \"Skin thickness\", \"method\": \"deepLift\", \"feature_rank\": 2.0}, {\"feature_name\": \"Insulin Level\", \"method\": \"deepLift\", \"feature_rank\": 8.0}, {\"feature_name\": \"Body mass index\", \"method\": \"deepLift\", \"feature_rank\": 5.0}, {\"feature_name\": \"Pedigree\", \"method\": \"deepLift\", \"feature_rank\": 4.0}, {\"feature_name\": \"Age\", \"method\": \"deepLift\", \"feature_rank\": 7.0}]}}, {\"mode\": \"vega-lite\"});\n",
       "</script>"
      ],
      "text/plain": [
       "alt.Chart(...)"
      ]
     },
     "execution_count": 29,
     "metadata": {},
     "output_type": "execute_result"
    }
   ],
   "source": [
    "group_bar"
   ]
  }
 ],
 "metadata": {
  "kernelspec": {
   "display_name": "Python 3.8.15 ('vis4ml')",
   "language": "python",
   "name": "python3"
  },
  "language_info": {
   "codemirror_mode": {
    "name": "ipython",
    "version": 3
   },
   "file_extension": ".py",
   "mimetype": "text/x-python",
   "name": "python",
   "nbconvert_exporter": "python",
   "pygments_lexer": "ipython3",
   "version": "3.8.15"
  },
  "vscode": {
   "interpreter": {
    "hash": "1c02c939410ebc10a86bdbf7d3fc1c83f7b87f74a50e518f4e9691bb7f5c61a6"
   }
  }
 },
 "nbformat": 4,
 "nbformat_minor": 5
}
