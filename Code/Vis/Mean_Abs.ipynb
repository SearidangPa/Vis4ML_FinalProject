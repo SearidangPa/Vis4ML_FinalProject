{
 "cells": [
  {
   "cell_type": "code",
   "execution_count": 141,
   "id": "d285ac7f",
   "metadata": {},
   "outputs": [],
   "source": [
    "import pandas as pd\n",
    "import altair as alt\n",
    "import numpy as np\n",
    "import pmlb"
   ]
  },
  {
   "cell_type": "code",
   "execution_count": 142,
   "id": "ec8fe94c",
   "metadata": {},
   "outputs": [],
   "source": [
    "import warnings\n",
    "warnings.filterwarnings('ignore')"
   ]
  },
  {
   "cell_type": "markdown",
   "id": "5fade0b7",
   "metadata": {},
   "source": [
    "### Load the Dataset "
   ]
  },
  {
   "cell_type": "code",
   "execution_count": 143,
   "id": "401e848e",
   "metadata": {},
   "outputs": [],
   "source": [
    "df = pmlb.fetch_data('pima')\n",
    "\n",
    "# impute the missing input feature values with the median of the target class  \n",
    "imputeFeatures = ['plasma glucose', 'Diastolic blood pressure', 'Triceps skin fold thickness', 'Body mass index', '2-Hour serum insulin']\n",
    "for feature in imputeFeatures:\n",
    "    df.loc[(df.target==0) & (df[feature] == 0), feature] = df[df.target==0][feature].median()\n",
    "    df.loc[(df.target==1) & (df[feature] == 0), feature] = df[df.target==1][feature].median()"
   ]
  },
  {
   "cell_type": "code",
   "execution_count": 144,
   "id": "8815bfd4",
   "metadata": {},
   "outputs": [],
   "source": [
    "# split and normalized \n",
    "X = df.drop(['target'], axis=1)\n",
    "y = df['target']\n",
    "X_normalized = (X - X.mean()) / X.std()"
   ]
  },
  {
   "cell_type": "markdown",
   "id": "0b8a5f0b",
   "metadata": {},
   "source": [
    "### Load all the feature attributions"
   ]
  },
  {
   "cell_type": "code",
   "execution_count": 145,
   "id": "c30ad168",
   "metadata": {},
   "outputs": [],
   "source": [
    "# shap \n",
    "shap_filename = '../Weights/Attr/Shap_nn.pkl'\n",
    "shap_values_df = pd.read_pickle(shap_filename)\n",
    "shap_values = shap_values_df.melt(ignore_index=False)\n",
    "\n",
    "# Lime \n",
    "lime_weights_filename = '../Weights/Attr/lime_weights.pkl'\n",
    "lime_weights_df = pd.read_pickle(lime_weights_filename)\n",
    "lime_weights = lime_weights_df.melt(ignore_index=False)\n",
    "\n",
    "# Integrated Gradients\n",
    "ig_attr_filename = '../Weights/Attr/ig_attr.pkl'\n",
    "ig_attr_df = pd.read_pickle(ig_attr_filename)\n",
    "ig_attr = ig_attr_df.melt(ignore_index=False)\n",
    "\n",
    "# Deep Lift\n",
    "deepLift_filename = '../Weights/Attr/deepLift_attr.pkl'\n",
    "deepLift_df = pd.read_pickle(deepLift_filename)\n",
    "deepLift_attr = deepLift_df.melt(ignore_index=False)\n"
   ]
  },
  {
   "cell_type": "code",
   "execution_count": 146,
   "id": "9538b21b",
   "metadata": {},
   "outputs": [],
   "source": [
    "# Put all feature attributions into a single dataframe\n",
    "Attr = X.melt(ignore_index=False)\n",
    "Attr.columns = ['feature', 'feature_value']\n",
    "Attr['shap_values'] = shap_values['value']\n",
    "Attr['lime_weights'] = lime_weights['value']\n",
    "Attr['ig_attr'] = ig_attr['value']\n",
    "Attr['deepLift_attr'] = deepLift_attr['value']"
   ]
  },
  {
   "cell_type": "markdown",
   "id": "41f02785",
   "metadata": {},
   "source": [
    "### Mean Absolute Value of Feature Attributions by Each Method"
   ]
  },
  {
   "cell_type": "code",
   "execution_count": 147,
   "id": "82a2d9ac",
   "metadata": {},
   "outputs": [],
   "source": [
    "mean_attr = pd.DataFrame(shap_values_df.abs().mean()).reset_index()\n",
    "mean_attr.columns = ['feature', 'shap']\n",
    "mean_attr['lime'] = lime_weights_df.abs().mean().values\n",
    "mean_attr['ig'] = ig_attr_df.abs().mean().values\n",
    "mean_attr['deepLift'] = deepLift_df.abs().mean().values"
   ]
  },
  {
   "cell_type": "code",
   "execution_count": 148,
   "id": "6dacbccc",
   "metadata": {},
   "outputs": [
    {
     "data": {
      "text/html": [
       "\n",
       "<div id=\"altair-viz-a97100c4aff041babe517b9cfb84d9b2\"></div>\n",
       "<script type=\"text/javascript\">\n",
       "  var VEGA_DEBUG = (typeof VEGA_DEBUG == \"undefined\") ? {} : VEGA_DEBUG;\n",
       "  (function(spec, embedOpt){\n",
       "    let outputDiv = document.currentScript.previousElementSibling;\n",
       "    if (outputDiv.id !== \"altair-viz-a97100c4aff041babe517b9cfb84d9b2\") {\n",
       "      outputDiv = document.getElementById(\"altair-viz-a97100c4aff041babe517b9cfb84d9b2\");\n",
       "    }\n",
       "    const paths = {\n",
       "      \"vega\": \"https://cdn.jsdelivr.net/npm//vega@5?noext\",\n",
       "      \"vega-lib\": \"https://cdn.jsdelivr.net/npm//vega-lib?noext\",\n",
       "      \"vega-lite\": \"https://cdn.jsdelivr.net/npm//vega-lite@4.17.0?noext\",\n",
       "      \"vega-embed\": \"https://cdn.jsdelivr.net/npm//vega-embed@6?noext\",\n",
       "    };\n",
       "\n",
       "    function maybeLoadScript(lib, version) {\n",
       "      var key = `${lib.replace(\"-\", \"\")}_version`;\n",
       "      return (VEGA_DEBUG[key] == version) ?\n",
       "        Promise.resolve(paths[lib]) :\n",
       "        new Promise(function(resolve, reject) {\n",
       "          var s = document.createElement('script');\n",
       "          document.getElementsByTagName(\"head\")[0].appendChild(s);\n",
       "          s.async = true;\n",
       "          s.onload = () => {\n",
       "            VEGA_DEBUG[key] = version;\n",
       "            return resolve(paths[lib]);\n",
       "          };\n",
       "          s.onerror = () => reject(`Error loading script: ${paths[lib]}`);\n",
       "          s.src = paths[lib];\n",
       "        });\n",
       "    }\n",
       "\n",
       "    function showError(err) {\n",
       "      outputDiv.innerHTML = `<div class=\"error\" style=\"color:red;\">${err}</div>`;\n",
       "      throw err;\n",
       "    }\n",
       "\n",
       "    function displayChart(vegaEmbed) {\n",
       "      vegaEmbed(outputDiv, spec, embedOpt)\n",
       "        .catch(err => showError(`Javascript Error: ${err.message}<br>This usually means there's a typo in your chart specification. See the javascript console for the full traceback.`));\n",
       "    }\n",
       "\n",
       "    if(typeof define === \"function\" && define.amd) {\n",
       "      requirejs.config({paths});\n",
       "      require([\"vega-embed\"], displayChart, err => showError(`Error loading script: ${err.message}`));\n",
       "    } else {\n",
       "      maybeLoadScript(\"vega\", \"5\")\n",
       "        .then(() => maybeLoadScript(\"vega-lite\", \"4.17.0\"))\n",
       "        .then(() => maybeLoadScript(\"vega-embed\", \"6\"))\n",
       "        .catch(showError)\n",
       "        .then(() => displayChart(vegaEmbed));\n",
       "    }\n",
       "  })({\"config\": {\"view\": {\"continuousWidth\": 400, \"continuousHeight\": 300}}, \"repeat\": {\"row\": [\"shap\", \"lime\", \"ig\", \"deepLift\"]}, \"spec\": {\"data\": {\"name\": \"data-4af422edbfc6d1501b010e51afb7880a\"}, \"mark\": \"bar\", \"encoding\": {\"x\": {\"bin\": false, \"field\": {\"repeat\": \"row\"}, \"type\": \"quantitative\"}, \"y\": {\"field\": \"feature\", \"sort\": \"-x\", \"type\": \"nominal\"}}}, \"$schema\": \"https://vega.github.io/schema/vega-lite/v4.17.0.json\", \"datasets\": {\"data-4af422edbfc6d1501b010e51afb7880a\": [{\"feature\": \"Pregnant\", \"shap\": 0.3051092028617859, \"lime\": 0.038771712968215105, \"ig\": 0.35896820084543307, \"deepLift\": 0.3839339017868042}, {\"feature\": \"plasma glucose\", \"shap\": 1.2929216623306274, \"lime\": 0.09457211908719527, \"ig\": 1.444834087590855, \"deepLift\": 1.1104081869125366}, {\"feature\": \"Diastolic blood pressure\", \"shap\": 0.31768998503685, \"lime\": 0.04306797735003032, \"ig\": 0.4050037820102655, \"deepLift\": 0.4719909727573395}, {\"feature\": \"Triceps skin fold thickness\", \"shap\": 0.26309558749198914, \"lime\": 0.047862547158268175, \"ig\": 0.32890210754093785, \"deepLift\": 0.4023776054382324}, {\"feature\": \"2-Hour serum insulin\", \"shap\": 4.141991138458252, \"lime\": 0.07198162610681741, \"ig\": 7.868975870710577, \"deepLift\": 15.003402709960938}, {\"feature\": \"Body mass index\", \"shap\": 0.5166336297988892, \"lime\": 0.06427651193589091, \"ig\": 0.7583746743123014, \"deepLift\": 0.8401525020599365}, {\"feature\": \"Diabetes pedigree function\", \"shap\": 0.6310993432998657, \"lime\": 0.053838853493480034, \"ig\": 0.6858757222311315, \"deepLift\": 0.5959962606430054}, {\"feature\": \"Age\", \"shap\": 1.5162628889083862, \"lime\": 0.060021100806107584, \"ig\": 2.0818861525236776, \"deepLift\": 2.0302512645721436}]}}, {\"mode\": \"vega-lite\"});\n",
       "</script>"
      ],
      "text/plain": [
       "alt.RepeatChart(...)"
      ]
     },
     "execution_count": 148,
     "metadata": {},
     "output_type": "execute_result"
    }
   ],
   "source": [
    "attr_methods = ['shap', 'lime', 'ig', 'deepLift']\n",
    "alt.Chart(mean_attr).mark_bar().encode(\n",
    "    y=alt.Y('feature', sort='-x'),\n",
    "    x=alt.X(alt.repeat('row'), bin=False, type='quantitative'),\n",
    ").repeat(\n",
    "    row=attr_methods\n",
    ")"
   ]
  },
  {
   "cell_type": "code",
   "execution_count": null,
   "id": "ec2b7ebc",
   "metadata": {},
   "outputs": [],
   "source": []
  },
  {
   "cell_type": "code",
   "execution_count": null,
   "id": "d3f4f6e6",
   "metadata": {},
   "outputs": [],
   "source": []
  }
 ],
 "metadata": {
  "kernelspec": {
   "display_name": "Python 3.8.15 ('vis4ml')",
   "language": "python",
   "name": "python3"
  },
  "language_info": {
   "codemirror_mode": {
    "name": "ipython",
    "version": 3
   },
   "file_extension": ".py",
   "mimetype": "text/x-python",
   "name": "python",
   "nbconvert_exporter": "python",
   "pygments_lexer": "ipython3",
   "version": "3.8.15"
  },
  "vscode": {
   "interpreter": {
    "hash": "1c02c939410ebc10a86bdbf7d3fc1c83f7b87f74a50e518f4e9691bb7f5c61a6"
   }
  }
 },
 "nbformat": 4,
 "nbformat_minor": 5
}
