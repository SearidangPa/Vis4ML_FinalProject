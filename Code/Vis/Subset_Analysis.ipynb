{
 "cells": [
  {
   "cell_type": "code",
   "execution_count": 23,
   "metadata": {},
   "outputs": [],
   "source": [
    "import pandas as pd\n",
    "import altair as alt\n",
    "from altair.expr import datum\n",
    "import warnings\n",
    "warnings.filterwarnings('ignore')"
   ]
  },
  {
   "cell_type": "code",
   "execution_count": 24,
   "metadata": {},
   "outputs": [],
   "source": [
    "## Load the dataframes \n",
    "subset_analysis_filename = '../Data/4vis/subset_analysis.pkl'\n",
    "subset_analysis_df = pd.read_pickle(subset_analysis_filename)\n",
    "\n",
    "data_filename = '../Data/Model/data.pkl'\n",
    "df =  pd.read_pickle(data_filename)\n",
    "X = df.drop(['target'], axis=1)\n",
    "y = df['target']"
   ]
  },
  {
   "cell_type": "code",
   "execution_count": 25,
   "metadata": {},
   "outputs": [],
   "source": [
    "method_name_to_attr_name = {\n",
    "    'shap' : 'shap_value',\n",
    "    'lime': 'lime_weight', \n",
    "    'ig':  'ig_attr', \n",
    "    'deepLift':'deepLift_attr' \n",
    "}\n",
    "method_name_to_feature_rank = {\n",
    "    'shap' : 'shap_rank',\n",
    "    'lime': 'lime_rank', \n",
    "    'ig':  'ig_rank', \n",
    "    'deepLift':'deepLift_rank' \n",
    "}"
   ]
  },
  {
   "cell_type": "code",
   "execution_count": 26,
   "metadata": {},
   "outputs": [],
   "source": [
    "def Get_method_to_dicts(dict_name_to_mode):\n",
    "    method_to_featNames2abs = {}\n",
    "    method_to_abs2featNames = {}\n",
    "    for method_name, attr_name in dict_name_to_mode.items():\n",
    "        featNames2abs = {}\n",
    "        abs2featNames = {}\n",
    "        for feature_name in X.columns:\n",
    "            abs_attr_name = feature_name + '_abs_' + dict_name_to_mode[method_name]\n",
    "            featNames2abs[feature_name] =  feature_name + '_abs_' + dict_name_to_mode[method_name]\n",
    "            abs2featNames[abs_attr_name] = feature_name\n",
    "        method_to_abs2featNames[method_name] = abs2featNames\n",
    "        method_to_featNames2abs[method_name] = featNames2abs\n",
    "\n",
    "    return method_to_featNames2abs, method_to_abs2featNames\n"
   ]
  },
  {
   "cell_type": "code",
   "execution_count": 27,
   "metadata": {},
   "outputs": [],
   "source": [
    "method_to_featNames2abs_attr, method_to_abs2featNames_attr = Get_method_to_dicts(method_name_to_attr_name)\n",
    "method_to_featNames2abs_rank, method_to_abs2featNames_rank = Get_method_to_dicts(method_name_to_feature_rank)"
   ]
  },
  {
   "cell_type": "code",
   "execution_count": 28,
   "metadata": {},
   "outputs": [],
   "source": [
    "# for fixing the x and y ranges of the visualization \n",
    "max_df = subset_analysis_df.max()\n",
    "min_df = subset_analysis_df.min()\n",
    "\n",
    "# base common chart\n",
    "brush = alt.selection_interval()\n",
    "base = alt.Chart(subset_analysis_df).encode(\n",
    "    opacity = alt.condition(brush, alt.value(1.0), alt.value(0.5))\n",
    ").add_selection(\n",
    "    brush\n",
    ").properties(\n",
    "    width=350,\n",
    "    height=350\n",
    ")\n"
   ]
  },
  {
   "cell_type": "code",
   "execution_count": 29,
   "metadata": {},
   "outputs": [],
   "source": [
    "def Get_sliced_mean_attr_plot_by_method(subset_analysis_df, feature_name, method_name, rank_mode):\n",
    "    method_to_featNames2abs, method_to_abs2featNames = {}, {}\n",
    "\n",
    "    if rank_mode:\n",
    "        method_to_featNames2abs, method_to_abs2featNames = Get_method_to_dicts(method_name_to_feature_rank)\n",
    "    else:\n",
    "        method_to_featNames2abs, method_to_abs2featNames = Get_method_to_dicts(method_name_to_attr_name)\n",
    "\n",
    "    feature_attr_name = feature_name + '_' + method_name_to_attr_name[method_name]\n",
    "    abs_feature_attr_name = feature_name + '_abs_' + method_name_to_attr_name[method_name]\n",
    "\n",
    "    x_title = ''\n",
    "    if rank_mode:\n",
    "        x_title = 'mean absolute rank ' + method_name\n",
    "    else:\n",
    "        x_title = 'mean absolute ' + method_name + ' attribute'\n",
    "\n",
    "    # sliced mean attr plot \n",
    "    max_rang_feature_attr = max_df[feature_attr_name]\n",
    "    min_range_feature_attr = min_df[feature_attr_name]\n",
    "    subset_analysis_df = subset_analysis_df.rename(columns = method_to_abs2featNames[method_name])\n",
    "    view_sliced_mean_attr_ = alt.Chart(subset_analysis_df).transform_fold(\n",
    "        X.columns.tolist(),\n",
    "        as_=['key', 'value']\n",
    "    ).mark_bar().encode(\n",
    "        y= alt.Y('key:N', title = 'feature_name'),\n",
    "        x= alt.X('mean(value):Q', title = x_title)\n",
    "    ).transform_filter(\n",
    "        brush\n",
    "    )\n",
    "    \n",
    "    subset_analysis_df = subset_analysis_df.rename(columns= method_to_featNames2abs[method_name])\n",
    "    return view_sliced_mean_attr_"
   ]
  },
  {
   "cell_type": "code",
   "execution_count": 30,
   "metadata": {},
   "outputs": [],
   "source": [
    "def Get_feature_value_vs_mean_attr_plot(subset_analysis_df, feature_name, rank_mode):\n",
    "    # distribution of feature value plot \n",
    "    feature_value_name = feature_name + '_value'\n",
    "    max_range_feature_value = max_df[feature_value_name]\n",
    "    min_range_feature_value = min_df[feature_value_name]\n",
    "    feature_value_bin_step = (max_range_feature_value - min_range_feature_value)/20\n",
    "\n",
    "    view_feature_value = base.mark_bar().encode(\n",
    "        x= alt.X(feature_value_name, bin=alt.Bin(step = feature_value_bin_step, extent=[min_range_feature_value, max_range_feature_value])), \n",
    "        y = alt.Y('count()'),\n",
    "        color = 'target:N'\n",
    "    )\n",
    "    \n",
    "    view_sliced_mean_attr = {}\n",
    "    row1 = alt.hconcat()\n",
    "    row2 = alt.hconcat()\n",
    "    i = 0\n",
    "    \n",
    "    for method_name in method_name_to_attr_name.keys():\n",
    "        view_sliced_mean_attr[method_name] = Get_sliced_mean_attr_plot_by_method(subset_analysis_df, feature_name, method_name, rank_mode)\n",
    "        if i < 2:\n",
    "            row1 |= view_sliced_mean_attr[method_name]\n",
    "        else:\n",
    "            row2 |= view_sliced_mean_attr[method_name]\n",
    "        i += 1\n",
    "    \n",
    "    view_sliced_mean_attr_rank = alt.vconcat(row1, row2)\n",
    "    return view_feature_value | view_sliced_mean_attr_rank "
   ]
  },
  {
   "attachments": {},
   "cell_type": "markdown",
   "metadata": {},
   "source": [
    "## Feature Value Distribution vs. Mean Absolute Attribute"
   ]
  },
  {
   "cell_type": "code",
   "execution_count": 31,
   "metadata": {},
   "outputs": [
    {
     "ename": "SchemaValidationError",
     "evalue": "Invalid specification\n\n        altair.vegalite.v4.schema.channels.OpacityValue, validating 'additionalProperties'\n\n        Additional properties are not allowed ('selection' was unexpected)\n        ",
     "output_type": "error",
     "traceback": [
      "\u001b[0;31m---------------------------------------------------------------------------\u001b[0m",
      "\u001b[0;31mSchemaValidationError\u001b[0m                     Traceback (most recent call last)",
      "File \u001b[0;32m/opt/miniconda3/envs/vis4ml/lib/python3.8/site-packages/altair/vegalite/v4/api.py:393\u001b[0m, in \u001b[0;36mTopLevelMixin.to_dict\u001b[0;34m(self, *args, **kwargs)\u001b[0m\n\u001b[1;32m    391\u001b[0m \u001b[39mif\u001b[39;00m dct \u001b[39mis\u001b[39;00m \u001b[39mNone\u001b[39;00m:\n\u001b[1;32m    392\u001b[0m     kwargs[\u001b[39m\"\u001b[39m\u001b[39mvalidate\u001b[39m\u001b[39m\"\u001b[39m] \u001b[39m=\u001b[39m \u001b[39m\"\u001b[39m\u001b[39mdeep\u001b[39m\u001b[39m\"\u001b[39m\n\u001b[0;32m--> 393\u001b[0m     dct \u001b[39m=\u001b[39m \u001b[39msuper\u001b[39;49m(TopLevelMixin, copy)\u001b[39m.\u001b[39;49mto_dict(\u001b[39m*\u001b[39;49margs, \u001b[39m*\u001b[39;49m\u001b[39m*\u001b[39;49mkwargs)\n\u001b[1;32m    395\u001b[0m \u001b[39m# TODO: following entries are added after validation. Should they be validated?\u001b[39;00m\n\u001b[1;32m    396\u001b[0m \u001b[39mif\u001b[39;00m is_top_level:\n\u001b[1;32m    397\u001b[0m     \u001b[39m# since this is top-level we add $schema if it's missing\u001b[39;00m\n",
      "File \u001b[0;32m/opt/miniconda3/envs/vis4ml/lib/python3.8/site-packages/altair/utils/schemapi.py:326\u001b[0m, in \u001b[0;36mSchemaBase.to_dict\u001b[0;34m(self, validate, ignore, context)\u001b[0m\n\u001b[1;32m    324\u001b[0m     result \u001b[39m=\u001b[39m _todict(\u001b[39mself\u001b[39m\u001b[39m.\u001b[39m_args[\u001b[39m0\u001b[39m], validate\u001b[39m=\u001b[39msub_validate, context\u001b[39m=\u001b[39mcontext)\n\u001b[1;32m    325\u001b[0m \u001b[39melif\u001b[39;00m \u001b[39mnot\u001b[39;00m \u001b[39mself\u001b[39m\u001b[39m.\u001b[39m_args:\n\u001b[0;32m--> 326\u001b[0m     result \u001b[39m=\u001b[39m _todict(\n\u001b[1;32m    327\u001b[0m         {k: v \u001b[39mfor\u001b[39;49;00m k, v \u001b[39min\u001b[39;49;00m \u001b[39mself\u001b[39;49m\u001b[39m.\u001b[39;49m_kwds\u001b[39m.\u001b[39;49mitems() \u001b[39mif\u001b[39;49;00m k \u001b[39mnot\u001b[39;49;00m \u001b[39min\u001b[39;49;00m ignore},\n\u001b[1;32m    328\u001b[0m         validate\u001b[39m=\u001b[39;49msub_validate,\n\u001b[1;32m    329\u001b[0m         context\u001b[39m=\u001b[39;49mcontext,\n\u001b[1;32m    330\u001b[0m     )\n\u001b[1;32m    331\u001b[0m \u001b[39melse\u001b[39;00m:\n\u001b[1;32m    332\u001b[0m     \u001b[39mraise\u001b[39;00m \u001b[39mValueError\u001b[39;00m(\n\u001b[1;32m    333\u001b[0m         \u001b[39m\"\u001b[39m\u001b[39m{}\u001b[39;00m\u001b[39m instance has both a value and properties : \u001b[39m\u001b[39m\"\u001b[39m\n\u001b[1;32m    334\u001b[0m         \u001b[39m\"\u001b[39m\u001b[39mcannot serialize to dict\u001b[39m\u001b[39m\"\u001b[39m\u001b[39m.\u001b[39mformat(\u001b[39mself\u001b[39m\u001b[39m.\u001b[39m\u001b[39m__class__\u001b[39m)\n\u001b[1;32m    335\u001b[0m     )\n",
      "File \u001b[0;32m/opt/miniconda3/envs/vis4ml/lib/python3.8/site-packages/altair/utils/schemapi.py:60\u001b[0m, in \u001b[0;36m_todict\u001b[0;34m(obj, validate, context)\u001b[0m\n\u001b[1;32m     58\u001b[0m     \u001b[39mreturn\u001b[39;00m [_todict(v, validate, context) \u001b[39mfor\u001b[39;00m v \u001b[39min\u001b[39;00m obj]\n\u001b[1;32m     59\u001b[0m \u001b[39melif\u001b[39;00m \u001b[39misinstance\u001b[39m(obj, \u001b[39mdict\u001b[39m):\n\u001b[0;32m---> 60\u001b[0m     \u001b[39mreturn\u001b[39;00m {\n\u001b[1;32m     61\u001b[0m         k: _todict(v, validate, context)\n\u001b[1;32m     62\u001b[0m         \u001b[39mfor\u001b[39;00m k, v \u001b[39min\u001b[39;00m obj\u001b[39m.\u001b[39mitems()\n\u001b[1;32m     63\u001b[0m         \u001b[39mif\u001b[39;00m v \u001b[39mis\u001b[39;00m \u001b[39mnot\u001b[39;00m Undefined\n\u001b[1;32m     64\u001b[0m     }\n\u001b[1;32m     65\u001b[0m \u001b[39melif\u001b[39;00m \u001b[39mhasattr\u001b[39m(obj, \u001b[39m\"\u001b[39m\u001b[39mto_dict\u001b[39m\u001b[39m\"\u001b[39m):\n\u001b[1;32m     66\u001b[0m     \u001b[39mreturn\u001b[39;00m obj\u001b[39m.\u001b[39mto_dict()\n",
      "File \u001b[0;32m/opt/miniconda3/envs/vis4ml/lib/python3.8/site-packages/altair/utils/schemapi.py:61\u001b[0m, in \u001b[0;36m<dictcomp>\u001b[0;34m(.0)\u001b[0m\n\u001b[1;32m     58\u001b[0m     \u001b[39mreturn\u001b[39;00m [_todict(v, validate, context) \u001b[39mfor\u001b[39;00m v \u001b[39min\u001b[39;00m obj]\n\u001b[1;32m     59\u001b[0m \u001b[39melif\u001b[39;00m \u001b[39misinstance\u001b[39m(obj, \u001b[39mdict\u001b[39m):\n\u001b[1;32m     60\u001b[0m     \u001b[39mreturn\u001b[39;00m {\n\u001b[0;32m---> 61\u001b[0m         k: _todict(v, validate, context)\n\u001b[1;32m     62\u001b[0m         \u001b[39mfor\u001b[39;00m k, v \u001b[39min\u001b[39;00m obj\u001b[39m.\u001b[39mitems()\n\u001b[1;32m     63\u001b[0m         \u001b[39mif\u001b[39;00m v \u001b[39mis\u001b[39;00m \u001b[39mnot\u001b[39;00m Undefined\n\u001b[1;32m     64\u001b[0m     }\n\u001b[1;32m     65\u001b[0m \u001b[39melif\u001b[39;00m \u001b[39mhasattr\u001b[39m(obj, \u001b[39m\"\u001b[39m\u001b[39mto_dict\u001b[39m\u001b[39m\"\u001b[39m):\n\u001b[1;32m     66\u001b[0m     \u001b[39mreturn\u001b[39;00m obj\u001b[39m.\u001b[39mto_dict()\n",
      "File \u001b[0;32m/opt/miniconda3/envs/vis4ml/lib/python3.8/site-packages/altair/utils/schemapi.py:58\u001b[0m, in \u001b[0;36m_todict\u001b[0;34m(obj, validate, context)\u001b[0m\n\u001b[1;32m     56\u001b[0m     \u001b[39mreturn\u001b[39;00m obj\u001b[39m.\u001b[39mto_dict(validate\u001b[39m=\u001b[39mvalidate, context\u001b[39m=\u001b[39mcontext)\n\u001b[1;32m     57\u001b[0m \u001b[39melif\u001b[39;00m \u001b[39misinstance\u001b[39m(obj, (\u001b[39mlist\u001b[39m, \u001b[39mtuple\u001b[39m, np\u001b[39m.\u001b[39mndarray)):\n\u001b[0;32m---> 58\u001b[0m     \u001b[39mreturn\u001b[39;00m [_todict(v, validate, context) \u001b[39mfor\u001b[39;00m v \u001b[39min\u001b[39;00m obj]\n\u001b[1;32m     59\u001b[0m \u001b[39melif\u001b[39;00m \u001b[39misinstance\u001b[39m(obj, \u001b[39mdict\u001b[39m):\n\u001b[1;32m     60\u001b[0m     \u001b[39mreturn\u001b[39;00m {\n\u001b[1;32m     61\u001b[0m         k: _todict(v, validate, context)\n\u001b[1;32m     62\u001b[0m         \u001b[39mfor\u001b[39;00m k, v \u001b[39min\u001b[39;00m obj\u001b[39m.\u001b[39mitems()\n\u001b[1;32m     63\u001b[0m         \u001b[39mif\u001b[39;00m v \u001b[39mis\u001b[39;00m \u001b[39mnot\u001b[39;00m Undefined\n\u001b[1;32m     64\u001b[0m     }\n",
      "File \u001b[0;32m/opt/miniconda3/envs/vis4ml/lib/python3.8/site-packages/altair/utils/schemapi.py:58\u001b[0m, in \u001b[0;36m<listcomp>\u001b[0;34m(.0)\u001b[0m\n\u001b[1;32m     56\u001b[0m     \u001b[39mreturn\u001b[39;00m obj\u001b[39m.\u001b[39mto_dict(validate\u001b[39m=\u001b[39mvalidate, context\u001b[39m=\u001b[39mcontext)\n\u001b[1;32m     57\u001b[0m \u001b[39melif\u001b[39;00m \u001b[39misinstance\u001b[39m(obj, (\u001b[39mlist\u001b[39m, \u001b[39mtuple\u001b[39m, np\u001b[39m.\u001b[39mndarray)):\n\u001b[0;32m---> 58\u001b[0m     \u001b[39mreturn\u001b[39;00m [_todict(v, validate, context) \u001b[39mfor\u001b[39;00m v \u001b[39min\u001b[39;00m obj]\n\u001b[1;32m     59\u001b[0m \u001b[39melif\u001b[39;00m \u001b[39misinstance\u001b[39m(obj, \u001b[39mdict\u001b[39m):\n\u001b[1;32m     60\u001b[0m     \u001b[39mreturn\u001b[39;00m {\n\u001b[1;32m     61\u001b[0m         k: _todict(v, validate, context)\n\u001b[1;32m     62\u001b[0m         \u001b[39mfor\u001b[39;00m k, v \u001b[39min\u001b[39;00m obj\u001b[39m.\u001b[39mitems()\n\u001b[1;32m     63\u001b[0m         \u001b[39mif\u001b[39;00m v \u001b[39mis\u001b[39;00m \u001b[39mnot\u001b[39;00m Undefined\n\u001b[1;32m     64\u001b[0m     }\n",
      "File \u001b[0;32m/opt/miniconda3/envs/vis4ml/lib/python3.8/site-packages/altair/utils/schemapi.py:56\u001b[0m, in \u001b[0;36m_todict\u001b[0;34m(obj, validate, context)\u001b[0m\n\u001b[1;32m     54\u001b[0m \u001b[39m\"\"\"Convert an object to a dict representation.\"\"\"\u001b[39;00m\n\u001b[1;32m     55\u001b[0m \u001b[39mif\u001b[39;00m \u001b[39misinstance\u001b[39m(obj, SchemaBase):\n\u001b[0;32m---> 56\u001b[0m     \u001b[39mreturn\u001b[39;00m obj\u001b[39m.\u001b[39;49mto_dict(validate\u001b[39m=\u001b[39;49mvalidate, context\u001b[39m=\u001b[39;49mcontext)\n\u001b[1;32m     57\u001b[0m \u001b[39melif\u001b[39;00m \u001b[39misinstance\u001b[39m(obj, (\u001b[39mlist\u001b[39m, \u001b[39mtuple\u001b[39m, np\u001b[39m.\u001b[39mndarray)):\n\u001b[1;32m     58\u001b[0m     \u001b[39mreturn\u001b[39;00m [_todict(v, validate, context) \u001b[39mfor\u001b[39;00m v \u001b[39min\u001b[39;00m obj]\n",
      "File \u001b[0;32m/opt/miniconda3/envs/vis4ml/lib/python3.8/site-packages/altair/vegalite/v4/api.py:2020\u001b[0m, in \u001b[0;36mChart.to_dict\u001b[0;34m(self, *args, **kwargs)\u001b[0m\n\u001b[1;32m   2018\u001b[0m     copy\u001b[39m.\u001b[39mdata \u001b[39m=\u001b[39m core\u001b[39m.\u001b[39mInlineData(values\u001b[39m=\u001b[39m[{}])\n\u001b[1;32m   2019\u001b[0m     \u001b[39mreturn\u001b[39;00m \u001b[39msuper\u001b[39m(Chart, copy)\u001b[39m.\u001b[39mto_dict(\u001b[39m*\u001b[39margs, \u001b[39m*\u001b[39m\u001b[39m*\u001b[39mkwargs)\n\u001b[0;32m-> 2020\u001b[0m \u001b[39mreturn\u001b[39;00m \u001b[39msuper\u001b[39;49m()\u001b[39m.\u001b[39;49mto_dict(\u001b[39m*\u001b[39;49margs, \u001b[39m*\u001b[39;49m\u001b[39m*\u001b[39;49mkwargs)\n",
      "File \u001b[0;32m/opt/miniconda3/envs/vis4ml/lib/python3.8/site-packages/altair/vegalite/v4/api.py:393\u001b[0m, in \u001b[0;36mTopLevelMixin.to_dict\u001b[0;34m(self, *args, **kwargs)\u001b[0m\n\u001b[1;32m    391\u001b[0m \u001b[39mif\u001b[39;00m dct \u001b[39mis\u001b[39;00m \u001b[39mNone\u001b[39;00m:\n\u001b[1;32m    392\u001b[0m     kwargs[\u001b[39m\"\u001b[39m\u001b[39mvalidate\u001b[39m\u001b[39m\"\u001b[39m] \u001b[39m=\u001b[39m \u001b[39m\"\u001b[39m\u001b[39mdeep\u001b[39m\u001b[39m\"\u001b[39m\n\u001b[0;32m--> 393\u001b[0m     dct \u001b[39m=\u001b[39m \u001b[39msuper\u001b[39;49m(TopLevelMixin, copy)\u001b[39m.\u001b[39;49mto_dict(\u001b[39m*\u001b[39;49margs, \u001b[39m*\u001b[39;49m\u001b[39m*\u001b[39;49mkwargs)\n\u001b[1;32m    395\u001b[0m \u001b[39m# TODO: following entries are added after validation. Should they be validated?\u001b[39;00m\n\u001b[1;32m    396\u001b[0m \u001b[39mif\u001b[39;00m is_top_level:\n\u001b[1;32m    397\u001b[0m     \u001b[39m# since this is top-level we add $schema if it's missing\u001b[39;00m\n",
      "File \u001b[0;32m/opt/miniconda3/envs/vis4ml/lib/python3.8/site-packages/altair/utils/schemapi.py:326\u001b[0m, in \u001b[0;36mSchemaBase.to_dict\u001b[0;34m(self, validate, ignore, context)\u001b[0m\n\u001b[1;32m    324\u001b[0m     result \u001b[39m=\u001b[39m _todict(\u001b[39mself\u001b[39m\u001b[39m.\u001b[39m_args[\u001b[39m0\u001b[39m], validate\u001b[39m=\u001b[39msub_validate, context\u001b[39m=\u001b[39mcontext)\n\u001b[1;32m    325\u001b[0m \u001b[39melif\u001b[39;00m \u001b[39mnot\u001b[39;00m \u001b[39mself\u001b[39m\u001b[39m.\u001b[39m_args:\n\u001b[0;32m--> 326\u001b[0m     result \u001b[39m=\u001b[39m _todict(\n\u001b[1;32m    327\u001b[0m         {k: v \u001b[39mfor\u001b[39;49;00m k, v \u001b[39min\u001b[39;49;00m \u001b[39mself\u001b[39;49m\u001b[39m.\u001b[39;49m_kwds\u001b[39m.\u001b[39;49mitems() \u001b[39mif\u001b[39;49;00m k \u001b[39mnot\u001b[39;49;00m \u001b[39min\u001b[39;49;00m ignore},\n\u001b[1;32m    328\u001b[0m         validate\u001b[39m=\u001b[39;49msub_validate,\n\u001b[1;32m    329\u001b[0m         context\u001b[39m=\u001b[39;49mcontext,\n\u001b[1;32m    330\u001b[0m     )\n\u001b[1;32m    331\u001b[0m \u001b[39melse\u001b[39;00m:\n\u001b[1;32m    332\u001b[0m     \u001b[39mraise\u001b[39;00m \u001b[39mValueError\u001b[39;00m(\n\u001b[1;32m    333\u001b[0m         \u001b[39m\"\u001b[39m\u001b[39m{}\u001b[39;00m\u001b[39m instance has both a value and properties : \u001b[39m\u001b[39m\"\u001b[39m\n\u001b[1;32m    334\u001b[0m         \u001b[39m\"\u001b[39m\u001b[39mcannot serialize to dict\u001b[39m\u001b[39m\"\u001b[39m\u001b[39m.\u001b[39mformat(\u001b[39mself\u001b[39m\u001b[39m.\u001b[39m\u001b[39m__class__\u001b[39m)\n\u001b[1;32m    335\u001b[0m     )\n",
      "File \u001b[0;32m/opt/miniconda3/envs/vis4ml/lib/python3.8/site-packages/altair/utils/schemapi.py:60\u001b[0m, in \u001b[0;36m_todict\u001b[0;34m(obj, validate, context)\u001b[0m\n\u001b[1;32m     58\u001b[0m     \u001b[39mreturn\u001b[39;00m [_todict(v, validate, context) \u001b[39mfor\u001b[39;00m v \u001b[39min\u001b[39;00m obj]\n\u001b[1;32m     59\u001b[0m \u001b[39melif\u001b[39;00m \u001b[39misinstance\u001b[39m(obj, \u001b[39mdict\u001b[39m):\n\u001b[0;32m---> 60\u001b[0m     \u001b[39mreturn\u001b[39;00m {\n\u001b[1;32m     61\u001b[0m         k: _todict(v, validate, context)\n\u001b[1;32m     62\u001b[0m         \u001b[39mfor\u001b[39;00m k, v \u001b[39min\u001b[39;00m obj\u001b[39m.\u001b[39mitems()\n\u001b[1;32m     63\u001b[0m         \u001b[39mif\u001b[39;00m v \u001b[39mis\u001b[39;00m \u001b[39mnot\u001b[39;00m Undefined\n\u001b[1;32m     64\u001b[0m     }\n\u001b[1;32m     65\u001b[0m \u001b[39melif\u001b[39;00m \u001b[39mhasattr\u001b[39m(obj, \u001b[39m\"\u001b[39m\u001b[39mto_dict\u001b[39m\u001b[39m\"\u001b[39m):\n\u001b[1;32m     66\u001b[0m     \u001b[39mreturn\u001b[39;00m obj\u001b[39m.\u001b[39mto_dict()\n",
      "File \u001b[0;32m/opt/miniconda3/envs/vis4ml/lib/python3.8/site-packages/altair/utils/schemapi.py:61\u001b[0m, in \u001b[0;36m<dictcomp>\u001b[0;34m(.0)\u001b[0m\n\u001b[1;32m     58\u001b[0m     \u001b[39mreturn\u001b[39;00m [_todict(v, validate, context) \u001b[39mfor\u001b[39;00m v \u001b[39min\u001b[39;00m obj]\n\u001b[1;32m     59\u001b[0m \u001b[39melif\u001b[39;00m \u001b[39misinstance\u001b[39m(obj, \u001b[39mdict\u001b[39m):\n\u001b[1;32m     60\u001b[0m     \u001b[39mreturn\u001b[39;00m {\n\u001b[0;32m---> 61\u001b[0m         k: _todict(v, validate, context)\n\u001b[1;32m     62\u001b[0m         \u001b[39mfor\u001b[39;00m k, v \u001b[39min\u001b[39;00m obj\u001b[39m.\u001b[39mitems()\n\u001b[1;32m     63\u001b[0m         \u001b[39mif\u001b[39;00m v \u001b[39mis\u001b[39;00m \u001b[39mnot\u001b[39;00m Undefined\n\u001b[1;32m     64\u001b[0m     }\n\u001b[1;32m     65\u001b[0m \u001b[39melif\u001b[39;00m \u001b[39mhasattr\u001b[39m(obj, \u001b[39m\"\u001b[39m\u001b[39mto_dict\u001b[39m\u001b[39m\"\u001b[39m):\n\u001b[1;32m     66\u001b[0m     \u001b[39mreturn\u001b[39;00m obj\u001b[39m.\u001b[39mto_dict()\n",
      "File \u001b[0;32m/opt/miniconda3/envs/vis4ml/lib/python3.8/site-packages/altair/utils/schemapi.py:56\u001b[0m, in \u001b[0;36m_todict\u001b[0;34m(obj, validate, context)\u001b[0m\n\u001b[1;32m     54\u001b[0m \u001b[39m\"\"\"Convert an object to a dict representation.\"\"\"\u001b[39;00m\n\u001b[1;32m     55\u001b[0m \u001b[39mif\u001b[39;00m \u001b[39misinstance\u001b[39m(obj, SchemaBase):\n\u001b[0;32m---> 56\u001b[0m     \u001b[39mreturn\u001b[39;00m obj\u001b[39m.\u001b[39;49mto_dict(validate\u001b[39m=\u001b[39;49mvalidate, context\u001b[39m=\u001b[39;49mcontext)\n\u001b[1;32m     57\u001b[0m \u001b[39melif\u001b[39;00m \u001b[39misinstance\u001b[39m(obj, (\u001b[39mlist\u001b[39m, \u001b[39mtuple\u001b[39m, np\u001b[39m.\u001b[39mndarray)):\n\u001b[1;32m     58\u001b[0m     \u001b[39mreturn\u001b[39;00m [_todict(v, validate, context) \u001b[39mfor\u001b[39;00m v \u001b[39min\u001b[39;00m obj]\n",
      "File \u001b[0;32m/opt/miniconda3/envs/vis4ml/lib/python3.8/site-packages/altair/utils/schemapi.py:326\u001b[0m, in \u001b[0;36mSchemaBase.to_dict\u001b[0;34m(self, validate, ignore, context)\u001b[0m\n\u001b[1;32m    324\u001b[0m     result \u001b[39m=\u001b[39m _todict(\u001b[39mself\u001b[39m\u001b[39m.\u001b[39m_args[\u001b[39m0\u001b[39m], validate\u001b[39m=\u001b[39msub_validate, context\u001b[39m=\u001b[39mcontext)\n\u001b[1;32m    325\u001b[0m \u001b[39melif\u001b[39;00m \u001b[39mnot\u001b[39;00m \u001b[39mself\u001b[39m\u001b[39m.\u001b[39m_args:\n\u001b[0;32m--> 326\u001b[0m     result \u001b[39m=\u001b[39m _todict(\n\u001b[1;32m    327\u001b[0m         {k: v \u001b[39mfor\u001b[39;49;00m k, v \u001b[39min\u001b[39;49;00m \u001b[39mself\u001b[39;49m\u001b[39m.\u001b[39;49m_kwds\u001b[39m.\u001b[39;49mitems() \u001b[39mif\u001b[39;49;00m k \u001b[39mnot\u001b[39;49;00m \u001b[39min\u001b[39;49;00m ignore},\n\u001b[1;32m    328\u001b[0m         validate\u001b[39m=\u001b[39;49msub_validate,\n\u001b[1;32m    329\u001b[0m         context\u001b[39m=\u001b[39;49mcontext,\n\u001b[1;32m    330\u001b[0m     )\n\u001b[1;32m    331\u001b[0m \u001b[39melse\u001b[39;00m:\n\u001b[1;32m    332\u001b[0m     \u001b[39mraise\u001b[39;00m \u001b[39mValueError\u001b[39;00m(\n\u001b[1;32m    333\u001b[0m         \u001b[39m\"\u001b[39m\u001b[39m{}\u001b[39;00m\u001b[39m instance has both a value and properties : \u001b[39m\u001b[39m\"\u001b[39m\n\u001b[1;32m    334\u001b[0m         \u001b[39m\"\u001b[39m\u001b[39mcannot serialize to dict\u001b[39m\u001b[39m\"\u001b[39m\u001b[39m.\u001b[39mformat(\u001b[39mself\u001b[39m\u001b[39m.\u001b[39m\u001b[39m__class__\u001b[39m)\n\u001b[1;32m    335\u001b[0m     )\n",
      "File \u001b[0;32m/opt/miniconda3/envs/vis4ml/lib/python3.8/site-packages/altair/utils/schemapi.py:60\u001b[0m, in \u001b[0;36m_todict\u001b[0;34m(obj, validate, context)\u001b[0m\n\u001b[1;32m     58\u001b[0m     \u001b[39mreturn\u001b[39;00m [_todict(v, validate, context) \u001b[39mfor\u001b[39;00m v \u001b[39min\u001b[39;00m obj]\n\u001b[1;32m     59\u001b[0m \u001b[39melif\u001b[39;00m \u001b[39misinstance\u001b[39m(obj, \u001b[39mdict\u001b[39m):\n\u001b[0;32m---> 60\u001b[0m     \u001b[39mreturn\u001b[39;00m {\n\u001b[1;32m     61\u001b[0m         k: _todict(v, validate, context)\n\u001b[1;32m     62\u001b[0m         \u001b[39mfor\u001b[39;00m k, v \u001b[39min\u001b[39;00m obj\u001b[39m.\u001b[39mitems()\n\u001b[1;32m     63\u001b[0m         \u001b[39mif\u001b[39;00m v \u001b[39mis\u001b[39;00m \u001b[39mnot\u001b[39;00m Undefined\n\u001b[1;32m     64\u001b[0m     }\n\u001b[1;32m     65\u001b[0m \u001b[39melif\u001b[39;00m \u001b[39mhasattr\u001b[39m(obj, \u001b[39m\"\u001b[39m\u001b[39mto_dict\u001b[39m\u001b[39m\"\u001b[39m):\n\u001b[1;32m     66\u001b[0m     \u001b[39mreturn\u001b[39;00m obj\u001b[39m.\u001b[39mto_dict()\n",
      "File \u001b[0;32m/opt/miniconda3/envs/vis4ml/lib/python3.8/site-packages/altair/utils/schemapi.py:61\u001b[0m, in \u001b[0;36m<dictcomp>\u001b[0;34m(.0)\u001b[0m\n\u001b[1;32m     58\u001b[0m     \u001b[39mreturn\u001b[39;00m [_todict(v, validate, context) \u001b[39mfor\u001b[39;00m v \u001b[39min\u001b[39;00m obj]\n\u001b[1;32m     59\u001b[0m \u001b[39melif\u001b[39;00m \u001b[39misinstance\u001b[39m(obj, \u001b[39mdict\u001b[39m):\n\u001b[1;32m     60\u001b[0m     \u001b[39mreturn\u001b[39;00m {\n\u001b[0;32m---> 61\u001b[0m         k: _todict(v, validate, context)\n\u001b[1;32m     62\u001b[0m         \u001b[39mfor\u001b[39;00m k, v \u001b[39min\u001b[39;00m obj\u001b[39m.\u001b[39mitems()\n\u001b[1;32m     63\u001b[0m         \u001b[39mif\u001b[39;00m v \u001b[39mis\u001b[39;00m \u001b[39mnot\u001b[39;00m Undefined\n\u001b[1;32m     64\u001b[0m     }\n\u001b[1;32m     65\u001b[0m \u001b[39melif\u001b[39;00m \u001b[39mhasattr\u001b[39m(obj, \u001b[39m\"\u001b[39m\u001b[39mto_dict\u001b[39m\u001b[39m\"\u001b[39m):\n\u001b[1;32m     66\u001b[0m     \u001b[39mreturn\u001b[39;00m obj\u001b[39m.\u001b[39mto_dict()\n",
      "File \u001b[0;32m/opt/miniconda3/envs/vis4ml/lib/python3.8/site-packages/altair/utils/schemapi.py:56\u001b[0m, in \u001b[0;36m_todict\u001b[0;34m(obj, validate, context)\u001b[0m\n\u001b[1;32m     54\u001b[0m \u001b[39m\"\"\"Convert an object to a dict representation.\"\"\"\u001b[39;00m\n\u001b[1;32m     55\u001b[0m \u001b[39mif\u001b[39;00m \u001b[39misinstance\u001b[39m(obj, SchemaBase):\n\u001b[0;32m---> 56\u001b[0m     \u001b[39mreturn\u001b[39;00m obj\u001b[39m.\u001b[39;49mto_dict(validate\u001b[39m=\u001b[39;49mvalidate, context\u001b[39m=\u001b[39;49mcontext)\n\u001b[1;32m     57\u001b[0m \u001b[39melif\u001b[39;00m \u001b[39misinstance\u001b[39m(obj, (\u001b[39mlist\u001b[39m, \u001b[39mtuple\u001b[39m, np\u001b[39m.\u001b[39mndarray)):\n\u001b[1;32m     58\u001b[0m     \u001b[39mreturn\u001b[39;00m [_todict(v, validate, context) \u001b[39mfor\u001b[39;00m v \u001b[39min\u001b[39;00m obj]\n",
      "File \u001b[0;32m/opt/miniconda3/envs/vis4ml/lib/python3.8/site-packages/altair/vegalite/v4/schema/channels.py:76\u001b[0m, in \u001b[0;36mValueChannelMixin.to_dict\u001b[0;34m(self, validate, ignore, context)\u001b[0m\n\u001b[1;32m     74\u001b[0m         copy \u001b[39m=\u001b[39m \u001b[39mself\u001b[39m\u001b[39m.\u001b[39mcopy(deep\u001b[39m=\u001b[39m[\u001b[39m'\u001b[39m\u001b[39mcondition\u001b[39m\u001b[39m'\u001b[39m])\n\u001b[1;32m     75\u001b[0m         copy\u001b[39m.\u001b[39mcondition\u001b[39m.\u001b[39mupdate(kwds)\n\u001b[0;32m---> 76\u001b[0m \u001b[39mreturn\u001b[39;00m \u001b[39msuper\u001b[39;49m(ValueChannelMixin, copy)\u001b[39m.\u001b[39;49mto_dict(validate\u001b[39m=\u001b[39;49mvalidate,\n\u001b[1;32m     77\u001b[0m                                               ignore\u001b[39m=\u001b[39;49mignore,\n\u001b[1;32m     78\u001b[0m                                               context\u001b[39m=\u001b[39;49mcontext)\n",
      "File \u001b[0;32m/opt/miniconda3/envs/vis4ml/lib/python3.8/site-packages/altair/utils/schemapi.py:326\u001b[0m, in \u001b[0;36mSchemaBase.to_dict\u001b[0;34m(self, validate, ignore, context)\u001b[0m\n\u001b[1;32m    324\u001b[0m     result \u001b[39m=\u001b[39m _todict(\u001b[39mself\u001b[39m\u001b[39m.\u001b[39m_args[\u001b[39m0\u001b[39m], validate\u001b[39m=\u001b[39msub_validate, context\u001b[39m=\u001b[39mcontext)\n\u001b[1;32m    325\u001b[0m \u001b[39melif\u001b[39;00m \u001b[39mnot\u001b[39;00m \u001b[39mself\u001b[39m\u001b[39m.\u001b[39m_args:\n\u001b[0;32m--> 326\u001b[0m     result \u001b[39m=\u001b[39m _todict(\n\u001b[1;32m    327\u001b[0m         {k: v \u001b[39mfor\u001b[39;49;00m k, v \u001b[39min\u001b[39;49;00m \u001b[39mself\u001b[39;49m\u001b[39m.\u001b[39;49m_kwds\u001b[39m.\u001b[39;49mitems() \u001b[39mif\u001b[39;49;00m k \u001b[39mnot\u001b[39;49;00m \u001b[39min\u001b[39;49;00m ignore},\n\u001b[1;32m    328\u001b[0m         validate\u001b[39m=\u001b[39;49msub_validate,\n\u001b[1;32m    329\u001b[0m         context\u001b[39m=\u001b[39;49mcontext,\n\u001b[1;32m    330\u001b[0m     )\n\u001b[1;32m    331\u001b[0m \u001b[39melse\u001b[39;00m:\n\u001b[1;32m    332\u001b[0m     \u001b[39mraise\u001b[39;00m \u001b[39mValueError\u001b[39;00m(\n\u001b[1;32m    333\u001b[0m         \u001b[39m\"\u001b[39m\u001b[39m{}\u001b[39;00m\u001b[39m instance has both a value and properties : \u001b[39m\u001b[39m\"\u001b[39m\n\u001b[1;32m    334\u001b[0m         \u001b[39m\"\u001b[39m\u001b[39mcannot serialize to dict\u001b[39m\u001b[39m\"\u001b[39m\u001b[39m.\u001b[39mformat(\u001b[39mself\u001b[39m\u001b[39m.\u001b[39m\u001b[39m__class__\u001b[39m)\n\u001b[1;32m    335\u001b[0m     )\n",
      "File \u001b[0;32m/opt/miniconda3/envs/vis4ml/lib/python3.8/site-packages/altair/utils/schemapi.py:60\u001b[0m, in \u001b[0;36m_todict\u001b[0;34m(obj, validate, context)\u001b[0m\n\u001b[1;32m     58\u001b[0m     \u001b[39mreturn\u001b[39;00m [_todict(v, validate, context) \u001b[39mfor\u001b[39;00m v \u001b[39min\u001b[39;00m obj]\n\u001b[1;32m     59\u001b[0m \u001b[39melif\u001b[39;00m \u001b[39misinstance\u001b[39m(obj, \u001b[39mdict\u001b[39m):\n\u001b[0;32m---> 60\u001b[0m     \u001b[39mreturn\u001b[39;00m {\n\u001b[1;32m     61\u001b[0m         k: _todict(v, validate, context)\n\u001b[1;32m     62\u001b[0m         \u001b[39mfor\u001b[39;00m k, v \u001b[39min\u001b[39;00m obj\u001b[39m.\u001b[39mitems()\n\u001b[1;32m     63\u001b[0m         \u001b[39mif\u001b[39;00m v \u001b[39mis\u001b[39;00m \u001b[39mnot\u001b[39;00m Undefined\n\u001b[1;32m     64\u001b[0m     }\n\u001b[1;32m     65\u001b[0m \u001b[39melif\u001b[39;00m \u001b[39mhasattr\u001b[39m(obj, \u001b[39m\"\u001b[39m\u001b[39mto_dict\u001b[39m\u001b[39m\"\u001b[39m):\n\u001b[1;32m     66\u001b[0m     \u001b[39mreturn\u001b[39;00m obj\u001b[39m.\u001b[39mto_dict()\n",
      "File \u001b[0;32m/opt/miniconda3/envs/vis4ml/lib/python3.8/site-packages/altair/utils/schemapi.py:61\u001b[0m, in \u001b[0;36m<dictcomp>\u001b[0;34m(.0)\u001b[0m\n\u001b[1;32m     58\u001b[0m     \u001b[39mreturn\u001b[39;00m [_todict(v, validate, context) \u001b[39mfor\u001b[39;00m v \u001b[39min\u001b[39;00m obj]\n\u001b[1;32m     59\u001b[0m \u001b[39melif\u001b[39;00m \u001b[39misinstance\u001b[39m(obj, \u001b[39mdict\u001b[39m):\n\u001b[1;32m     60\u001b[0m     \u001b[39mreturn\u001b[39;00m {\n\u001b[0;32m---> 61\u001b[0m         k: _todict(v, validate, context)\n\u001b[1;32m     62\u001b[0m         \u001b[39mfor\u001b[39;00m k, v \u001b[39min\u001b[39;00m obj\u001b[39m.\u001b[39mitems()\n\u001b[1;32m     63\u001b[0m         \u001b[39mif\u001b[39;00m v \u001b[39mis\u001b[39;00m \u001b[39mnot\u001b[39;00m Undefined\n\u001b[1;32m     64\u001b[0m     }\n\u001b[1;32m     65\u001b[0m \u001b[39melif\u001b[39;00m \u001b[39mhasattr\u001b[39m(obj, \u001b[39m\"\u001b[39m\u001b[39mto_dict\u001b[39m\u001b[39m\"\u001b[39m):\n\u001b[1;32m     66\u001b[0m     \u001b[39mreturn\u001b[39;00m obj\u001b[39m.\u001b[39mto_dict()\n",
      "File \u001b[0;32m/opt/miniconda3/envs/vis4ml/lib/python3.8/site-packages/altair/utils/schemapi.py:56\u001b[0m, in \u001b[0;36m_todict\u001b[0;34m(obj, validate, context)\u001b[0m\n\u001b[1;32m     54\u001b[0m \u001b[39m\"\"\"Convert an object to a dict representation.\"\"\"\u001b[39;00m\n\u001b[1;32m     55\u001b[0m \u001b[39mif\u001b[39;00m \u001b[39misinstance\u001b[39m(obj, SchemaBase):\n\u001b[0;32m---> 56\u001b[0m     \u001b[39mreturn\u001b[39;00m obj\u001b[39m.\u001b[39;49mto_dict(validate\u001b[39m=\u001b[39;49mvalidate, context\u001b[39m=\u001b[39;49mcontext)\n\u001b[1;32m     57\u001b[0m \u001b[39melif\u001b[39;00m \u001b[39misinstance\u001b[39m(obj, (\u001b[39mlist\u001b[39m, \u001b[39mtuple\u001b[39m, np\u001b[39m.\u001b[39mndarray)):\n\u001b[1;32m     58\u001b[0m     \u001b[39mreturn\u001b[39;00m [_todict(v, validate, context) \u001b[39mfor\u001b[39;00m v \u001b[39min\u001b[39;00m obj]\n",
      "File \u001b[0;32m/opt/miniconda3/envs/vis4ml/lib/python3.8/site-packages/altair/vegalite/v4/schema/channels.py:76\u001b[0m, in \u001b[0;36mValueChannelMixin.to_dict\u001b[0;34m(self, validate, ignore, context)\u001b[0m\n\u001b[1;32m     74\u001b[0m         copy \u001b[39m=\u001b[39m \u001b[39mself\u001b[39m\u001b[39m.\u001b[39mcopy(deep\u001b[39m=\u001b[39m[\u001b[39m'\u001b[39m\u001b[39mcondition\u001b[39m\u001b[39m'\u001b[39m])\n\u001b[1;32m     75\u001b[0m         copy\u001b[39m.\u001b[39mcondition\u001b[39m.\u001b[39mupdate(kwds)\n\u001b[0;32m---> 76\u001b[0m \u001b[39mreturn\u001b[39;00m \u001b[39msuper\u001b[39;49m(ValueChannelMixin, copy)\u001b[39m.\u001b[39;49mto_dict(validate\u001b[39m=\u001b[39;49mvalidate,\n\u001b[1;32m     77\u001b[0m                                               ignore\u001b[39m=\u001b[39;49mignore,\n\u001b[1;32m     78\u001b[0m                                               context\u001b[39m=\u001b[39;49mcontext)\n",
      "File \u001b[0;32m/opt/miniconda3/envs/vis4ml/lib/python3.8/site-packages/altair/utils/schemapi.py:340\u001b[0m, in \u001b[0;36mSchemaBase.to_dict\u001b[0;34m(self, validate, ignore, context)\u001b[0m\n\u001b[1;32m    338\u001b[0m         \u001b[39mself\u001b[39m\u001b[39m.\u001b[39mvalidate(result)\n\u001b[1;32m    339\u001b[0m     \u001b[39mexcept\u001b[39;00m jsonschema\u001b[39m.\u001b[39mValidationError \u001b[39mas\u001b[39;00m err:\n\u001b[0;32m--> 340\u001b[0m         \u001b[39mraise\u001b[39;00m SchemaValidationError(\u001b[39mself\u001b[39m, err)\n\u001b[1;32m    341\u001b[0m \u001b[39mreturn\u001b[39;00m result\n",
      "\u001b[0;31mSchemaValidationError\u001b[0m: Invalid specification\n\n        altair.vegalite.v4.schema.channels.OpacityValue, validating 'additionalProperties'\n\n        Additional properties are not allowed ('selection' was unexpected)\n        "
     ]
    },
    {
     "data": {
      "text/plain": [
       "alt.HConcatChart(...)"
      ]
     },
     "execution_count": 31,
     "metadata": {},
     "output_type": "execute_result"
    }
   ],
   "source": [
    "Get_feature_value_vs_mean_attr_plot(subset_analysis_df, 'glucose', rank_mode = False)"
   ]
  },
  {
   "attachments": {},
   "cell_type": "markdown",
   "metadata": {},
   "source": [
    "## Feature Value Distribution vs. Mean Absolute Rank\n"
   ]
  },
  {
   "cell_type": "code",
   "execution_count": null,
   "metadata": {},
   "outputs": [],
   "source": [
    "Get_feature_value_vs_mean_attr_plot(subset_analysis_df, 'glucose', rank_mode = True)"
   ]
  },
  {
   "cell_type": "code",
   "execution_count": null,
   "metadata": {},
   "outputs": [],
   "source": [
    "subset_analysis_df"
   ]
  },
  {
   "cell_type": "code",
   "execution_count": null,
   "metadata": {},
   "outputs": [],
   "source": [
    "#feature_value_vs_attr_plot distribution"
   ]
  },
  {
   "cell_type": "code",
   "execution_count": null,
   "metadata": {},
   "outputs": [],
   "source": [
    "# Get_feature_value_vs_signed_rank_plot('Pedigree')"
   ]
  }
 ],
 "metadata": {
  "kernelspec": {
   "display_name": "vis4ml",
   "language": "python",
   "name": "python3"
  },
  "language_info": {
   "codemirror_mode": {
    "name": "ipython",
    "version": 3
   },
   "file_extension": ".py",
   "mimetype": "text/x-python",
   "name": "python",
   "nbconvert_exporter": "python",
   "pygments_lexer": "ipython3",
   "version": "3.8.15"
  },
  "orig_nbformat": 4,
  "vscode": {
   "interpreter": {
    "hash": "1c02c939410ebc10a86bdbf7d3fc1c83f7b87f74a50e518f4e9691bb7f5c61a6"
   }
  }
 },
 "nbformat": 4,
 "nbformat_minor": 2
}
