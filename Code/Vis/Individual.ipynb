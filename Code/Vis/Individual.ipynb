{
 "cells": [
  {
   "cell_type": "code",
   "execution_count": 19,
   "metadata": {},
   "outputs": [],
   "source": [
    "import pandas as pd\n",
    "import altair as alt\n",
    "import pmlb"
   ]
  },
  {
   "cell_type": "code",
   "execution_count": 20,
   "metadata": {},
   "outputs": [],
   "source": [
    "import warnings\n",
    "warnings.filterwarnings('ignore')"
   ]
  },
  {
   "cell_type": "markdown",
   "id": "5fade0b7",
   "metadata": {},
   "source": [
    "### Load the Dataset and the model Prediction"
   ]
  },
  {
   "cell_type": "code",
   "execution_count": 21,
   "id": "401e848e",
   "metadata": {},
   "outputs": [],
   "source": [
    "df = pmlb.fetch_data('pima')\n",
    "\n",
    "# impute the missing input feature values with the median of the target class  \n",
    "imputeFeatures = ['plasma glucose', 'Diastolic blood pressure', 'Triceps skin fold thickness', 'Body mass index', '2-Hour serum insulin']\n",
    "for feature in imputeFeatures:\n",
    "    df.loc[(df.target==0) & (df[feature] == 0), feature] = df[df.target==0][feature].median()\n",
    "    df.loc[(df.target==1) & (df[feature] == 0), feature] = df[df.target==1][feature].median()"
   ]
  },
  {
   "cell_type": "code",
   "execution_count": 22,
   "id": "8815bfd4",
   "metadata": {},
   "outputs": [],
   "source": [
    "# split and normalized \n",
    "X = df.drop(['target'], axis=1)\n",
    "y = df['target']\n"
   ]
  },
  {
   "cell_type": "markdown",
   "metadata": {},
   "source": [
    "### Load all the feature attributions and the model Prediction"
   ]
  },
  {
   "cell_type": "code",
   "execution_count": 23,
   "metadata": {},
   "outputs": [],
   "source": [
    "# shap \n",
    "shap_filename = '../Weights/Attr/Shap_nn.pkl'\n",
    "shap_values_df = pd.read_pickle(shap_filename)\n",
    "shap_values = shap_values_df.melt(ignore_index=False)\n",
    "\n",
    "# Lime \n",
    "lime_weights_filename = '../Weights/Attr/lime_weights.pkl'\n",
    "lime_weights_df = pd.read_pickle(lime_weights_filename)\n",
    "lime_weights = lime_weights_df.melt(ignore_index=False)\n",
    "\n",
    "# Integrated Gradients\n",
    "ig_attr_filename = '../Weights/Attr/ig_attr.pkl'\n",
    "ig_attr_df = pd.read_pickle(ig_attr_filename)\n",
    "ig_attr = ig_attr_df.melt(ignore_index=False)\n",
    "\n",
    "# Deep Lift\n",
    "deepLift_filename = '../Weights/Attr/deepLift_attr.pkl'\n",
    "deepLift_df = pd.read_pickle(deepLift_filename)\n",
    "deepLift_attr = deepLift_df.melt(ignore_index=False)\n",
    "\n",
    "# Model Prediction\n",
    "predictProb_filename = '../Weights/Model/predict_prob.pkl'\n",
    "predict_prob_df = pd.read_pickle(predictProb_filename)"
   ]
  },
  {
   "cell_type": "markdown",
   "metadata": {},
   "source": [
    "### One bar chart for each feature attribution method"
   ]
  },
  {
   "cell_type": "code",
   "execution_count": 24,
   "metadata": {},
   "outputs": [],
   "source": [
    "# Put all feature attributions into a single dataframe\n",
    "Attr_ind = X.melt(ignore_index=False)\n",
    "Attr_ind.columns = ['feature_name', 'feature_value']\n",
    "Attr_ind['feature_and_value'] = Attr_ind['feature_name'] + ' = ' + Attr_ind['feature_value'].astype(str)\n",
    "Attr_ind['shap_value'] = shap_values['value']\n",
    "Attr_ind['lime_weight'] = lime_weights['value']\n",
    "Attr_ind['ig_attr'] = ig_attr['value']\n",
    "Attr_ind['deepLift_attr'] = deepLift_attr['value']"
   ]
  },
  {
   "cell_type": "code",
   "execution_count": 25,
   "metadata": {},
   "outputs": [],
   "source": [
    "attr_names = ['lime_weight', 'shap_value', 'ig_attr', 'deepLift_attr']\n",
    "method_names = ['lime', 'shap', 'ig', 'deepLift']\n",
    "for i in range(len(method_names)):\n",
    "    Attr_ind[method_names[i]+'_is_positive'] = Attr_ind[attr_names[i]] > 0"
   ]
  },
  {
   "cell_type": "code",
   "execution_count": 27,
   "metadata": {},
   "outputs": [],
   "source": [
    "def Ind_Attr(values, data_index):\n",
    "    brush = alt.selection_multi(on='mouseover', toggle=True, empty='none')\n",
    "\n",
    "    base = alt.Chart(values).mark_bar().encode(\n",
    "        opacity = alt.condition(brush, alt.value(1.0), alt.value(0.3))\n",
    "    ).add_selection(\n",
    "        brush\n",
    "    ).properties(\n",
    "        width=200,\n",
    "        height=200\n",
    "    )\n",
    "    ind_shap_bar = base.encode(\n",
    "        y=alt.Y('feature_and_value', sort='-x', title = ''),\n",
    "        x='shap_value',\n",
    "        color=alt.Color('shap_is_positive', legend=None, scale=alt.Scale(range=['crimson', 'steelblue'])),\n",
    "    )\n",
    "\n",
    "    ind_lime_bar =base.encode(\n",
    "        y=alt.Y('feature_and_value', sort='-x', title = ''),\n",
    "        x='lime_weight',\n",
    "        color=alt.Color('lime_is_positive', legend=None, scale=alt.Scale(range=['crimson', 'steelblue']))\n",
    "    )\n",
    "\n",
    "    ind_ig_bar = base.encode(\n",
    "        y=alt.Y('feature_and_value', sort='-x', title = ''),\n",
    "        x='ig_attr',\n",
    "        color=alt.Color('ig_is_positive', legend=None, scale=alt.Scale(range=['crimson', 'steelblue']))\n",
    "    )\n",
    "\n",
    "    ind_deepLift_bar = base.encode(\n",
    "        y=alt.Y('feature_and_value', sort='-x', title = ''),\n",
    "        x='deepLift_attr',\n",
    "        color=alt.Color('deepLift_is_positive', legend=None, scale=alt.Scale(range=['crimson', 'steelblue']))\n",
    "    )\n",
    "\n",
    "    row1 = ind_shap_bar | ind_lime_bar  \n",
    "    row2 = ind_ig_bar | ind_deepLift_bar  \n",
    "    \n",
    "    model_predict = round(predict_prob_df.iloc[data_index].values[0], 2)\n",
    "    ind_bar = alt.vconcat(row1, row2, title = 'model predict: ' + str(model_predict))\n",
    "\n",
    "    return ind_bar\n"
   ]
  },
  {
   "cell_type": "code",
   "execution_count": 35,
   "metadata": {},
   "outputs": [
    {
     "data": {
      "text/html": [
       "\n",
       "<div id=\"altair-viz-f4487db5cc8548bdb86ac907d0ee12a4\"></div>\n",
       "<script type=\"text/javascript\">\n",
       "  var VEGA_DEBUG = (typeof VEGA_DEBUG == \"undefined\") ? {} : VEGA_DEBUG;\n",
       "  (function(spec, embedOpt){\n",
       "    let outputDiv = document.currentScript.previousElementSibling;\n",
       "    if (outputDiv.id !== \"altair-viz-f4487db5cc8548bdb86ac907d0ee12a4\") {\n",
       "      outputDiv = document.getElementById(\"altair-viz-f4487db5cc8548bdb86ac907d0ee12a4\");\n",
       "    }\n",
       "    const paths = {\n",
       "      \"vega\": \"https://cdn.jsdelivr.net/npm//vega@5?noext\",\n",
       "      \"vega-lib\": \"https://cdn.jsdelivr.net/npm//vega-lib?noext\",\n",
       "      \"vega-lite\": \"https://cdn.jsdelivr.net/npm//vega-lite@4.17.0?noext\",\n",
       "      \"vega-embed\": \"https://cdn.jsdelivr.net/npm//vega-embed@6?noext\",\n",
       "    };\n",
       "\n",
       "    function maybeLoadScript(lib, version) {\n",
       "      var key = `${lib.replace(\"-\", \"\")}_version`;\n",
       "      return (VEGA_DEBUG[key] == version) ?\n",
       "        Promise.resolve(paths[lib]) :\n",
       "        new Promise(function(resolve, reject) {\n",
       "          var s = document.createElement('script');\n",
       "          document.getElementsByTagName(\"head\")[0].appendChild(s);\n",
       "          s.async = true;\n",
       "          s.onload = () => {\n",
       "            VEGA_DEBUG[key] = version;\n",
       "            return resolve(paths[lib]);\n",
       "          };\n",
       "          s.onerror = () => reject(`Error loading script: ${paths[lib]}`);\n",
       "          s.src = paths[lib];\n",
       "        });\n",
       "    }\n",
       "\n",
       "    function showError(err) {\n",
       "      outputDiv.innerHTML = `<div class=\"error\" style=\"color:red;\">${err}</div>`;\n",
       "      throw err;\n",
       "    }\n",
       "\n",
       "    function displayChart(vegaEmbed) {\n",
       "      vegaEmbed(outputDiv, spec, embedOpt)\n",
       "        .catch(err => showError(`Javascript Error: ${err.message}<br>This usually means there's a typo in your chart specification. See the javascript console for the full traceback.`));\n",
       "    }\n",
       "\n",
       "    if(typeof define === \"function\" && define.amd) {\n",
       "      requirejs.config({paths});\n",
       "      require([\"vega-embed\"], displayChart, err => showError(`Error loading script: ${err.message}`));\n",
       "    } else {\n",
       "      maybeLoadScript(\"vega\", \"5\")\n",
       "        .then(() => maybeLoadScript(\"vega-lite\", \"4.17.0\"))\n",
       "        .then(() => maybeLoadScript(\"vega-embed\", \"6\"))\n",
       "        .catch(showError)\n",
       "        .then(() => displayChart(vegaEmbed));\n",
       "    }\n",
       "  })({\"config\": {\"view\": {\"continuousWidth\": 400, \"continuousHeight\": 300}}, \"vconcat\": [{\"hconcat\": [{\"mark\": \"bar\", \"encoding\": {\"color\": {\"field\": \"shap_is_positive\", \"legend\": null, \"scale\": {\"range\": [\"crimson\", \"steelblue\"]}, \"type\": \"nominal\"}, \"opacity\": {\"condition\": {\"value\": 1.0, \"selection\": \"selector003\"}, \"value\": 0.3}, \"x\": {\"field\": \"shap_value\", \"type\": \"quantitative\"}, \"y\": {\"field\": \"feature_and_value\", \"sort\": \"-x\", \"title\": \"\", \"type\": \"nominal\"}}, \"height\": 200, \"selection\": {\"selector003\": {\"type\": \"multi\", \"on\": \"mouseover\", \"toggle\": true, \"empty\": \"none\"}}, \"width\": 200}, {\"mark\": \"bar\", \"encoding\": {\"color\": {\"field\": \"lime_is_positive\", \"legend\": null, \"scale\": {\"range\": [\"crimson\", \"steelblue\"]}, \"type\": \"nominal\"}, \"opacity\": {\"condition\": {\"value\": 1.0, \"selection\": \"selector003\"}, \"value\": 0.3}, \"x\": {\"field\": \"lime_weight\", \"type\": \"quantitative\"}, \"y\": {\"field\": \"feature_and_value\", \"sort\": \"-x\", \"title\": \"\", \"type\": \"nominal\"}}, \"height\": 200, \"selection\": {\"selector003\": {\"type\": \"multi\", \"on\": \"mouseover\", \"toggle\": true, \"empty\": \"none\"}}, \"width\": 200}]}, {\"hconcat\": [{\"mark\": \"bar\", \"encoding\": {\"color\": {\"field\": \"ig_is_positive\", \"legend\": null, \"scale\": {\"range\": [\"crimson\", \"steelblue\"]}, \"type\": \"nominal\"}, \"opacity\": {\"condition\": {\"value\": 1.0, \"selection\": \"selector003\"}, \"value\": 0.3}, \"x\": {\"field\": \"ig_attr\", \"type\": \"quantitative\"}, \"y\": {\"field\": \"feature_and_value\", \"sort\": \"-x\", \"title\": \"\", \"type\": \"nominal\"}}, \"height\": 200, \"selection\": {\"selector003\": {\"type\": \"multi\", \"on\": \"mouseover\", \"toggle\": true, \"empty\": \"none\"}}, \"width\": 200}, {\"mark\": \"bar\", \"encoding\": {\"color\": {\"field\": \"deepLift_is_positive\", \"legend\": null, \"scale\": {\"range\": [\"crimson\", \"steelblue\"]}, \"type\": \"nominal\"}, \"opacity\": {\"condition\": {\"value\": 1.0, \"selection\": \"selector003\"}, \"value\": 0.3}, \"x\": {\"field\": \"deepLift_attr\", \"type\": \"quantitative\"}, \"y\": {\"field\": \"feature_and_value\", \"sort\": \"-x\", \"title\": \"\", \"type\": \"nominal\"}}, \"height\": 200, \"selection\": {\"selector003\": {\"type\": \"multi\", \"on\": \"mouseover\", \"toggle\": true, \"empty\": \"none\"}}, \"width\": 200}]}], \"data\": {\"name\": \"data-c01fdc9e1eed25effa014059b7bd98b1\"}, \"title\": \"model predict: 1.0\", \"$schema\": \"https://vega.github.io/schema/vega-lite/v4.17.0.json\", \"datasets\": {\"data-c01fdc9e1eed25effa014059b7bd98b1\": [{\"feature_name\": \"Pregnant\", \"feature_value\": 0.0, \"feature_and_value\": \"Pregnant = 0.0\", \"shap_value\": 0.9073460102081299, \"lime_weight\": 0.005165496323306319, \"ig_attr\": 0.6176627546425133, \"deepLift_attr\": 0.6473156213760376, \"lime_is_positive\": true, \"shap_is_positive\": true, \"ig_is_positive\": true, \"deepLift_is_positive\": true}, {\"feature_name\": \"plasma glucose\", \"feature_value\": 146.0, \"feature_and_value\": \"plasma glucose = 146.0\", \"shap_value\": 1.317610502243042, \"lime_weight\": 0.20408263722976921, \"ig_attr\": 0.743157171013311, \"deepLift_attr\": 0.5807939171791077, \"lime_is_positive\": true, \"shap_is_positive\": true, \"ig_is_positive\": true, \"deepLift_is_positive\": true}, {\"feature_name\": \"Diastolic blood pressure\", \"feature_value\": 70.0, \"feature_and_value\": \"Diastolic blood pressure = 70.0\", \"shap_value\": 0.01439803745597601, \"lime_weight\": 0.10523189621790555, \"ig_attr\": -0.09704669001068214, \"deepLift_attr\": -0.08349885791540146, \"lime_is_positive\": true, \"shap_is_positive\": true, \"ig_is_positive\": false, \"deepLift_is_positive\": false}, {\"feature_name\": \"Triceps skin fold thickness\", \"feature_value\": 27.0, \"feature_and_value\": \"Triceps skin fold thickness = 27.0\", \"shap_value\": -0.013894683681428432, \"lime_weight\": 0.07206891188919616, \"ig_attr\": 0.2264549089967482, \"deepLift_attr\": -0.0867248922586441, \"lime_is_positive\": true, \"shap_is_positive\": false, \"ig_is_positive\": true, \"deepLift_is_positive\": false}, {\"feature_name\": \"2-Hour serum insulin\", \"feature_value\": 0.0, \"feature_and_value\": \"2-Hour serum insulin = 0.0\", \"shap_value\": 9.154417037963867, \"lime_weight\": 0.09248082930147136, \"ig_attr\": 4.935199873371934, \"deepLift_attr\": 20.03919219970703, \"lime_is_positive\": true, \"shap_is_positive\": true, \"ig_is_positive\": true, \"deepLift_is_positive\": true}, {\"feature_name\": \"Body mass index\", \"feature_value\": 37.9, \"feature_and_value\": \"Body mass index = 37.9\", \"shap_value\": 0.2298990935087204, \"lime_weight\": 0.08972327645313188, \"ig_attr\": -0.22977092199187052, \"deepLift_attr\": -0.17362359166145325, \"lime_is_positive\": true, \"shap_is_positive\": true, \"ig_is_positive\": false, \"deepLift_is_positive\": false}, {\"feature_name\": \"Diabetes pedigree function\", \"feature_value\": 0.334, \"feature_and_value\": \"Diabetes pedigree function = 0.334\", \"shap_value\": 0.14938455820083618, \"lime_weight\": 0.1308383561680177, \"ig_attr\": -1.0031484776499064, \"deepLift_attr\": -0.5207641124725342, \"lime_is_positive\": true, \"shap_is_positive\": true, \"ig_is_positive\": false, \"deepLift_is_positive\": false}, {\"feature_name\": \"Age\", \"feature_value\": 28.0, \"feature_and_value\": \"Age = 28.0\", \"shap_value\": -0.934931755065918, \"lime_weight\": 0.013505108382499789, \"ig_attr\": -1.5029549361554284, \"deepLift_attr\": -0.5306602716445923, \"lime_is_positive\": true, \"shap_is_positive\": false, \"ig_is_positive\": false, \"deepLift_is_positive\": false}]}}, {\"mode\": \"vega-lite\"});\n",
       "</script>"
      ],
      "text/plain": [
       "alt.VConcatChart(...)"
      ]
     },
     "execution_count": 35,
     "metadata": {},
     "output_type": "execute_result"
    }
   ],
   "source": [
    "# visualize feature attribution for the ith instance\n",
    "i = 400\n",
    "Ind_Attr(Attr_ind.loc[i], i)"
   ]
  },
  {
   "cell_type": "code",
   "execution_count": null,
   "metadata": {},
   "outputs": [],
   "source": []
  }
 ],
 "metadata": {
  "kernelspec": {
   "display_name": "Python 3.8.15 ('vis4ml')",
   "language": "python",
   "name": "python3"
  },
  "language_info": {
   "codemirror_mode": {
    "name": "ipython",
    "version": 3
   },
   "file_extension": ".py",
   "mimetype": "text/x-python",
   "name": "python",
   "nbconvert_exporter": "python",
   "pygments_lexer": "ipython3",
   "version": "3.8.15"
  },
  "orig_nbformat": 4,
  "vscode": {
   "interpreter": {
    "hash": "1c02c939410ebc10a86bdbf7d3fc1c83f7b87f74a50e518f4e9691bb7f5c61a6"
   }
  }
 },
 "nbformat": 4,
 "nbformat_minor": 2
}
