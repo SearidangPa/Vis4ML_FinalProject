{
 "cells": [
  {
   "cell_type": "code",
   "execution_count": 1,
   "metadata": {},
   "outputs": [],
   "source": [
    "import pandas as pd\n",
    "import altair as alt\n",
    "import pmlb\n",
    "from altair.expr import datum\n",
    "import warnings\n",
    "warnings.filterwarnings('ignore')"
   ]
  },
  {
   "cell_type": "code",
   "execution_count": 2,
   "metadata": {},
   "outputs": [],
   "source": [
    "# load Model Prediction\n",
    "predictProb_filename = '../Saved/Attr/lime_infos.pkl'\n",
    "predict_prob_df = pd.DataFrame(data = pd.read_pickle(predictProb_filename)['model_pred'], columns=['model_pred'])"
   ]
  },
  {
   "cell_type": "code",
   "execution_count": 3,
   "metadata": {},
   "outputs": [],
   "source": [
    "### Load the dataframe to be visualized \n",
    "Indiv_melted_filename = '../Saved/4vis/Indiv_melted.pkl'\n",
    "Indiv_melted = pd.read_pickle(Indiv_melted_filename)"
   ]
  },
  {
   "cell_type": "code",
   "execution_count": 4,
   "metadata": {},
   "outputs": [],
   "source": [
    "dict_method_name_to_attr_name = {\n",
    "    'shap' : 'shap_value',\n",
    "    'lime': 'lime_weight', \n",
    "    'ig':  'ig_attr', \n",
    "    'deepLift':'deepLift_attr' \n",
    "}"
   ]
  },
  {
   "attachments": {},
   "cell_type": "markdown",
   "id": "b484f5fb",
   "metadata": {},
   "source": [
    "## Make the Charts"
   ]
  },
  {
   "cell_type": "code",
   "execution_count": null,
   "id": "401e848e",
   "metadata": {},
   "outputs": [],
   "source": [
    "def feature_attr_and_rank_plot(index):\n",
    "    values_melted = Indiv_melted.loc[index]\n",
    "    sorted_feature = values_melted[values_melted['method'] == 'sum_rank'].sort_values(by = 'feature_attr', ascending = False)['feature_name'].to_list() \n",
    "    values_melted['is_positive'] = values_melted['feature_attr'] > 0\n",
    "\n",
    "    ## bar chart for feature attribution values \n",
    "    brush = alt.selection_multi(on='mouseover', toggle=True, fields=['feature_name'])\n",
    "    base = alt.Chart(values_melted).mark_bar().encode(\n",
    "        opacity = alt.condition(brush, alt.value(1.0), alt.value(0.2))\n",
    "    ).add_selection(\n",
    "        brush\n",
    "    )\n",
    "\n",
    "    row1 = alt.hconcat()\n",
    "    row2 = alt.hconcat()\n",
    "    i = 0\n",
    "    for _, attr_name in dict_method_name_to_attr_name.items():\n",
    "        chart = base.encode(\n",
    "            y=alt.Y('feature_name', sort='-x', title = ''),\n",
    "            x= alt.X('feature_attr', title = attr_name),\n",
    "            color = alt.Color('is_positive', legend=None, scale=alt.Scale(range=['crimson', 'steelblue']))\n",
    "        ).transform_filter(\n",
    "            datum.method == attr_name\n",
    "        ).properties(\n",
    "            width=200,\n",
    "            height=200\n",
    "        )\n",
    "        if i < 2:\n",
    "            row1 |= chart\n",
    "        else:\n",
    "            row2 |= chart\n",
    "        i += 1\n",
    "    attr_value_bar = alt.vconcat(row1, row2)\n",
    " \n",
    "    model_predict = round(predict_prob_df.iloc[index].values[0], 4)\n",
    "    attr_value_bar = alt.vconcat(row1, row2)\n",
    "\n",
    "    # bar chart for signed feature rank: group lollipop chart visualization \n",
    "    line = base.mark_bar(size = 5).encode(\n",
    "        x = alt.X('method', title=''),\n",
    "        y = alt.X('feature_attr', title = 'feature_rank'),\n",
    "        color = alt.Color('is_positive', legend=None, scale=alt.Scale(range=['crimson', 'steelblue'])) \n",
    "    ).transform_filter(\n",
    "        alt.FieldOneOfPredicate(field='method', oneOf= ['shap_rank', 'lime_rank', 'ig_rank', 'deepLift_rank'])\n",
    "    ).properties(\n",
    "        width=50,\n",
    "        height=200\n",
    "    )\n",
    "    attr_signed_rank = (line).facet(column=alt.Column('feature_name', sort = sorted_feature)) \n",
    "\n",
    "    return alt.hconcat(attr_value_bar, attr_signed_rank, title = 'model predict: ' + str(model_predict))"
   ]
  },
  {
   "cell_type": "markdown",
   "metadata": {},
   "source": [
    "## Show the visualization "
   ]
  },
  {
   "cell_type": "code",
   "execution_count": null,
   "metadata": {},
   "outputs": [],
   "source": [
    "feature_attr_and_rank_plot(0)"
   ]
  },
  {
   "cell_type": "code",
   "execution_count": null,
   "metadata": {},
   "outputs": [],
   "source": []
  }
 ],
 "metadata": {
  "kernelspec": {
   "display_name": "Python 3.8.15 ('vis4ml')",
   "language": "python",
   "name": "python3"
  },
  "language_info": {
   "codemirror_mode": {
    "name": "ipython",
    "version": 3
   },
   "file_extension": ".py",
   "mimetype": "text/x-python",
   "name": "python",
   "nbconvert_exporter": "python",
   "pygments_lexer": "ipython3",
   "version": "3.8.15 (default, Nov 24 2022, 08:57:44) \n[Clang 14.0.6 ]"
  },
  "orig_nbformat": 4,
  "vscode": {
   "interpreter": {
    "hash": "1c02c939410ebc10a86bdbf7d3fc1c83f7b87f74a50e518f4e9691bb7f5c61a6"
   }
  }
 },
 "nbformat": 4,
 "nbformat_minor": 2
}
