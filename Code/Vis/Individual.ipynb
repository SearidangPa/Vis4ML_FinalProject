{
 "cells": [
  {
   "cell_type": "code",
   "execution_count": null,
   "metadata": {},
   "outputs": [],
   "source": []
  },
  {
   "cell_type": "code",
   "execution_count": null,
   "id": "97c49608",
   "metadata": {},
   "outputs": [],
   "source": [
    "def plot_Shap_contribution(values):\n",
    "    values = values.copy()\n",
    "    \n",
    "    values['is_positive'] = values['shap_value'] > 0\n",
    "    values['feature_and_value'] = values['feature'] + ' = ' + values['feature_value'].astype(str)\n",
    "    \n",
    "    bars = alt.Chart(values).mark_bar().encode(\n",
    "        y=alt.Y('feature_and_value'),\n",
    "        x='shap_value',\n",
    "        color=alt.Color('is_positive', legend=None, scale=alt.Scale(range=['crimson', 'steelblue']))\n",
    "    )\n",
    "    \n",
    "    return bars"
   ]
  },
  {
   "cell_type": "code",
   "execution_count": null,
   "id": "b1110344",
   "metadata": {},
   "outputs": [],
   "source": [
    "def plot_lime_contribution(values):\n",
    "    values = values.copy()\n",
    "    \n",
    "    values['is_positive'] = values['lime_weights'] > 0\n",
    "    values['feature_and_value'] = values['feature'] + ' = ' + values['feature_value'].astype(str)\n",
    "    \n",
    "    bars = alt.Chart(values).mark_bar().encode(\n",
    "        y=alt.Y('feature_and_value'),\n",
    "        x='lime_weights',\n",
    "        color=alt.Color('is_positive', legend=None, scale=alt.Scale(range=['crimson', 'steelblue']))\n",
    "    )\n",
    "    \n",
    "    return bars"
   ]
  },
  {
   "cell_type": "code",
   "execution_count": null,
   "id": "e2a46d54",
   "metadata": {},
   "outputs": [],
   "source": [
    "# feature attribution for an instance by LIME and SHAP \n",
    "i = 725\n",
    "Shap_bars = plot_Shap_contribution(feature_important_weights.loc[i])\n",
    "Lime_bars = plot_lime_contribution(feature_important_weights.loc[i]) "
   ]
  }
 ],
 "metadata": {
  "kernelspec": {
   "display_name": "Python 3.9.6 64-bit",
   "language": "python",
   "name": "python3"
  },
  "language_info": {
   "name": "python",
   "version": "3.9.6"
  },
  "orig_nbformat": 4,
  "vscode": {
   "interpreter": {
    "hash": "31f2aee4e71d21fbe5cf8b01ff0e069b9275f58929596ceb00d14d90e3e16cd6"
   }
  }
 },
 "nbformat": 4,
 "nbformat_minor": 2
}
