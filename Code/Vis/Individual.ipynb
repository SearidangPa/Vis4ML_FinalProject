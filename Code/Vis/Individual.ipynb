{
 "cells": [
  {
   "cell_type": "code",
   "execution_count": 1,
   "metadata": {},
   "outputs": [],
   "source": [
    "import pandas as pd\n",
    "import altair as alt\n",
    "from altair.expr import datum\n",
    "import warnings\n",
    "from altair_transform import extract_data\n",
    "from altair_transform import transform_chart\n",
    "warnings.filterwarnings('ignore')"
   ]
  },
  {
   "cell_type": "code",
   "execution_count": 2,
   "metadata": {},
   "outputs": [],
   "source": [
    "### Load the dataframe to be visualized \n",
    "Indiv_melted_filename = '../Saved/4vis/Indiv_melted.pkl'\n",
    "Indiv_melted = pd.read_pickle(Indiv_melted_filename)\n",
    "\n",
    "# load Model Prediction\n",
    "predictProb_filename = '../Saved/Attr/lime_infos.pkl'\n",
    "predict_prob_df = pd.DataFrame(data = pd.read_pickle(predictProb_filename)['model_pred'], columns=['model_pred'])"
   ]
  },
  {
   "cell_type": "code",
   "execution_count": 3,
   "metadata": {},
   "outputs": [],
   "source": [
    "dict_method_name_to_attr_name = {\n",
    "    'shap' : 'shap_value',\n",
    "    'lime': 'lime_weight', \n",
    "    'ig':  'ig_attr', \n",
    "    'deepLift':'deepLift_attr' \n",
    "}"
   ]
  },
  {
   "attachments": {},
   "cell_type": "markdown",
   "id": "b484f5fb",
   "metadata": {},
   "source": [
    "## Make the Charts"
   ]
  },
  {
   "cell_type": "code",
   "execution_count": 4,
   "id": "401e848e",
   "metadata": {},
   "outputs": [],
   "source": [
    "def feature_attr_and_rank_plot(index):\n",
    "    values_melted = Indiv_melted.loc[index]\n",
    "    sorted_feature = values_melted[values_melted['method'] == 'sum_rank'].sort_values(by = 'feature_attr', ascending = False)['feature_name'].to_list() \n",
    "    values_melted['is_positive'] = values_melted['feature_attr'] > 0\n",
    "\n",
    "    ## bar chart for feature attribution values \n",
    "    brush = alt.selection_multi(on='mouseover', toggle=True, fields=['feature_name'])\n",
    "    base = alt.Chart(values_melted).mark_bar().encode(\n",
    "        opacity = alt.condition(brush, alt.value(1.0), alt.value(0.2))\n",
    "    ).add_selection(\n",
    "        brush\n",
    "    )\n",
    "\n",
    "    row1 = alt.hconcat()\n",
    "    row2 = alt.hconcat()\n",
    "    i = 0\n",
    "    for _, attr_name in dict_method_name_to_attr_name.items():\n",
    "        chart = base.encode(\n",
    "            y=alt.Y('feature_name', sort='-x', title = ''),\n",
    "            x= alt.X('feature_attr', title = attr_name),\n",
    "            color = alt.Color('is_positive', legend=None, scale=alt.Scale(range=['crimson', 'steelblue']))\n",
    "        ).transform_filter(\n",
    "            datum.method == attr_name\n",
    "        ).properties(\n",
    "            width=200,\n",
    "            height=200\n",
    "        )\n",
    "        if i < 2:\n",
    "            row1 |= chart\n",
    "        else:\n",
    "            row2 |= chart\n",
    "        i += 1\n",
    "    attr_value_bar = alt.vconcat(row1, row2)\n",
    " \n",
    "    model_predict = round(predict_prob_df.iloc[index].values[0], 4)\n",
    "    attr_value_bar = alt.vconcat(row1, row2)\n",
    "\n",
    "    # bar chart for signed feature rank: group lollipop chart visualization \n",
    "    line = base.mark_bar(size = 5).encode(\n",
    "        x = alt.X('method', title=''),\n",
    "        y = alt.X('feature_attr', title = 'feature_rank'),\n",
    "        color = alt.Color('is_positive', legend=None, scale=alt.Scale(range=['crimson', 'steelblue'])) \n",
    "    ).transform_filter(\n",
    "        alt.FieldOneOfPredicate(field='method', oneOf= ['shap_rank', 'lime_rank', 'ig_rank', 'deepLift_rank'])\n",
    "    ).properties(\n",
    "        width=50,\n",
    "        height=200\n",
    "    )\n",
    "    attr_signed_rank = (line).facet(column=alt.Column('feature_name', sort = sorted_feature)) \n",
    "\n",
    "    return alt.hconcat(attr_value_bar, attr_signed_rank, title = 'model predict: ' + str(model_predict))"
   ]
  },
  {
   "cell_type": "code",
   "execution_count": 6,
   "metadata": {},
   "outputs": [
    {
     "data": {
      "text/html": [
       "\n",
       "<div id=\"altair-viz-588d1e7879a2470fa0f43010f84f8ce4\"></div>\n",
       "<script type=\"text/javascript\">\n",
       "  var VEGA_DEBUG = (typeof VEGA_DEBUG == \"undefined\") ? {} : VEGA_DEBUG;\n",
       "  (function(spec, embedOpt){\n",
       "    let outputDiv = document.currentScript.previousElementSibling;\n",
       "    if (outputDiv.id !== \"altair-viz-588d1e7879a2470fa0f43010f84f8ce4\") {\n",
       "      outputDiv = document.getElementById(\"altair-viz-588d1e7879a2470fa0f43010f84f8ce4\");\n",
       "    }\n",
       "    const paths = {\n",
       "      \"vega\": \"https://cdn.jsdelivr.net/npm//vega@5?noext\",\n",
       "      \"vega-lib\": \"https://cdn.jsdelivr.net/npm//vega-lib?noext\",\n",
       "      \"vega-lite\": \"https://cdn.jsdelivr.net/npm//vega-lite@4.17.0?noext\",\n",
       "      \"vega-embed\": \"https://cdn.jsdelivr.net/npm//vega-embed@6?noext\",\n",
       "    };\n",
       "\n",
       "    function maybeLoadScript(lib, version) {\n",
       "      var key = `${lib.replace(\"-\", \"\")}_version`;\n",
       "      return (VEGA_DEBUG[key] == version) ?\n",
       "        Promise.resolve(paths[lib]) :\n",
       "        new Promise(function(resolve, reject) {\n",
       "          var s = document.createElement('script');\n",
       "          document.getElementsByTagName(\"head\")[0].appendChild(s);\n",
       "          s.async = true;\n",
       "          s.onload = () => {\n",
       "            VEGA_DEBUG[key] = version;\n",
       "            return resolve(paths[lib]);\n",
       "          };\n",
       "          s.onerror = () => reject(`Error loading script: ${paths[lib]}`);\n",
       "          s.src = paths[lib];\n",
       "        });\n",
       "    }\n",
       "\n",
       "    function showError(err) {\n",
       "      outputDiv.innerHTML = `<div class=\"error\" style=\"color:red;\">${err}</div>`;\n",
       "      throw err;\n",
       "    }\n",
       "\n",
       "    function displayChart(vegaEmbed) {\n",
       "      vegaEmbed(outputDiv, spec, embedOpt)\n",
       "        .catch(err => showError(`Javascript Error: ${err.message}<br>This usually means there's a typo in your chart specification. See the javascript console for the full traceback.`));\n",
       "    }\n",
       "\n",
       "    if(typeof define === \"function\" && define.amd) {\n",
       "      requirejs.config({paths});\n",
       "      require([\"vega-embed\"], displayChart, err => showError(`Error loading script: ${err.message}`));\n",
       "    } else {\n",
       "      maybeLoadScript(\"vega\", \"5\")\n",
       "        .then(() => maybeLoadScript(\"vega-lite\", \"4.17.0\"))\n",
       "        .then(() => maybeLoadScript(\"vega-embed\", \"6\"))\n",
       "        .catch(showError)\n",
       "        .then(() => displayChart(vegaEmbed));\n",
       "    }\n",
       "  })({\"config\": {\"view\": {\"continuousWidth\": 400, \"continuousHeight\": 300}}, \"hconcat\": [{\"vconcat\": [{\"hconcat\": [{\"mark\": \"bar\", \"encoding\": {\"color\": {\"field\": \"is_positive\", \"legend\": null, \"scale\": {\"range\": [\"crimson\", \"steelblue\"]}, \"type\": \"nominal\"}, \"opacity\": {\"condition\": {\"value\": 1.0, \"selection\": \"selector002\"}, \"value\": 0.2}, \"x\": {\"field\": \"feature_attr\", \"title\": \"shap_value\", \"type\": \"quantitative\"}, \"y\": {\"field\": \"feature_name\", \"sort\": \"-x\", \"title\": \"\", \"type\": \"nominal\"}}, \"height\": 200, \"selection\": {\"selector002\": {\"type\": \"multi\", \"on\": \"mouseover\", \"toggle\": true, \"fields\": [\"feature_name\"]}}, \"transform\": [{\"filter\": \"(datum.method === 'shap_value')\"}], \"width\": 200}, {\"mark\": \"bar\", \"encoding\": {\"color\": {\"field\": \"is_positive\", \"legend\": null, \"scale\": {\"range\": [\"crimson\", \"steelblue\"]}, \"type\": \"nominal\"}, \"opacity\": {\"condition\": {\"value\": 1.0, \"selection\": \"selector002\"}, \"value\": 0.2}, \"x\": {\"field\": \"feature_attr\", \"title\": \"lime_weight\", \"type\": \"quantitative\"}, \"y\": {\"field\": \"feature_name\", \"sort\": \"-x\", \"title\": \"\", \"type\": \"nominal\"}}, \"height\": 200, \"selection\": {\"selector002\": {\"type\": \"multi\", \"on\": \"mouseover\", \"toggle\": true, \"fields\": [\"feature_name\"]}}, \"transform\": [{\"filter\": \"(datum.method === 'lime_weight')\"}], \"width\": 200}]}, {\"hconcat\": [{\"mark\": \"bar\", \"encoding\": {\"color\": {\"field\": \"is_positive\", \"legend\": null, \"scale\": {\"range\": [\"crimson\", \"steelblue\"]}, \"type\": \"nominal\"}, \"opacity\": {\"condition\": {\"value\": 1.0, \"selection\": \"selector002\"}, \"value\": 0.2}, \"x\": {\"field\": \"feature_attr\", \"title\": \"ig_attr\", \"type\": \"quantitative\"}, \"y\": {\"field\": \"feature_name\", \"sort\": \"-x\", \"title\": \"\", \"type\": \"nominal\"}}, \"height\": 200, \"selection\": {\"selector002\": {\"type\": \"multi\", \"on\": \"mouseover\", \"toggle\": true, \"fields\": [\"feature_name\"]}}, \"transform\": [{\"filter\": \"(datum.method === 'ig_attr')\"}], \"width\": 200}, {\"mark\": \"bar\", \"encoding\": {\"color\": {\"field\": \"is_positive\", \"legend\": null, \"scale\": {\"range\": [\"crimson\", \"steelblue\"]}, \"type\": \"nominal\"}, \"opacity\": {\"condition\": {\"value\": 1.0, \"selection\": \"selector002\"}, \"value\": 0.2}, \"x\": {\"field\": \"feature_attr\", \"title\": \"deepLift_attr\", \"type\": \"quantitative\"}, \"y\": {\"field\": \"feature_name\", \"sort\": \"-x\", \"title\": \"\", \"type\": \"nominal\"}}, \"height\": 200, \"selection\": {\"selector002\": {\"type\": \"multi\", \"on\": \"mouseover\", \"toggle\": true, \"fields\": [\"feature_name\"]}}, \"transform\": [{\"filter\": \"(datum.method === 'deepLift_attr')\"}], \"width\": 200}]}]}, {\"facet\": {\"column\": {\"field\": \"feature_name\", \"sort\": [\"Insulin Level\", \"glucose\", \"Age\", \"Pregnant\", \"Pedigree\", \"BMI\", \"blood pressure\", \"skin thickness\"], \"type\": \"nominal\"}}, \"spec\": {\"mark\": {\"type\": \"bar\", \"size\": 5}, \"encoding\": {\"color\": {\"field\": \"is_positive\", \"legend\": null, \"scale\": {\"range\": [\"crimson\", \"steelblue\"]}, \"type\": \"nominal\"}, \"opacity\": {\"condition\": {\"value\": 1.0, \"selection\": \"selector002\"}, \"value\": 0.2}, \"x\": {\"field\": \"method\", \"title\": \"\", \"type\": \"nominal\"}, \"y\": {\"field\": \"feature_attr\", \"title\": \"feature_rank\", \"type\": \"quantitative\"}}, \"height\": 200, \"selection\": {\"selector002\": {\"type\": \"multi\", \"on\": \"mouseover\", \"toggle\": true, \"fields\": [\"feature_name\"]}}, \"transform\": [{\"filter\": {\"field\": \"method\", \"oneOf\": [\"shap_rank\", \"lime_rank\", \"ig_rank\", \"deepLift_rank\"]}}], \"width\": 50}}], \"data\": {\"name\": \"data-ff0490ee20515d75f5c456ccc25ed173\"}, \"title\": \"model predict: 1.0\", \"$schema\": \"https://vega.github.io/schema/vega-lite/v4.17.0.json\", \"datasets\": {\"data-ff0490ee20515d75f5c456ccc25ed173\": [{\"feature_name\": \"Pregnant\", \"method\": \"feature_value\", \"feature_attr\": 0.0, \"is_positive\": false}, {\"feature_name\": \"glucose\", \"method\": \"feature_value\", \"feature_attr\": 146.0, \"is_positive\": true}, {\"feature_name\": \"blood pressure\", \"method\": \"feature_value\", \"feature_attr\": 70.0, \"is_positive\": true}, {\"feature_name\": \"skin thickness\", \"method\": \"feature_value\", \"feature_attr\": 27.0, \"is_positive\": true}, {\"feature_name\": \"Insulin Level\", \"method\": \"feature_value\", \"feature_attr\": 0.0, \"is_positive\": false}, {\"feature_name\": \"BMI\", \"method\": \"feature_value\", \"feature_attr\": 37.9, \"is_positive\": true}, {\"feature_name\": \"Pedigree\", \"method\": \"feature_value\", \"feature_attr\": 0.334, \"is_positive\": true}, {\"feature_name\": \"Age\", \"method\": \"feature_value\", \"feature_attr\": 28.0, \"is_positive\": true}, {\"feature_name\": \"Pregnant\", \"method\": \"shap_value\", \"feature_attr\": 0.9463537335395813, \"is_positive\": true}, {\"feature_name\": \"glucose\", \"method\": \"shap_value\", \"feature_attr\": 1.2490171194076538, \"is_positive\": true}, {\"feature_name\": \"blood pressure\", \"method\": \"shap_value\", \"feature_attr\": 0.016761738806962967, \"is_positive\": true}, {\"feature_name\": \"skin thickness\", \"method\": \"shap_value\", \"feature_attr\": 0.05074498429894447, \"is_positive\": true}, {\"feature_name\": \"Insulin Level\", \"method\": \"shap_value\", \"feature_attr\": 9.168167114257812, \"is_positive\": true}, {\"feature_name\": \"BMI\", \"method\": \"shap_value\", \"feature_attr\": 0.22466640174388885, \"is_positive\": true}, {\"feature_name\": \"Pedigree\", \"method\": \"shap_value\", \"feature_attr\": 0.0783076137304306, \"is_positive\": true}, {\"feature_name\": \"Age\", \"method\": \"shap_value\", \"feature_attr\": -0.9097917675971985, \"is_positive\": false}, {\"feature_name\": \"Pregnant\", \"method\": \"shap_rank\", \"feature_attr\": 6.0, \"is_positive\": true}, {\"feature_name\": \"glucose\", \"method\": \"shap_rank\", \"feature_attr\": 7.0, \"is_positive\": true}, {\"feature_name\": \"blood pressure\", \"method\": \"shap_rank\", \"feature_attr\": 1.0, \"is_positive\": true}, {\"feature_name\": \"skin thickness\", \"method\": \"shap_rank\", \"feature_attr\": 2.0, \"is_positive\": true}, {\"feature_name\": \"Insulin Level\", \"method\": \"shap_rank\", \"feature_attr\": 8.0, \"is_positive\": true}, {\"feature_name\": \"BMI\", \"method\": \"shap_rank\", \"feature_attr\": 4.0, \"is_positive\": true}, {\"feature_name\": \"Pedigree\", \"method\": \"shap_rank\", \"feature_attr\": 3.0, \"is_positive\": true}, {\"feature_name\": \"Age\", \"method\": \"shap_rank\", \"feature_attr\": -5.0, \"is_positive\": false}, {\"feature_name\": \"Pregnant\", \"method\": \"lime_weight\", \"feature_attr\": 0.005165496323306319, \"is_positive\": true}, {\"feature_name\": \"glucose\", \"method\": \"lime_weight\", \"feature_attr\": 0.20408263722976921, \"is_positive\": true}, {\"feature_name\": \"blood pressure\", \"method\": \"lime_weight\", \"feature_attr\": 0.10523189621790555, \"is_positive\": true}, {\"feature_name\": \"skin thickness\", \"method\": \"lime_weight\", \"feature_attr\": 0.07206891188919616, \"is_positive\": true}, {\"feature_name\": \"Insulin Level\", \"method\": \"lime_weight\", \"feature_attr\": 0.09248082930147136, \"is_positive\": true}, {\"feature_name\": \"BMI\", \"method\": \"lime_weight\", \"feature_attr\": 0.08972327645313188, \"is_positive\": true}, {\"feature_name\": \"Pedigree\", \"method\": \"lime_weight\", \"feature_attr\": 0.1308383561680177, \"is_positive\": true}, {\"feature_name\": \"Age\", \"method\": \"lime_weight\", \"feature_attr\": 0.013505108382499789, \"is_positive\": true}, {\"feature_name\": \"Pregnant\", \"method\": \"lime_rank\", \"feature_attr\": 1.0, \"is_positive\": true}, {\"feature_name\": \"glucose\", \"method\": \"lime_rank\", \"feature_attr\": 8.0, \"is_positive\": true}, {\"feature_name\": \"blood pressure\", \"method\": \"lime_rank\", \"feature_attr\": 6.0, \"is_positive\": true}, {\"feature_name\": \"skin thickness\", \"method\": \"lime_rank\", \"feature_attr\": 3.0, \"is_positive\": true}, {\"feature_name\": \"Insulin Level\", \"method\": \"lime_rank\", \"feature_attr\": 5.0, \"is_positive\": true}, {\"feature_name\": \"BMI\", \"method\": \"lime_rank\", \"feature_attr\": 4.0, \"is_positive\": true}, {\"feature_name\": \"Pedigree\", \"method\": \"lime_rank\", \"feature_attr\": 7.0, \"is_positive\": true}, {\"feature_name\": \"Age\", \"method\": \"lime_rank\", \"feature_attr\": 2.0, \"is_positive\": true}, {\"feature_name\": \"Pregnant\", \"method\": \"ig_attr\", \"feature_attr\": 1.469322301036012, \"is_positive\": true}, {\"feature_name\": \"glucose\", \"method\": \"ig_attr\", \"feature_attr\": 1.2035803863382906, \"is_positive\": true}, {\"feature_name\": \"blood pressure\", \"method\": \"ig_attr\", \"feature_attr\": -0.10459479528955037, \"is_positive\": false}, {\"feature_name\": \"skin thickness\", \"method\": \"ig_attr\", \"feature_attr\": -0.31734451185553325, \"is_positive\": false}, {\"feature_name\": \"Insulin Level\", \"method\": \"ig_attr\", \"feature_attr\": 13.26722295182345, \"is_positive\": true}, {\"feature_name\": \"BMI\", \"method\": \"ig_attr\", \"feature_attr\": -0.402232442632995, \"is_positive\": false}, {\"feature_name\": \"Pedigree\", \"method\": \"ig_attr\", \"feature_attr\": -0.6797229855780585, \"is_positive\": false}, {\"feature_name\": \"Age\", \"method\": \"ig_attr\", \"feature_attr\": -1.6847371090175245, \"is_positive\": false}, {\"feature_name\": \"Pregnant\", \"method\": \"ig_rank\", \"feature_attr\": 6.0, \"is_positive\": true}, {\"feature_name\": \"glucose\", \"method\": \"ig_rank\", \"feature_attr\": 5.0, \"is_positive\": true}, {\"feature_name\": \"blood pressure\", \"method\": \"ig_rank\", \"feature_attr\": -1.0, \"is_positive\": false}, {\"feature_name\": \"skin thickness\", \"method\": \"ig_rank\", \"feature_attr\": -2.0, \"is_positive\": false}, {\"feature_name\": \"Insulin Level\", \"method\": \"ig_rank\", \"feature_attr\": 8.0, \"is_positive\": true}, {\"feature_name\": \"BMI\", \"method\": \"ig_rank\", \"feature_attr\": -3.0, \"is_positive\": false}, {\"feature_name\": \"Pedigree\", \"method\": \"ig_rank\", \"feature_attr\": -4.0, \"is_positive\": false}, {\"feature_name\": \"Age\", \"method\": \"ig_rank\", \"feature_attr\": -7.0, \"is_positive\": false}, {\"feature_name\": \"Pregnant\", \"method\": \"deepLift_attr\", \"feature_attr\": 1.9767849445343018, \"is_positive\": true}, {\"feature_name\": \"glucose\", \"method\": \"deepLift_attr\", \"feature_attr\": 1.5604712963104248, \"is_positive\": true}, {\"feature_name\": \"blood pressure\", \"method\": \"deepLift_attr\", \"feature_attr\": -0.6180611848831177, \"is_positive\": false}, {\"feature_name\": \"skin thickness\", \"method\": \"deepLift_attr\", \"feature_attr\": -0.08880429714918137, \"is_positive\": false}, {\"feature_name\": \"Insulin Level\", \"method\": \"deepLift_attr\", \"feature_attr\": 24.953094482421875, \"is_positive\": true}, {\"feature_name\": \"BMI\", \"method\": \"deepLift_attr\", \"feature_attr\": -0.06592676788568497, \"is_positive\": false}, {\"feature_name\": \"Pedigree\", \"method\": \"deepLift_attr\", \"feature_attr\": -0.04143955558538437, \"is_positive\": false}, {\"feature_name\": \"Age\", \"method\": \"deepLift_attr\", \"feature_attr\": -5.117910861968994, \"is_positive\": false}, {\"feature_name\": \"Pregnant\", \"method\": \"deepLift_rank\", \"feature_attr\": 6.0, \"is_positive\": true}, {\"feature_name\": \"glucose\", \"method\": \"deepLift_rank\", \"feature_attr\": 5.0, \"is_positive\": true}, {\"feature_name\": \"blood pressure\", \"method\": \"deepLift_rank\", \"feature_attr\": -4.0, \"is_positive\": false}, {\"feature_name\": \"skin thickness\", \"method\": \"deepLift_rank\", \"feature_attr\": -3.0, \"is_positive\": false}, {\"feature_name\": \"Insulin Level\", \"method\": \"deepLift_rank\", \"feature_attr\": 8.0, \"is_positive\": true}, {\"feature_name\": \"BMI\", \"method\": \"deepLift_rank\", \"feature_attr\": -2.0, \"is_positive\": false}, {\"feature_name\": \"Pedigree\", \"method\": \"deepLift_rank\", \"feature_attr\": -1.0, \"is_positive\": false}, {\"feature_name\": \"Age\", \"method\": \"deepLift_rank\", \"feature_attr\": -7.0, \"is_positive\": false}, {\"feature_name\": \"Pregnant\", \"method\": \"sum_rank\", \"feature_attr\": 19.0, \"is_positive\": true}, {\"feature_name\": \"glucose\", \"method\": \"sum_rank\", \"feature_attr\": 25.0, \"is_positive\": true}, {\"feature_name\": \"blood pressure\", \"method\": \"sum_rank\", \"feature_attr\": 12.0, \"is_positive\": true}, {\"feature_name\": \"skin thickness\", \"method\": \"sum_rank\", \"feature_attr\": 10.0, \"is_positive\": true}, {\"feature_name\": \"Insulin Level\", \"method\": \"sum_rank\", \"feature_attr\": 29.0, \"is_positive\": true}, {\"feature_name\": \"BMI\", \"method\": \"sum_rank\", \"feature_attr\": 13.0, \"is_positive\": true}, {\"feature_name\": \"Pedigree\", \"method\": \"sum_rank\", \"feature_attr\": 15.0, \"is_positive\": true}, {\"feature_name\": \"Age\", \"method\": \"sum_rank\", \"feature_attr\": 21.0, \"is_positive\": true}]}}, {\"mode\": \"vega-lite\"});\n",
       "</script>"
      ],
      "text/plain": [
       "alt.HConcatChart(...)"
      ]
     },
     "execution_count": 6,
     "metadata": {},
     "output_type": "execute_result"
    }
   ],
   "source": [
    "# Show the visualization \n",
    "data_index = 400\n",
    "feature_attr_and_rank_plot(data_index)"
   ]
  },
  {
   "cell_type": "code",
   "execution_count": null,
   "metadata": {},
   "outputs": [],
   "source": []
  }
 ],
 "metadata": {
  "kernelspec": {
   "display_name": "Python 3.8.15 ('vis4ml')",
   "language": "python",
   "name": "python3"
  },
  "language_info": {
   "codemirror_mode": {
    "name": "ipython",
    "version": 3
   },
   "file_extension": ".py",
   "mimetype": "text/x-python",
   "name": "python",
   "nbconvert_exporter": "python",
   "pygments_lexer": "ipython3",
   "version": "3.8.15"
  },
  "orig_nbformat": 4,
  "vscode": {
   "interpreter": {
    "hash": "1c02c939410ebc10a86bdbf7d3fc1c83f7b87f74a50e518f4e9691bb7f5c61a6"
   }
  }
 },
 "nbformat": 4,
 "nbformat_minor": 2
}
