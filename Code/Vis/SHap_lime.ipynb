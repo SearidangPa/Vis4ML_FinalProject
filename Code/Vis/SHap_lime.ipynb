{
 "cells": [
  {
   "cell_type": "code",
   "execution_count": null,
   "id": "d285ac7f",
   "metadata": {},
   "outputs": [],
   "source": [
    "import pandas as pd\n",
    "import pmlb\n",
    "import altair as alt\n",
    "import numpy as np\n",
    "import os\n",
    "import pickle\n",
    "import joblib"
   ]
  },
  {
   "cell_type": "code",
   "execution_count": null,
   "id": "682b54a2",
   "metadata": {},
   "outputs": [],
   "source": [
    "from imblearn.over_sampling import SMOTE\n",
    "from sklearn.model_selection import train_test_split, GridSearchCV\n",
    "from sklearn.neighbors import KNeighborsClassifier\n",
    "from sklearn.metrics import confusion_matrix, ConfusionMatrixDisplay, accuracy_score\n",
    "from sklearn.neural_network import MLPClassifier\n",
    "from sklearn.ensemble import RandomForestClassifier, AdaBoostClassifier"
   ]
  },
  {
   "cell_type": "code",
   "execution_count": null,
   "id": "a440f768",
   "metadata": {},
   "outputs": [],
   "source": [
    "import shap\n",
    "from lime import lime_tabular\n",
    "import xgboost "
   ]
  },
  {
   "cell_type": "markdown",
   "id": "f07e2d4c",
   "metadata": {},
   "source": [
    "## Data Preparation"
   ]
  },
  {
   "cell_type": "code",
   "execution_count": null,
   "id": "401e848e",
   "metadata": {},
   "outputs": [],
   "source": [
    "df = pmlb.fetch_data('pima')"
   ]
  },
  {
   "cell_type": "code",
   "execution_count": null,
   "id": "c36ada40",
   "metadata": {},
   "outputs": [],
   "source": [
    "# impute the missing input feature values with the median of the target class  \n",
    "imputeFeatures = ['plasma glucose', 'Diastolic blood pressure', 'Triceps skin fold thickness', 'Body mass index', '2-Hour serum insulin']\n",
    "for feature in imputeFeatures:\n",
    "    df.loc[(df.target==0) & (df[feature] == 0), feature] = df[df.target==0][feature].median()\n",
    "    df.loc[(df.target==1) & (df[feature] == 0), feature] = df[df.target==1][feature].median()"
   ]
  },
  {
   "cell_type": "code",
   "execution_count": null,
   "id": "8815bfd4",
   "metadata": {},
   "outputs": [],
   "source": [
    "# split\n",
    "X = df.drop(['target'], axis=1)\n",
    "Y = df['target']\n",
    "X_train, X_test, y_train, y_test = train_test_split(X, Y, test_size=0.25, random_state=42)"
   ]
  },
  {
   "cell_type": "markdown",
   "id": "97a4e479",
   "metadata": {},
   "source": [
    "## Machine Learning Modelling"
   ]
  },
  {
   "cell_type": "code",
   "execution_count": null,
   "id": "1618b020",
   "metadata": {},
   "outputs": [],
   "source": [
    "Load_Trained_Model = True \n",
    "model_filename = 'SavedWeights/model.sav'"
   ]
  },
  {
   "cell_type": "code",
   "execution_count": null,
   "id": "99f10bc0",
   "metadata": {},
   "outputs": [],
   "source": [
    "os = SMOTE(random_state=42)\n",
    "Aug_X, Aug_Y = os.fit_resample(X_train, y_train.ravel())\n",
    "\n",
    "if Load_Trained_Model:\n",
    "    model = pickle.load(open(model_filename, 'rb'))\n",
    "else: # train the model\n",
    "    model = xgboost.XGBClassifier(random_state = 42)\n",
    "    model.fit(Aug_X, Aug_Y)\n",
    "    pickle.dump(model, open(model_filename, 'wb'))"
   ]
  },
  {
   "cell_type": "code",
   "execution_count": null,
   "id": "8ca40541",
   "metadata": {},
   "outputs": [],
   "source": [
    "# train accuracy\n",
    "pred_train = model.predict(X_train)\n",
    "print(\"train accuracy: \", accuracy_score(pred_train, y_train))\n",
    "\n",
    "# test accuracy\n",
    "pred_test = model.predict(X_test)\n",
    "print(\"test accuracy: \", accuracy_score(pred_test, y_test))"
   ]
  },
  {
   "cell_type": "code",
   "execution_count": null,
   "id": "62d22a71",
   "metadata": {},
   "outputs": [],
   "source": [
    "# Get the correct and incorrect prediction to a dataframe  \n",
    "df_test = X_test.copy()\n",
    "df_test['prediction'] = pred_test\n",
    "df_test['target'] = y_test\n",
    "df_test['correct'] = (df_test['prediction'] == df_test['target'])"
   ]
  },
  {
   "cell_type": "code",
   "execution_count": null,
   "id": "0f0c4bf8",
   "metadata": {},
   "outputs": [],
   "source": [
    "# Get all predictions into the dataframe\n",
    "df['healthy_prediction_proba'] = model.predict_proba(X)[:, 0]"
   ]
  },
  {
   "cell_type": "markdown",
   "id": "d15bd7e9",
   "metadata": {},
   "source": [
    "## Confusion Matrix\n",
    "\n"
   ]
  },
  {
   "cell_type": "code",
   "execution_count": null,
   "id": "a4aceb15",
   "metadata": {},
   "outputs": [],
   "source": [
    "cm = df_test.groupby(['target', 'prediction'], as_index=False).size()"
   ]
  },
  {
   "cell_type": "code",
   "execution_count": null,
   "id": "50b8b16a",
   "metadata": {},
   "outputs": [],
   "source": [
    "cm_rc = cm.replace({0: 'healthy', 1: 'diabetic'})\n",
    "\n",
    "base = alt.Chart(cm_rc).encode(\n",
    "    x=alt.X('prediction:N', title='predicted class'),\n",
    "    y=alt.Y('target:N', title='actual class'),\n",
    ").properties(\n",
    "    width={'step': 100},\n",
    "    height={'step': 100}\n",
    ")\n",
    "\n",
    "rect = base.mark_square().encode(\n",
    "    color=alt.Color('prediction', legend=None),\n",
    "    opacity=alt.Opacity('size', legend=None),\n",
    "    size='size:Q'\n",
    ")\n",
    "\n",
    "text = base.mark_text().encode(\n",
    "    text='size',\n",
    ")\n",
    "\n",
    "rect + text"
   ]
  },
  {
   "cell_type": "markdown",
   "id": "f10717e0",
   "metadata": {},
   "source": [
    "## Calculating SHAP and LIME Weights"
   ]
  },
  {
   "cell_type": "code",
   "execution_count": null,
   "id": "3ebe442c",
   "metadata": {},
   "outputs": [],
   "source": [
    "Load_Shap_Values = True\n",
    "Load_Lime_Values = False\n",
    "shap_filename = 'SavedWeights/shapValue.pkl'\n",
    "lime_value_filename = 'SavedWeights/limeValue.pkl'\n",
    "lime_expData_filename = 'SavedWeights/limeData.pkl'\n"
   ]
  },
  {
   "cell_type": "markdown",
   "id": "b292fa55",
   "metadata": {},
   "source": [
    "### Extract SHAP values \n"
   ]
  },
  {
   "cell_type": "code",
   "execution_count": null,
   "id": "56f5a627",
   "metadata": {},
   "outputs": [],
   "source": [
    "# Extract SHAP values \n",
    "if Load_Shap_Values: # load the explanation too\n",
    "    shap_values = pickle.load(open(shap_filename, 'rb'))\n",
    "else: # compute the shap values\n",
    "    # Fits the explainer\n",
    "    explainer = shap.Explainer(model.predict, X)\n",
    "    # Calculates the SHAP values - It takes some time\n",
    "    shap_values = explainer(X)\n",
    "    pickle.dump(shap_values, open(shap_filename, \"wb\"))"
   ]
  },
  {
   "cell_type": "code",
   "execution_count": null,
   "id": "8529b86c",
   "metadata": {},
   "outputs": [],
   "source": [
    "# Embed the shap values into a dataframe\n",
    "feature_names = X.columns\n",
    "shap_df = pd.DataFrame(shap_values.values, columns = feature_names)"
   ]
  },
  {
   "cell_type": "markdown",
   "id": "5452a2ab",
   "metadata": {},
   "source": [
    "### Extract LIME values\n"
   ]
  },
  {
   "cell_type": "code",
   "execution_count": null,
   "id": "2668f7ca",
   "metadata": {},
   "outputs": [],
   "source": [
    "# get the weights of each feature of the instance explanation \n",
    "def get_weights(exp): \n",
    "    exp_list = exp.as_map()[1]\n",
    "    exp_list = sorted(exp_list, key=lambda x: x[0])\n",
    "    exp_weight = [x[1] for x in exp_list]\n",
    "    return exp_weight"
   ]
  },
  {
   "cell_type": "code",
   "execution_count": null,
   "id": "f75b9a72",
   "metadata": {},
   "outputs": [],
   "source": [
    "if Load_Lime_Values: # load the explanation too\n",
    "    lime_df = pickle.load(open(lime_value_filename, 'rb'))\n",
    "    exp_df = pickle.load(open(lime_expData_filename, 'rb'))\n",
    "else:\n",
    "    lime_explainer = lime_tabular.LimeTabularExplainer(\n",
    "        training_data=np.array(X),\n",
    "        feature_names=X.columns,\n",
    "        mode='classification',\n",
    "        kernel_width = 0.7,\n",
    "        random_state = 42\n",
    "    )\n",
    "    # Get all the weights of all instances from LIME explanation object\n",
    "    weights = []\n",
    "    list_exp_data = []\n",
    "    for i in range(X.values.shape[0]):\n",
    "        exp = lime_explainer.explain_instance(\n",
    "            data_row=X.values[i],\n",
    "            num_samples = 700,\n",
    "            predict_fn=model.predict_proba\n",
    "        )\n",
    "        # Get weights\n",
    "        exp_weight = get_weights(exp)\n",
    "        weights.append(exp_weight)\n",
    "        exp_data = [exp.score, exp.intercept[1], exp.local_pred, model.predict_proba(X.iloc[i:i+1])[0][1]]\n",
    "        list_exp_data.append(exp_data)\n",
    "\n",
    "    # Create DataFrame\n",
    "    lime_df = pd.DataFrame(data=weights, columns=X.columns)\n",
    "    exp_df = pd.DataFrame(data=list_exp_data, columns=['score','intercept','local_pred', 'model_pred'])\n",
    "    pickle.dump(lime_df, open(lime_value_filename, \"wb\"))\n",
    "    pickle.dump(exp_df, open(lime_expData_filename, \"wb\"))\n",
    "    "
   ]
  },
  {
   "cell_type": "code",
   "execution_count": null,
   "id": "319952db",
   "metadata": {},
   "outputs": [],
   "source": [
    "exp_df[(exp_df['local_pred'] > 0.5) & (exp_df['model_pred'] < 0.5)]"
   ]
  },
  {
   "cell_type": "code",
   "execution_count": null,
   "id": "9083465b",
   "metadata": {},
   "outputs": [],
   "source": [
    "exp_df[(exp_df['local_pred'] < 0.5) & (exp_df['model_pred'] > 0.5)]"
   ]
  },
  {
   "cell_type": "markdown",
   "id": "f43be361",
   "metadata": {},
   "source": [
    "## Explanation Analysis: Overall Feature Importance Weights"
   ]
  },
  {
   "cell_type": "code",
   "execution_count": null,
   "id": "d0c1af66",
   "metadata": {},
   "outputs": [],
   "source": [
    "mean_shap = pd.DataFrame(shap_df.abs().mean()).reset_index()\n",
    "mean_shap.columns = ['feature', 'value']\n",
    "shap_mean_chart = alt.Chart(mean_shap).mark_bar().encode(\n",
    "    y=alt.Y('feature', sort='-x'),\n",
    "    x=alt.X('value', title='mean absolute shap value'),\n",
    "    color = alt.value('purple')\n",
    ")\n",
    "\n",
    "mean_lime = pd.DataFrame(lime_df.abs().mean()).reset_index()\n",
    "mean_lime.columns = ['feature', 'value']\n",
    "lime_mean_chart = alt.Chart(mean_lime).mark_bar().encode(\n",
    "    y=alt.Y('feature', sort='-x'),\n",
    "    x=alt.X('value', title='mean absolute lime value'),\n",
    "    color = alt.value('orange')\n",
    ")\n",
    "\n",
    "shap_mean_chart | lime_mean_chart "
   ]
  },
  {
   "cell_type": "markdown",
   "id": "69c1593d",
   "metadata": {},
   "source": [
    "## Explanation Analysis: Instance Level"
   ]
  },
  {
   "cell_type": "markdown",
   "id": "bffe4890",
   "metadata": {},
   "source": [
    "### Break down the explanation weights into per feature value  "
   ]
  },
  {
   "cell_type": "code",
   "execution_count": null,
   "id": "6f692ff9",
   "metadata": {},
   "outputs": [],
   "source": [
    "feature_important_weights = X.melt(ignore_index=False)\n",
    "feature_important_weights.columns = ['feature', 'feature_value']\n",
    "\n",
    "# shap value for each feature value \n",
    "shapley_values = shap_df.melt(ignore_index=False)\n",
    "feature_important_weights['shap_value'] = shapley_values['value']\n",
    "\n",
    "# lime weight for each feature value\n",
    "lime_weights = lime_df.melt(ignore_index=False)\n",
    "feature_important_weights['lime_weights'] = lime_weights['value'] "
   ]
  },
  {
   "cell_type": "code",
   "execution_count": null,
   "id": "97c49608",
   "metadata": {},
   "outputs": [],
   "source": [
    "def plot_Shap_contribution(values):\n",
    "    values = values.copy()\n",
    "    \n",
    "    values['is_positive'] = values['shap_value'] > 0\n",
    "    values['feature_and_value'] = values['feature'] + ' = ' + values['feature_value'].astype(str)\n",
    "    \n",
    "    bars = alt.Chart(values).mark_bar().encode(\n",
    "        y=alt.Y('feature_and_value'),\n",
    "        x='shap_value',\n",
    "        color=alt.Color('is_positive', legend=None, scale=alt.Scale(range=['crimson', 'steelblue']))\n",
    "    )\n",
    "    \n",
    "    return bars"
   ]
  },
  {
   "cell_type": "code",
   "execution_count": null,
   "id": "b1110344",
   "metadata": {},
   "outputs": [],
   "source": [
    "def plot_lime_contribution(values):\n",
    "    values = values.copy()\n",
    "    \n",
    "    values['is_positive'] = values['lime_weights'] > 0\n",
    "    values['feature_and_value'] = values['feature'] + ' = ' + values['feature_value'].astype(str)\n",
    "    \n",
    "    bars = alt.Chart(values).mark_bar().encode(\n",
    "        y=alt.Y('feature_and_value'),\n",
    "        x='lime_weights',\n",
    "        color=alt.Color('is_positive', legend=None, scale=alt.Scale(range=['crimson', 'steelblue']))\n",
    "    )\n",
    "    \n",
    "    return bars"
   ]
  },
  {
   "cell_type": "code",
   "execution_count": null,
   "id": "e2a46d54",
   "metadata": {},
   "outputs": [],
   "source": [
    "# feature attribution for an instance by LIME and SHAP \n",
    "i = 725\n",
    "plot_Shap_contribution(feature_important_weights.loc[i]) | plot_lime_contribution(feature_important_weights.loc[i]) "
   ]
  },
  {
   "cell_type": "code",
   "execution_count": null,
   "id": "f56216ba",
   "metadata": {},
   "outputs": [],
   "source": [
    "exp_df"
   ]
  },
  {
   "cell_type": "code",
   "execution_count": null,
   "id": "82a2d9ac",
   "metadata": {},
   "outputs": [],
   "source": []
  },
  {
   "cell_type": "code",
   "execution_count": null,
   "id": "c9b214a0",
   "metadata": {},
   "outputs": [],
   "source": []
  },
  {
   "cell_type": "code",
   "execution_count": null,
   "id": "02f0d00f",
   "metadata": {},
   "outputs": [],
   "source": []
  },
  {
   "cell_type": "code",
   "execution_count": null,
   "id": "1a3aa265",
   "metadata": {},
   "outputs": [],
   "source": []
  },
  {
   "cell_type": "code",
   "execution_count": null,
   "id": "05cbf876",
   "metadata": {},
   "outputs": [],
   "source": []
  },
  {
   "cell_type": "code",
   "execution_count": null,
   "id": "6dacbccc",
   "metadata": {},
   "outputs": [],
   "source": []
  },
  {
   "cell_type": "code",
   "execution_count": null,
   "id": "ec2b7ebc",
   "metadata": {},
   "outputs": [],
   "source": []
  },
  {
   "cell_type": "code",
   "execution_count": null,
   "id": "a2b345a5",
   "metadata": {},
   "outputs": [],
   "source": []
  },
  {
   "cell_type": "code",
   "execution_count": null,
   "id": "665cb2cd",
   "metadata": {},
   "outputs": [],
   "source": [
    "# Summary Strip Plot"
   ]
  }
 ],
 "metadata": {
  "kernelspec": {
   "display_name": "Python 3.9.6 64-bit",
   "language": "python",
   "name": "python3"
  },
  "language_info": {
   "codemirror_mode": {
    "name": "ipython",
    "version": 3
   },
   "file_extension": ".py",
   "mimetype": "text/x-python",
   "name": "python",
   "nbconvert_exporter": "python",
   "pygments_lexer": "ipython3",
   "version": "3.9.6"
  },
  "vscode": {
   "interpreter": {
    "hash": "31f2aee4e71d21fbe5cf8b01ff0e069b9275f58929596ceb00d14d90e3e16cd6"
   }
  }
 },
 "nbformat": 4,
 "nbformat_minor": 5
}
